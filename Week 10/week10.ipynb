{
 "metadata": {
  "language_info": {
   "codemirror_mode": {
    "name": "ipython",
    "version": 3
   },
   "file_extension": ".py",
   "mimetype": "text/x-python",
   "name": "python",
   "nbconvert_exporter": "python",
   "pygments_lexer": "ipython3",
   "version": "3.8.5-final"
  },
  "orig_nbformat": 2,
  "kernelspec": {
   "name": "python3",
   "display_name": "Python 3.8.5 64-bit",
   "metadata": {
    "interpreter": {
     "hash": "2db524e06e9f5f4ffedc911c917cb75e12dbc923643829bf417064a77eb14d37"
    }
   }
  }
 },
 "nbformat": 4,
 "nbformat_minor": 2,
 "cells": [
  {
   "cell_type": "code",
   "execution_count": 1,
   "metadata": {},
   "outputs": [],
   "source": [
    "import pandas as pd\n",
    "import numpy as np"
   ]
  },
  {
   "source": [
    "# Creating Dataframe Objects"
   ],
   "cell_type": "markdown",
   "metadata": {}
  },
  {
   "cell_type": "code",
   "execution_count": 5,
   "metadata": {},
   "outputs": [],
   "source": [
    "arr = np.random.randint(0,10,(5,3))"
   ]
  },
  {
   "cell_type": "code",
   "execution_count": 6,
   "metadata": {},
   "outputs": [
    {
     "output_type": "execute_result",
     "data": {
      "text/plain": [
       "array([[6, 4, 5],\n",
       "       [7, 1, 1],\n",
       "       [7, 2, 2],\n",
       "       [2, 0, 4],\n",
       "       [8, 3, 9]])"
      ]
     },
     "metadata": {},
     "execution_count": 6
    }
   ],
   "source": [
    "arr"
   ]
  },
  {
   "cell_type": "code",
   "execution_count": 8,
   "metadata": {},
   "outputs": [],
   "source": [
    "df =  pd.DataFrame(arr)"
   ]
  },
  {
   "cell_type": "code",
   "execution_count": 9,
   "metadata": {},
   "outputs": [
    {
     "output_type": "execute_result",
     "data": {
      "text/plain": [
       "   0  1  2\n",
       "0  6  4  5\n",
       "1  7  1  1\n",
       "2  7  2  2\n",
       "3  2  0  4\n",
       "4  8  3  9"
      ],
      "text/html": "<div>\n<style scoped>\n    .dataframe tbody tr th:only-of-type {\n        vertical-align: middle;\n    }\n\n    .dataframe tbody tr th {\n        vertical-align: top;\n    }\n\n    .dataframe thead th {\n        text-align: right;\n    }\n</style>\n<table border=\"1\" class=\"dataframe\">\n  <thead>\n    <tr style=\"text-align: right;\">\n      <th></th>\n      <th>0</th>\n      <th>1</th>\n      <th>2</th>\n    </tr>\n  </thead>\n  <tbody>\n    <tr>\n      <th>0</th>\n      <td>6</td>\n      <td>4</td>\n      <td>5</td>\n    </tr>\n    <tr>\n      <th>1</th>\n      <td>7</td>\n      <td>1</td>\n      <td>1</td>\n    </tr>\n    <tr>\n      <th>2</th>\n      <td>7</td>\n      <td>2</td>\n      <td>2</td>\n    </tr>\n    <tr>\n      <th>3</th>\n      <td>2</td>\n      <td>0</td>\n      <td>4</td>\n    </tr>\n    <tr>\n      <th>4</th>\n      <td>8</td>\n      <td>3</td>\n      <td>9</td>\n    </tr>\n  </tbody>\n</table>\n</div>"
     },
     "metadata": {},
     "execution_count": 9
    }
   ],
   "source": [
    "df"
   ]
  },
  {
   "cell_type": "code",
   "execution_count": 10,
   "metadata": {},
   "outputs": [
    {
     "output_type": "execute_result",
     "data": {
      "text/plain": [
       "array([[6, 4, 5],\n",
       "       [7, 1, 1],\n",
       "       [7, 2, 2],\n",
       "       [2, 0, 4],\n",
       "       [8, 3, 9]])"
      ]
     },
     "metadata": {},
     "execution_count": 10
    }
   ],
   "source": [
    "df.values"
   ]
  },
  {
   "cell_type": "code",
   "execution_count": 13,
   "metadata": {},
   "outputs": [
    {
     "output_type": "execute_result",
     "data": {
      "text/plain": [
       "RangeIndex(start=0, stop=5, step=1)"
      ]
     },
     "metadata": {},
     "execution_count": 13
    }
   ],
   "source": [
    "df.index"
   ]
  },
  {
   "cell_type": "code",
   "execution_count": 14,
   "metadata": {},
   "outputs": [
    {
     "output_type": "execute_result",
     "data": {
      "text/plain": [
       "RangeIndex(start=0, stop=3, step=1)"
      ]
     },
     "metadata": {},
     "execution_count": 14
    }
   ],
   "source": [
    "df.columns"
   ]
  },
  {
   "cell_type": "code",
   "execution_count": 15,
   "metadata": {},
   "outputs": [
    {
     "output_type": "stream",
     "name": "stdout",
     "text": [
      "0\n1\n2\n"
     ]
    }
   ],
   "source": [
    "for i in df.columns:\n",
    "    print(i)"
   ]
  },
  {
   "cell_type": "code",
   "execution_count": 16,
   "metadata": {},
   "outputs": [
    {
     "output_type": "execute_result",
     "data": {
      "text/plain": [
       "array([6, 4, 5])"
      ]
     },
     "metadata": {},
     "execution_count": 16
    }
   ],
   "source": [
    "df.values[0]"
   ]
  },
  {
   "cell_type": "code",
   "execution_count": 18,
   "metadata": {},
   "outputs": [],
   "source": [
    "df.index = [\"R1\", \"R2\", \"R3\", \"R4\", \"R5\"]\n",
    "df.columns = [\"C1\", \"C2\", \"C3\"]"
   ]
  },
  {
   "cell_type": "code",
   "execution_count": 19,
   "metadata": {},
   "outputs": [
    {
     "output_type": "execute_result",
     "data": {
      "text/plain": [
       "    C1  C2  C3\n",
       "R1   6   4   5\n",
       "R2   7   1   1\n",
       "R3   7   2   2\n",
       "R4   2   0   4\n",
       "R5   8   3   9"
      ],
      "text/html": "<div>\n<style scoped>\n    .dataframe tbody tr th:only-of-type {\n        vertical-align: middle;\n    }\n\n    .dataframe tbody tr th {\n        vertical-align: top;\n    }\n\n    .dataframe thead th {\n        text-align: right;\n    }\n</style>\n<table border=\"1\" class=\"dataframe\">\n  <thead>\n    <tr style=\"text-align: right;\">\n      <th></th>\n      <th>C1</th>\n      <th>C2</th>\n      <th>C3</th>\n    </tr>\n  </thead>\n  <tbody>\n    <tr>\n      <th>R1</th>\n      <td>6</td>\n      <td>4</td>\n      <td>5</td>\n    </tr>\n    <tr>\n      <th>R2</th>\n      <td>7</td>\n      <td>1</td>\n      <td>1</td>\n    </tr>\n    <tr>\n      <th>R3</th>\n      <td>7</td>\n      <td>2</td>\n      <td>2</td>\n    </tr>\n    <tr>\n      <th>R4</th>\n      <td>2</td>\n      <td>0</td>\n      <td>4</td>\n    </tr>\n    <tr>\n      <th>R5</th>\n      <td>8</td>\n      <td>3</td>\n      <td>9</td>\n    </tr>\n  </tbody>\n</table>\n</div>"
     },
     "metadata": {},
     "execution_count": 19
    }
   ],
   "source": [
    "df"
   ]
  },
  {
   "cell_type": "code",
   "execution_count": 21,
   "metadata": {},
   "outputs": [
    {
     "output_type": "execute_result",
     "data": {
      "text/plain": [
       "2"
      ]
     },
     "metadata": {},
     "execution_count": 21
    }
   ],
   "source": [
    "df.loc['R3','C2']"
   ]
  },
  {
   "cell_type": "code",
   "execution_count": 22,
   "metadata": {},
   "outputs": [
    {
     "output_type": "execute_result",
     "data": {
      "text/plain": [
       "2"
      ]
     },
     "metadata": {},
     "execution_count": 22
    }
   ],
   "source": [
    "df.iloc[2,1]"
   ]
  },
  {
   "cell_type": "code",
   "execution_count": 23,
   "metadata": {},
   "outputs": [
    {
     "output_type": "execute_result",
     "data": {
      "text/plain": [
       "    C2  C3\n",
       "R3   2   2\n",
       "R4   0   4"
      ],
      "text/html": "<div>\n<style scoped>\n    .dataframe tbody tr th:only-of-type {\n        vertical-align: middle;\n    }\n\n    .dataframe tbody tr th {\n        vertical-align: top;\n    }\n\n    .dataframe thead th {\n        text-align: right;\n    }\n</style>\n<table border=\"1\" class=\"dataframe\">\n  <thead>\n    <tr style=\"text-align: right;\">\n      <th></th>\n      <th>C2</th>\n      <th>C3</th>\n    </tr>\n  </thead>\n  <tbody>\n    <tr>\n      <th>R3</th>\n      <td>2</td>\n      <td>2</td>\n    </tr>\n    <tr>\n      <th>R4</th>\n      <td>0</td>\n      <td>4</td>\n    </tr>\n  </tbody>\n</table>\n</div>"
     },
     "metadata": {},
     "execution_count": 23
    }
   ],
   "source": [
    "df.iloc[2:4,1:3]"
   ]
  },
  {
   "cell_type": "code",
   "execution_count": 25,
   "metadata": {},
   "outputs": [
    {
     "output_type": "execute_result",
     "data": {
      "text/plain": [
       "pandas.core.frame.DataFrame"
      ]
     },
     "metadata": {},
     "execution_count": 25
    }
   ],
   "source": [
    "type(df.iloc[2:4,1:3])"
   ]
  },
  {
   "cell_type": "code",
   "execution_count": 27,
   "metadata": {},
   "outputs": [
    {
     "output_type": "execute_result",
     "data": {
      "text/plain": [
       "    C1  C2\n",
       "R3   7   2\n",
       "R4   2   0\n",
       "R5   8   3"
      ],
      "text/html": "<div>\n<style scoped>\n    .dataframe tbody tr th:only-of-type {\n        vertical-align: middle;\n    }\n\n    .dataframe tbody tr th {\n        vertical-align: top;\n    }\n\n    .dataframe thead th {\n        text-align: right;\n    }\n</style>\n<table border=\"1\" class=\"dataframe\">\n  <thead>\n    <tr style=\"text-align: right;\">\n      <th></th>\n      <th>C1</th>\n      <th>C2</th>\n    </tr>\n  </thead>\n  <tbody>\n    <tr>\n      <th>R3</th>\n      <td>7</td>\n      <td>2</td>\n    </tr>\n    <tr>\n      <th>R4</th>\n      <td>2</td>\n      <td>0</td>\n    </tr>\n    <tr>\n      <th>R5</th>\n      <td>8</td>\n      <td>3</td>\n    </tr>\n  </tbody>\n</table>\n</div>"
     },
     "metadata": {},
     "execution_count": 27
    }
   ],
   "source": [
    "df.loc['R3':'R5', 'C1':'C2'] #last element also considered"
   ]
  },
  {
   "cell_type": "code",
   "execution_count": 28,
   "metadata": {},
   "outputs": [
    {
     "output_type": "execute_result",
     "data": {
      "text/plain": [
       "C1    6\n",
       "C2    4\n",
       "C3    5\n",
       "Name: R1, dtype: int32"
      ]
     },
     "metadata": {},
     "execution_count": 28
    }
   ],
   "source": [
    "df.iloc[0] #returns a series"
   ]
  },
  {
   "cell_type": "code",
   "execution_count": 29,
   "metadata": {},
   "outputs": [
    {
     "output_type": "execute_result",
     "data": {
      "text/plain": [
       "pandas.core.series.Series"
      ]
     },
     "metadata": {},
     "execution_count": 29
    }
   ],
   "source": [
    "type(df.iloc[0])"
   ]
  },
  {
   "cell_type": "code",
   "execution_count": 30,
   "metadata": {},
   "outputs": [
    {
     "output_type": "execute_result",
     "data": {
      "text/plain": [
       "R1    6\n",
       "R2    7\n",
       "R3    7\n",
       "R4    2\n",
       "R5    8\n",
       "Name: C1, dtype: int32"
      ]
     },
     "metadata": {},
     "execution_count": 30
    }
   ],
   "source": [
    "df.iloc[:,0]"
   ]
  },
  {
   "cell_type": "code",
   "execution_count": 31,
   "metadata": {},
   "outputs": [
    {
     "output_type": "execute_result",
     "data": {
      "text/plain": [
       "(5, 3)"
      ]
     },
     "metadata": {},
     "execution_count": 31
    }
   ],
   "source": [
    "df.shape"
   ]
  },
  {
   "cell_type": "code",
   "execution_count": 32,
   "metadata": {},
   "outputs": [
    {
     "output_type": "execute_result",
     "data": {
      "text/plain": [
       "    R1  R2  R3  R4  R5\n",
       "C1   6   7   7   2   8\n",
       "C2   4   1   2   0   3\n",
       "C3   5   1   2   4   9"
      ],
      "text/html": "<div>\n<style scoped>\n    .dataframe tbody tr th:only-of-type {\n        vertical-align: middle;\n    }\n\n    .dataframe tbody tr th {\n        vertical-align: top;\n    }\n\n    .dataframe thead th {\n        text-align: right;\n    }\n</style>\n<table border=\"1\" class=\"dataframe\">\n  <thead>\n    <tr style=\"text-align: right;\">\n      <th></th>\n      <th>R1</th>\n      <th>R2</th>\n      <th>R3</th>\n      <th>R4</th>\n      <th>R5</th>\n    </tr>\n  </thead>\n  <tbody>\n    <tr>\n      <th>C1</th>\n      <td>6</td>\n      <td>7</td>\n      <td>7</td>\n      <td>2</td>\n      <td>8</td>\n    </tr>\n    <tr>\n      <th>C2</th>\n      <td>4</td>\n      <td>1</td>\n      <td>2</td>\n      <td>0</td>\n      <td>3</td>\n    </tr>\n    <tr>\n      <th>C3</th>\n      <td>5</td>\n      <td>1</td>\n      <td>2</td>\n      <td>4</td>\n      <td>9</td>\n    </tr>\n  </tbody>\n</table>\n</div>"
     },
     "metadata": {},
     "execution_count": 32
    }
   ],
   "source": [
    "df.T"
   ]
  },
  {
   "source": [
    "Task:\n",
    "\n",
    "Create a dataframe with n rows and m columns with random numbers bw 0 and 10"
   ],
   "cell_type": "markdown",
   "metadata": {}
  },
  {
   "cell_type": "code",
   "execution_count": 4,
   "metadata": {},
   "outputs": [],
   "source": [
    "def df_create(n,m):\n",
    "    arr = np.random.randint(0,10,(n,m))\n",
    "    df = pd.DataFrame(arr)\n",
    "    df.index = ['R' + str(x) for x in np.arange(1,n+1)]\n",
    "    df.columns = ['C' + str(x) for x in np.arange(1,m+1)]\n",
    "    return df"
   ]
  },
  {
   "cell_type": "code",
   "execution_count": 42,
   "metadata": {},
   "outputs": [
    {
     "output_type": "execute_result",
     "data": {
      "text/plain": [
       "    C1  C2  C3\n",
       "R1   1   5   6\n",
       "R2   1   4   8\n",
       "R3   7   9   7\n",
       "R4   4   6   6\n",
       "R5   5   2   7"
      ],
      "text/html": "<div>\n<style scoped>\n    .dataframe tbody tr th:only-of-type {\n        vertical-align: middle;\n    }\n\n    .dataframe tbody tr th {\n        vertical-align: top;\n    }\n\n    .dataframe thead th {\n        text-align: right;\n    }\n</style>\n<table border=\"1\" class=\"dataframe\">\n  <thead>\n    <tr style=\"text-align: right;\">\n      <th></th>\n      <th>C1</th>\n      <th>C2</th>\n      <th>C3</th>\n    </tr>\n  </thead>\n  <tbody>\n    <tr>\n      <th>R1</th>\n      <td>1</td>\n      <td>5</td>\n      <td>6</td>\n    </tr>\n    <tr>\n      <th>R2</th>\n      <td>1</td>\n      <td>4</td>\n      <td>8</td>\n    </tr>\n    <tr>\n      <th>R3</th>\n      <td>7</td>\n      <td>9</td>\n      <td>7</td>\n    </tr>\n    <tr>\n      <th>R4</th>\n      <td>4</td>\n      <td>6</td>\n      <td>6</td>\n    </tr>\n    <tr>\n      <th>R5</th>\n      <td>5</td>\n      <td>2</td>\n      <td>7</td>\n    </tr>\n  </tbody>\n</table>\n</div>"
     },
     "metadata": {},
     "execution_count": 42
    }
   ],
   "source": [
    "df_create(5,3)"
   ]
  },
  {
   "cell_type": "code",
   "execution_count": 43,
   "metadata": {},
   "outputs": [
    {
     "output_type": "execute_result",
     "data": {
      "text/plain": [
       "    C1  C2\n",
       "R1   5   8"
      ],
      "text/html": "<div>\n<style scoped>\n    .dataframe tbody tr th:only-of-type {\n        vertical-align: middle;\n    }\n\n    .dataframe tbody tr th {\n        vertical-align: top;\n    }\n\n    .dataframe thead th {\n        text-align: right;\n    }\n</style>\n<table border=\"1\" class=\"dataframe\">\n  <thead>\n    <tr style=\"text-align: right;\">\n      <th></th>\n      <th>C1</th>\n      <th>C2</th>\n    </tr>\n  </thead>\n  <tbody>\n    <tr>\n      <th>R1</th>\n      <td>5</td>\n      <td>8</td>\n    </tr>\n  </tbody>\n</table>\n</div>"
     },
     "metadata": {},
     "execution_count": 43
    }
   ],
   "source": [
    "df_create(1,2)"
   ]
  },
  {
   "cell_type": "code",
   "execution_count": 44,
   "metadata": {},
   "outputs": [
    {
     "output_type": "execute_result",
     "data": {
      "text/plain": [
       "    C1  C2  C3  C4  C5\n",
       "R1   2   9   5   1   3\n",
       "R2   5   4   5   6   2"
      ],
      "text/html": "<div>\n<style scoped>\n    .dataframe tbody tr th:only-of-type {\n        vertical-align: middle;\n    }\n\n    .dataframe tbody tr th {\n        vertical-align: top;\n    }\n\n    .dataframe thead th {\n        text-align: right;\n    }\n</style>\n<table border=\"1\" class=\"dataframe\">\n  <thead>\n    <tr style=\"text-align: right;\">\n      <th></th>\n      <th>C1</th>\n      <th>C2</th>\n      <th>C3</th>\n      <th>C4</th>\n      <th>C5</th>\n    </tr>\n  </thead>\n  <tbody>\n    <tr>\n      <th>R1</th>\n      <td>2</td>\n      <td>9</td>\n      <td>5</td>\n      <td>1</td>\n      <td>3</td>\n    </tr>\n    <tr>\n      <th>R2</th>\n      <td>5</td>\n      <td>4</td>\n      <td>5</td>\n      <td>6</td>\n      <td>2</td>\n    </tr>\n  </tbody>\n</table>\n</div>"
     },
     "metadata": {},
     "execution_count": 44
    }
   ],
   "source": [
    "df_create(2,5)"
   ]
  },
  {
   "cell_type": "code",
   "execution_count": 2,
   "metadata": {},
   "outputs": [],
   "source": [
    "mass = pd.Series([0.33, 4.87, 5.97, 0.642, 1898, 568, 86.8, 102, 0.0146], index = ['Mercury', 'Venus', 'Earth', 'Mars', 'Jupiter', 'Saturn', 'Uranus', 'Neptune', 'Pluto'])\n",
    "diameter = pd.Series([4879,\t12104,\t12756,\t6792,\t142984,120536,\t51118,\t49528,\t2370, 3475.0], index = ['Mercury', 'Venus', 'Earth', 'Mars', 'Jupiter', 'Saturn', 'Uranus', 'Neptune', 'Pluto', 'Moon'])"
   ]
  },
  {
   "cell_type": "code",
   "execution_count": 70,
   "metadata": {},
   "outputs": [
    {
     "output_type": "execute_result",
     "data": {
      "text/plain": [
       "Mercury       0.3300\n",
       "Venus         4.8700\n",
       "Earth         5.9700\n",
       "Mars          0.6420\n",
       "Jupiter    1898.0000\n",
       "Saturn      568.0000\n",
       "Uranus       86.8000\n",
       "Neptune     102.0000\n",
       "Pluto         0.0146\n",
       "dtype: float64"
      ]
     },
     "metadata": {},
     "execution_count": 70
    }
   ],
   "source": [
    "mass"
   ]
  },
  {
   "cell_type": "code",
   "execution_count": 71,
   "metadata": {},
   "outputs": [
    {
     "output_type": "execute_result",
     "data": {
      "text/plain": [
       "Mercury      4879.0\n",
       "Venus       12104.0\n",
       "Earth       12756.0\n",
       "Mars         6792.0\n",
       "Jupiter    142984.0\n",
       "Saturn     120536.0\n",
       "Uranus      51118.0\n",
       "Neptune     49528.0\n",
       "Pluto        2370.0\n",
       "Moon         3475.0\n",
       "dtype: float64"
      ]
     },
     "metadata": {},
     "execution_count": 71
    }
   ],
   "source": [
    "diameter"
   ]
  },
  {
   "cell_type": "code",
   "execution_count": 3,
   "metadata": {},
   "outputs": [],
   "source": [
    "df = pd.DataFrame({'Mass': mass, \"Diameter\":diameter})"
   ]
  },
  {
   "cell_type": "code",
   "execution_count": 35,
   "metadata": {},
   "outputs": [
    {
     "output_type": "execute_result",
     "data": {
      "text/plain": [
       "              Mass  Diameter\n",
       "Earth       5.9700   12756.0\n",
       "Jupiter  1898.0000  142984.0\n",
       "Mars        0.6420    6792.0\n",
       "Mercury     0.3300    4879.0\n",
       "Moon           NaN    3475.0\n",
       "Neptune   102.0000   49528.0\n",
       "Pluto       0.0146    2370.0\n",
       "Saturn    568.0000  120536.0\n",
       "Uranus     86.8000   51118.0\n",
       "Venus       4.8700   12104.0"
      ],
      "text/html": "<div>\n<style scoped>\n    .dataframe tbody tr th:only-of-type {\n        vertical-align: middle;\n    }\n\n    .dataframe tbody tr th {\n        vertical-align: top;\n    }\n\n    .dataframe thead th {\n        text-align: right;\n    }\n</style>\n<table border=\"1\" class=\"dataframe\">\n  <thead>\n    <tr style=\"text-align: right;\">\n      <th></th>\n      <th>Mass</th>\n      <th>Diameter</th>\n    </tr>\n  </thead>\n  <tbody>\n    <tr>\n      <th>Earth</th>\n      <td>5.9700</td>\n      <td>12756.0</td>\n    </tr>\n    <tr>\n      <th>Jupiter</th>\n      <td>1898.0000</td>\n      <td>142984.0</td>\n    </tr>\n    <tr>\n      <th>Mars</th>\n      <td>0.6420</td>\n      <td>6792.0</td>\n    </tr>\n    <tr>\n      <th>Mercury</th>\n      <td>0.3300</td>\n      <td>4879.0</td>\n    </tr>\n    <tr>\n      <th>Moon</th>\n      <td>NaN</td>\n      <td>3475.0</td>\n    </tr>\n    <tr>\n      <th>Neptune</th>\n      <td>102.0000</td>\n      <td>49528.0</td>\n    </tr>\n    <tr>\n      <th>Pluto</th>\n      <td>0.0146</td>\n      <td>2370.0</td>\n    </tr>\n    <tr>\n      <th>Saturn</th>\n      <td>568.0000</td>\n      <td>120536.0</td>\n    </tr>\n    <tr>\n      <th>Uranus</th>\n      <td>86.8000</td>\n      <td>51118.0</td>\n    </tr>\n    <tr>\n      <th>Venus</th>\n      <td>4.8700</td>\n      <td>12104.0</td>\n    </tr>\n  </tbody>\n</table>\n</div>"
     },
     "metadata": {},
     "execution_count": 35
    }
   ],
   "source": [
    "df"
   ]
  },
  {
   "cell_type": "code",
   "execution_count": 74,
   "metadata": {},
   "outputs": [
    {
     "output_type": "execute_result",
     "data": {
      "text/plain": [
       "Earth         5.9700\n",
       "Jupiter    1898.0000\n",
       "Mars          0.6420\n",
       "Mercury       0.3300\n",
       "Moon             NaN\n",
       "Neptune     102.0000\n",
       "Pluto         0.0146\n",
       "Saturn      568.0000\n",
       "Uranus       86.8000\n",
       "Venus         4.8700\n",
       "Name: Mass, dtype: float64"
      ]
     },
     "metadata": {},
     "execution_count": 74
    }
   ],
   "source": [
    "df['Mass']"
   ]
  },
  {
   "cell_type": "code",
   "execution_count": 75,
   "metadata": {},
   "outputs": [
    {
     "output_type": "execute_result",
     "data": {
      "text/plain": [
       "Earth       12756.0\n",
       "Jupiter    142984.0\n",
       "Mars         6792.0\n",
       "Mercury      4879.0\n",
       "Moon         3475.0\n",
       "Neptune     49528.0\n",
       "Pluto        2370.0\n",
       "Saturn     120536.0\n",
       "Uranus      51118.0\n",
       "Venus       12104.0\n",
       "Name: Diameter, dtype: float64"
      ]
     },
     "metadata": {},
     "execution_count": 75
    }
   ],
   "source": [
    "df['Diameter']"
   ]
  },
  {
   "cell_type": "code",
   "execution_count": 76,
   "metadata": {},
   "outputs": [
    {
     "output_type": "execute_result",
     "data": {
      "text/plain": [
       "5.97"
      ]
     },
     "metadata": {},
     "execution_count": 76
    }
   ],
   "source": [
    "df.Mass.Earth"
   ]
  },
  {
   "cell_type": "code",
   "execution_count": 6,
   "metadata": {},
   "outputs": [],
   "source": [
    "df['Population'] = 0"
   ]
  },
  {
   "cell_type": "code",
   "execution_count": 7,
   "metadata": {},
   "outputs": [
    {
     "output_type": "execute_result",
     "data": {
      "text/plain": [
       "              Mass  Diameter  Population\n",
       "Earth       5.9700   12756.0           0\n",
       "Jupiter  1898.0000  142984.0           0\n",
       "Mars        0.6420    6792.0           0\n",
       "Mercury     0.3300    4879.0           0\n",
       "Moon           NaN    3475.0           0\n",
       "Neptune   102.0000   49528.0           0\n",
       "Pluto       0.0146    2370.0           0\n",
       "Saturn    568.0000  120536.0           0\n",
       "Uranus     86.8000   51118.0           0\n",
       "Venus       4.8700   12104.0           0"
      ],
      "text/html": "<div>\n<style scoped>\n    .dataframe tbody tr th:only-of-type {\n        vertical-align: middle;\n    }\n\n    .dataframe tbody tr th {\n        vertical-align: top;\n    }\n\n    .dataframe thead th {\n        text-align: right;\n    }\n</style>\n<table border=\"1\" class=\"dataframe\">\n  <thead>\n    <tr style=\"text-align: right;\">\n      <th></th>\n      <th>Mass</th>\n      <th>Diameter</th>\n      <th>Population</th>\n    </tr>\n  </thead>\n  <tbody>\n    <tr>\n      <th>Earth</th>\n      <td>5.9700</td>\n      <td>12756.0</td>\n      <td>0</td>\n    </tr>\n    <tr>\n      <th>Jupiter</th>\n      <td>1898.0000</td>\n      <td>142984.0</td>\n      <td>0</td>\n    </tr>\n    <tr>\n      <th>Mars</th>\n      <td>0.6420</td>\n      <td>6792.0</td>\n      <td>0</td>\n    </tr>\n    <tr>\n      <th>Mercury</th>\n      <td>0.3300</td>\n      <td>4879.0</td>\n      <td>0</td>\n    </tr>\n    <tr>\n      <th>Moon</th>\n      <td>NaN</td>\n      <td>3475.0</td>\n      <td>0</td>\n    </tr>\n    <tr>\n      <th>Neptune</th>\n      <td>102.0000</td>\n      <td>49528.0</td>\n      <td>0</td>\n    </tr>\n    <tr>\n      <th>Pluto</th>\n      <td>0.0146</td>\n      <td>2370.0</td>\n      <td>0</td>\n    </tr>\n    <tr>\n      <th>Saturn</th>\n      <td>568.0000</td>\n      <td>120536.0</td>\n      <td>0</td>\n    </tr>\n    <tr>\n      <th>Uranus</th>\n      <td>86.8000</td>\n      <td>51118.0</td>\n      <td>0</td>\n    </tr>\n    <tr>\n      <th>Venus</th>\n      <td>4.8700</td>\n      <td>12104.0</td>\n      <td>0</td>\n    </tr>\n  </tbody>\n</table>\n</div>"
     },
     "metadata": {},
     "execution_count": 7
    }
   ],
   "source": [
    "df"
   ]
  },
  {
   "cell_type": "code",
   "execution_count": 9,
   "metadata": {},
   "outputs": [],
   "source": [
    "df.Population.Earth = 8000000000"
   ]
  },
  {
   "cell_type": "code",
   "execution_count": 10,
   "metadata": {},
   "outputs": [
    {
     "output_type": "execute_result",
     "data": {
      "text/plain": [
       "              Mass  Diameter  Population\n",
       "Earth       5.9700   12756.0  8000000000\n",
       "Jupiter  1898.0000  142984.0           0\n",
       "Mars        0.6420    6792.0           0\n",
       "Mercury     0.3300    4879.0           0\n",
       "Moon           NaN    3475.0           0\n",
       "Neptune   102.0000   49528.0           0\n",
       "Pluto       0.0146    2370.0           0\n",
       "Saturn    568.0000  120536.0           0\n",
       "Uranus     86.8000   51118.0           0\n",
       "Venus       4.8700   12104.0           0"
      ],
      "text/html": "<div>\n<style scoped>\n    .dataframe tbody tr th:only-of-type {\n        vertical-align: middle;\n    }\n\n    .dataframe tbody tr th {\n        vertical-align: top;\n    }\n\n    .dataframe thead th {\n        text-align: right;\n    }\n</style>\n<table border=\"1\" class=\"dataframe\">\n  <thead>\n    <tr style=\"text-align: right;\">\n      <th></th>\n      <th>Mass</th>\n      <th>Diameter</th>\n      <th>Population</th>\n    </tr>\n  </thead>\n  <tbody>\n    <tr>\n      <th>Earth</th>\n      <td>5.9700</td>\n      <td>12756.0</td>\n      <td>8000000000</td>\n    </tr>\n    <tr>\n      <th>Jupiter</th>\n      <td>1898.0000</td>\n      <td>142984.0</td>\n      <td>0</td>\n    </tr>\n    <tr>\n      <th>Mars</th>\n      <td>0.6420</td>\n      <td>6792.0</td>\n      <td>0</td>\n    </tr>\n    <tr>\n      <th>Mercury</th>\n      <td>0.3300</td>\n      <td>4879.0</td>\n      <td>0</td>\n    </tr>\n    <tr>\n      <th>Moon</th>\n      <td>NaN</td>\n      <td>3475.0</td>\n      <td>0</td>\n    </tr>\n    <tr>\n      <th>Neptune</th>\n      <td>102.0000</td>\n      <td>49528.0</td>\n      <td>0</td>\n    </tr>\n    <tr>\n      <th>Pluto</th>\n      <td>0.0146</td>\n      <td>2370.0</td>\n      <td>0</td>\n    </tr>\n    <tr>\n      <th>Saturn</th>\n      <td>568.0000</td>\n      <td>120536.0</td>\n      <td>0</td>\n    </tr>\n    <tr>\n      <th>Uranus</th>\n      <td>86.8000</td>\n      <td>51118.0</td>\n      <td>0</td>\n    </tr>\n    <tr>\n      <th>Venus</th>\n      <td>4.8700</td>\n      <td>12104.0</td>\n      <td>0</td>\n    </tr>\n  </tbody>\n</table>\n</div>"
     },
     "metadata": {},
     "execution_count": 10
    }
   ],
   "source": [
    "df"
   ]
  },
  {
   "cell_type": "code",
   "execution_count": 81,
   "metadata": {},
   "outputs": [
    {
     "output_type": "execute_result",
     "data": {
      "text/plain": [
       "True"
      ]
     },
     "metadata": {},
     "execution_count": 81
    }
   ],
   "source": [
    "df['Mass'] is df.Mass"
   ]
  },
  {
   "cell_type": "code",
   "execution_count": 82,
   "metadata": {},
   "outputs": [
    {
     "output_type": "execute_result",
     "data": {
      "text/plain": [
       "True"
      ]
     },
     "metadata": {},
     "execution_count": 82
    }
   ],
   "source": [
    "df['Population'] is df.Population"
   ]
  },
  {
   "source": [
    "Task:\n",
    "\n",
    "Create a new row 'Mean' and compute mean of columns"
   ],
   "cell_type": "markdown",
   "metadata": {}
  },
  {
   "cell_type": "code",
   "execution_count": 97,
   "metadata": {},
   "outputs": [],
   "source": [
    "df.loc[\"Mean\"] = 0"
   ]
  },
  {
   "cell_type": "code",
   "execution_count": 103,
   "metadata": {},
   "outputs": [
    {
     "output_type": "execute_result",
     "data": {
      "text/plain": [
       "              Mass  Diameter  Population\n",
       "Earth       5.9700   12756.0  8000000000\n",
       "Jupiter  1898.0000  142984.0           0\n",
       "Mars        0.6420    6792.0           0\n",
       "Mercury     0.3300    4879.0           0\n",
       "Moon           NaN    3475.0           0\n",
       "Neptune   102.0000   49528.0           0\n",
       "Pluto       0.0146    2370.0           0\n",
       "Saturn    568.0000  120536.0           0\n",
       "Uranus     86.8000   51118.0           0\n",
       "Venus       4.8700   12104.0           0\n",
       "Mass        0.0000       0.0           0\n",
       "Mean        0.0000       0.0           0"
      ],
      "text/html": "<div>\n<style scoped>\n    .dataframe tbody tr th:only-of-type {\n        vertical-align: middle;\n    }\n\n    .dataframe tbody tr th {\n        vertical-align: top;\n    }\n\n    .dataframe thead th {\n        text-align: right;\n    }\n</style>\n<table border=\"1\" class=\"dataframe\">\n  <thead>\n    <tr style=\"text-align: right;\">\n      <th></th>\n      <th>Mass</th>\n      <th>Diameter</th>\n      <th>Population</th>\n    </tr>\n  </thead>\n  <tbody>\n    <tr>\n      <th>Earth</th>\n      <td>5.9700</td>\n      <td>12756.0</td>\n      <td>8000000000</td>\n    </tr>\n    <tr>\n      <th>Jupiter</th>\n      <td>1898.0000</td>\n      <td>142984.0</td>\n      <td>0</td>\n    </tr>\n    <tr>\n      <th>Mars</th>\n      <td>0.6420</td>\n      <td>6792.0</td>\n      <td>0</td>\n    </tr>\n    <tr>\n      <th>Mercury</th>\n      <td>0.3300</td>\n      <td>4879.0</td>\n      <td>0</td>\n    </tr>\n    <tr>\n      <th>Moon</th>\n      <td>NaN</td>\n      <td>3475.0</td>\n      <td>0</td>\n    </tr>\n    <tr>\n      <th>Neptune</th>\n      <td>102.0000</td>\n      <td>49528.0</td>\n      <td>0</td>\n    </tr>\n    <tr>\n      <th>Pluto</th>\n      <td>0.0146</td>\n      <td>2370.0</td>\n      <td>0</td>\n    </tr>\n    <tr>\n      <th>Saturn</th>\n      <td>568.0000</td>\n      <td>120536.0</td>\n      <td>0</td>\n    </tr>\n    <tr>\n      <th>Uranus</th>\n      <td>86.8000</td>\n      <td>51118.0</td>\n      <td>0</td>\n    </tr>\n    <tr>\n      <th>Venus</th>\n      <td>4.8700</td>\n      <td>12104.0</td>\n      <td>0</td>\n    </tr>\n    <tr>\n      <th>Mass</th>\n      <td>0.0000</td>\n      <td>0.0</td>\n      <td>0</td>\n    </tr>\n    <tr>\n      <th>Mean</th>\n      <td>0.0000</td>\n      <td>0.0</td>\n      <td>0</td>\n    </tr>\n  </tbody>\n</table>\n</div>"
     },
     "metadata": {},
     "execution_count": 103
    }
   ],
   "source": [
    "df "
   ]
  },
  {
   "cell_type": "code",
   "execution_count": 105,
   "metadata": {},
   "outputs": [
    {
     "output_type": "execute_result",
     "data": {
      "text/plain": [
       "              Mass  Diameter  Population\n",
       "Earth       5.9700   12756.0  8000000000\n",
       "Jupiter  1898.0000  142984.0           0\n",
       "Mars        0.6420    6792.0           0\n",
       "Mercury     0.3300    4879.0           0\n",
       "Moon           NaN    3475.0           0\n",
       "Neptune   102.0000   49528.0           0\n",
       "Pluto       0.0146    2370.0           0\n",
       "Saturn    568.0000  120536.0           0\n",
       "Uranus     86.8000   51118.0           0\n",
       "Venus       4.8700   12104.0           0\n",
       "Mean        0.0000       0.0           0"
      ],
      "text/html": "<div>\n<style scoped>\n    .dataframe tbody tr th:only-of-type {\n        vertical-align: middle;\n    }\n\n    .dataframe tbody tr th {\n        vertical-align: top;\n    }\n\n    .dataframe thead th {\n        text-align: right;\n    }\n</style>\n<table border=\"1\" class=\"dataframe\">\n  <thead>\n    <tr style=\"text-align: right;\">\n      <th></th>\n      <th>Mass</th>\n      <th>Diameter</th>\n      <th>Population</th>\n    </tr>\n  </thead>\n  <tbody>\n    <tr>\n      <th>Earth</th>\n      <td>5.9700</td>\n      <td>12756.0</td>\n      <td>8000000000</td>\n    </tr>\n    <tr>\n      <th>Jupiter</th>\n      <td>1898.0000</td>\n      <td>142984.0</td>\n      <td>0</td>\n    </tr>\n    <tr>\n      <th>Mars</th>\n      <td>0.6420</td>\n      <td>6792.0</td>\n      <td>0</td>\n    </tr>\n    <tr>\n      <th>Mercury</th>\n      <td>0.3300</td>\n      <td>4879.0</td>\n      <td>0</td>\n    </tr>\n    <tr>\n      <th>Moon</th>\n      <td>NaN</td>\n      <td>3475.0</td>\n      <td>0</td>\n    </tr>\n    <tr>\n      <th>Neptune</th>\n      <td>102.0000</td>\n      <td>49528.0</td>\n      <td>0</td>\n    </tr>\n    <tr>\n      <th>Pluto</th>\n      <td>0.0146</td>\n      <td>2370.0</td>\n      <td>0</td>\n    </tr>\n    <tr>\n      <th>Saturn</th>\n      <td>568.0000</td>\n      <td>120536.0</td>\n      <td>0</td>\n    </tr>\n    <tr>\n      <th>Uranus</th>\n      <td>86.8000</td>\n      <td>51118.0</td>\n      <td>0</td>\n    </tr>\n    <tr>\n      <th>Venus</th>\n      <td>4.8700</td>\n      <td>12104.0</td>\n      <td>0</td>\n    </tr>\n    <tr>\n      <th>Mean</th>\n      <td>0.0000</td>\n      <td>0.0</td>\n      <td>0</td>\n    </tr>\n  </tbody>\n</table>\n</div>"
     },
     "metadata": {},
     "execution_count": 105
    }
   ],
   "source": [
    "df"
   ]
  },
  {
   "cell_type": "code",
   "execution_count": 112,
   "metadata": {},
   "outputs": [
    {
     "output_type": "execute_result",
     "data": {
      "text/plain": [
       "Earth      2.666671e+09\n",
       "Jupiter    4.829400e+04\n",
       "Mars       2.264214e+03\n",
       "Mercury    1.626443e+03\n",
       "Moon       1.737500e+03\n",
       "Neptune    1.654333e+04\n",
       "Pluto      7.900049e+02\n",
       "Saturn     4.036800e+04\n",
       "Uranus     1.706827e+04\n",
       "Venus      4.036290e+03\n",
       "Mean                NaN\n",
       "dtype: float64"
      ]
     },
     "metadata": {},
     "execution_count": 112
    }
   ],
   "source": [
    "df.mean(axis=1,skipna=True)"
   ]
  },
  {
   "cell_type": "code",
   "execution_count": 5,
   "metadata": {},
   "outputs": [
    {
     "output_type": "execute_result",
     "data": {
      "text/plain": [
       "              Mass  Diameter\n",
       "Earth       5.9700   12756.0\n",
       "Jupiter  1898.0000  142984.0\n",
       "Mars        0.6420    6792.0\n",
       "Mercury     0.3300    4879.0\n",
       "Moon           NaN    3475.0\n",
       "Neptune   102.0000   49528.0\n",
       "Pluto       0.0146    2370.0\n",
       "Saturn    568.0000  120536.0\n",
       "Uranus     86.8000   51118.0\n",
       "Venus       4.8700   12104.0"
      ],
      "text/html": "<div>\n<style scoped>\n    .dataframe tbody tr th:only-of-type {\n        vertical-align: middle;\n    }\n\n    .dataframe tbody tr th {\n        vertical-align: top;\n    }\n\n    .dataframe thead th {\n        text-align: right;\n    }\n</style>\n<table border=\"1\" class=\"dataframe\">\n  <thead>\n    <tr style=\"text-align: right;\">\n      <th></th>\n      <th>Mass</th>\n      <th>Diameter</th>\n    </tr>\n  </thead>\n  <tbody>\n    <tr>\n      <th>Earth</th>\n      <td>5.9700</td>\n      <td>12756.0</td>\n    </tr>\n    <tr>\n      <th>Jupiter</th>\n      <td>1898.0000</td>\n      <td>142984.0</td>\n    </tr>\n    <tr>\n      <th>Mars</th>\n      <td>0.6420</td>\n      <td>6792.0</td>\n    </tr>\n    <tr>\n      <th>Mercury</th>\n      <td>0.3300</td>\n      <td>4879.0</td>\n    </tr>\n    <tr>\n      <th>Moon</th>\n      <td>NaN</td>\n      <td>3475.0</td>\n    </tr>\n    <tr>\n      <th>Neptune</th>\n      <td>102.0000</td>\n      <td>49528.0</td>\n    </tr>\n    <tr>\n      <th>Pluto</th>\n      <td>0.0146</td>\n      <td>2370.0</td>\n    </tr>\n    <tr>\n      <th>Saturn</th>\n      <td>568.0000</td>\n      <td>120536.0</td>\n    </tr>\n    <tr>\n      <th>Uranus</th>\n      <td>86.8000</td>\n      <td>51118.0</td>\n    </tr>\n    <tr>\n      <th>Venus</th>\n      <td>4.8700</td>\n      <td>12104.0</td>\n    </tr>\n  </tbody>\n</table>\n</div>"
     },
     "metadata": {},
     "execution_count": 5
    }
   ],
   "source": [
    "df"
   ]
  },
  {
   "cell_type": "code",
   "execution_count": 12,
   "metadata": {},
   "outputs": [
    {
     "output_type": "execute_result",
     "data": {
      "text/plain": [
       "Earth         5.9700\n",
       "Jupiter    1898.0000\n",
       "Mars          0.6420\n",
       "Mercury       0.3300\n",
       "Moon             NaN\n",
       "Neptune     102.0000\n",
       "Pluto         0.0146\n",
       "Saturn      568.0000\n",
       "Uranus       86.8000\n",
       "Venus         4.8700\n",
       "Name: Mass, dtype: float64"
      ]
     },
     "metadata": {},
     "execution_count": 12
    }
   ],
   "source": [
    "df.loc[:,\"Mass\"]"
   ]
  },
  {
   "cell_type": "code",
   "execution_count": 5,
   "metadata": {},
   "outputs": [],
   "source": [
    "def mean_row(df):\n",
    "    #df.loc['Col_Mean'] = [np.mean(df[Col]) for Col in df.columns]\n",
    "    df.loc['Col_Mean'] = df.mean()\n",
    "    return df"
   ]
  },
  {
   "cell_type": "code",
   "execution_count": 13,
   "metadata": {},
   "outputs": [],
   "source": [
    "df.loc['Col_Mean'] = 0"
   ]
  },
  {
   "cell_type": "code",
   "execution_count": 14,
   "metadata": {},
   "outputs": [
    {
     "output_type": "execute_result",
     "data": {
      "text/plain": [
       "               Mass  Diameter  Population\n",
       "Earth        5.9700   12756.0  8000000000\n",
       "Jupiter   1898.0000  142984.0           0\n",
       "Mars         0.6420    6792.0           0\n",
       "Mercury      0.3300    4879.0           0\n",
       "Moon            NaN    3475.0           0\n",
       "Neptune    102.0000   49528.0           0\n",
       "Pluto        0.0146    2370.0           0\n",
       "Saturn     568.0000  120536.0           0\n",
       "Uranus      86.8000   51118.0           0\n",
       "Venus        4.8700   12104.0           0\n",
       "Col_Mean     0.0000       0.0           0"
      ],
      "text/html": "<div>\n<style scoped>\n    .dataframe tbody tr th:only-of-type {\n        vertical-align: middle;\n    }\n\n    .dataframe tbody tr th {\n        vertical-align: top;\n    }\n\n    .dataframe thead th {\n        text-align: right;\n    }\n</style>\n<table border=\"1\" class=\"dataframe\">\n  <thead>\n    <tr style=\"text-align: right;\">\n      <th></th>\n      <th>Mass</th>\n      <th>Diameter</th>\n      <th>Population</th>\n    </tr>\n  </thead>\n  <tbody>\n    <tr>\n      <th>Earth</th>\n      <td>5.9700</td>\n      <td>12756.0</td>\n      <td>8000000000</td>\n    </tr>\n    <tr>\n      <th>Jupiter</th>\n      <td>1898.0000</td>\n      <td>142984.0</td>\n      <td>0</td>\n    </tr>\n    <tr>\n      <th>Mars</th>\n      <td>0.6420</td>\n      <td>6792.0</td>\n      <td>0</td>\n    </tr>\n    <tr>\n      <th>Mercury</th>\n      <td>0.3300</td>\n      <td>4879.0</td>\n      <td>0</td>\n    </tr>\n    <tr>\n      <th>Moon</th>\n      <td>NaN</td>\n      <td>3475.0</td>\n      <td>0</td>\n    </tr>\n    <tr>\n      <th>Neptune</th>\n      <td>102.0000</td>\n      <td>49528.0</td>\n      <td>0</td>\n    </tr>\n    <tr>\n      <th>Pluto</th>\n      <td>0.0146</td>\n      <td>2370.0</td>\n      <td>0</td>\n    </tr>\n    <tr>\n      <th>Saturn</th>\n      <td>568.0000</td>\n      <td>120536.0</td>\n      <td>0</td>\n    </tr>\n    <tr>\n      <th>Uranus</th>\n      <td>86.8000</td>\n      <td>51118.0</td>\n      <td>0</td>\n    </tr>\n    <tr>\n      <th>Venus</th>\n      <td>4.8700</td>\n      <td>12104.0</td>\n      <td>0</td>\n    </tr>\n    <tr>\n      <th>Col_Mean</th>\n      <td>0.0000</td>\n      <td>0.0</td>\n      <td>0</td>\n    </tr>\n  </tbody>\n</table>\n</div>"
     },
     "metadata": {},
     "execution_count": 14
    }
   ],
   "source": [
    "df"
   ]
  },
  {
   "cell_type": "code",
   "execution_count": 18,
   "metadata": {},
   "outputs": [
    {
     "output_type": "execute_result",
     "data": {
      "text/plain": [
       "266.66266"
      ]
     },
     "metadata": {},
     "execution_count": 18
    }
   ],
   "source": [
    "np.mean(df['Mass'])"
   ]
  },
  {
   "cell_type": "code",
   "execution_count": 33,
   "metadata": {},
   "outputs": [
    {
     "output_type": "error",
     "ename": "KeyError",
     "evalue": "\"['Col_Mean'] not found in axis\"",
     "traceback": [
      "\u001b[1;31m---------------------------------------------------------------------------\u001b[0m",
      "\u001b[1;31mKeyError\u001b[0m                                  Traceback (most recent call last)",
      "\u001b[1;32m<ipython-input-33-3fa009a77df5>\u001b[0m in \u001b[0;36m<module>\u001b[1;34m\u001b[0m\n\u001b[1;32m----> 1\u001b[1;33m \u001b[0mdf\u001b[0m\u001b[1;33m.\u001b[0m\u001b[0mdrop\u001b[0m\u001b[1;33m(\u001b[0m\u001b[1;34m'Col_Mean'\u001b[0m\u001b[1;33m,\u001b[0m \u001b[0minplace\u001b[0m \u001b[1;33m=\u001b[0m \u001b[1;32mTrue\u001b[0m\u001b[1;33m)\u001b[0m\u001b[1;33m\u001b[0m\u001b[1;33m\u001b[0m\u001b[0m\n\u001b[0m",
      "\u001b[1;32mC:\\Python38\\lib\\site-packages\\pandas\\core\\frame.py\u001b[0m in \u001b[0;36mdrop\u001b[1;34m(self, labels, axis, index, columns, level, inplace, errors)\u001b[0m\n\u001b[0;32m   4165\u001b[0m                 \u001b[0mweight\u001b[0m  \u001b[1;36m1.0\u001b[0m     \u001b[1;36m0.8\u001b[0m\u001b[1;33m\u001b[0m\u001b[1;33m\u001b[0m\u001b[0m\n\u001b[0;32m   4166\u001b[0m         \"\"\"\n\u001b[1;32m-> 4167\u001b[1;33m         return super().drop(\n\u001b[0m\u001b[0;32m   4168\u001b[0m             \u001b[0mlabels\u001b[0m\u001b[1;33m=\u001b[0m\u001b[0mlabels\u001b[0m\u001b[1;33m,\u001b[0m\u001b[1;33m\u001b[0m\u001b[1;33m\u001b[0m\u001b[0m\n\u001b[0;32m   4169\u001b[0m             \u001b[0maxis\u001b[0m\u001b[1;33m=\u001b[0m\u001b[0maxis\u001b[0m\u001b[1;33m,\u001b[0m\u001b[1;33m\u001b[0m\u001b[1;33m\u001b[0m\u001b[0m\n",
      "\u001b[1;32mC:\\Python38\\lib\\site-packages\\pandas\\core\\generic.py\u001b[0m in \u001b[0;36mdrop\u001b[1;34m(self, labels, axis, index, columns, level, inplace, errors)\u001b[0m\n\u001b[0;32m   3885\u001b[0m         \u001b[1;32mfor\u001b[0m \u001b[0maxis\u001b[0m\u001b[1;33m,\u001b[0m \u001b[0mlabels\u001b[0m \u001b[1;32min\u001b[0m \u001b[0maxes\u001b[0m\u001b[1;33m.\u001b[0m\u001b[0mitems\u001b[0m\u001b[1;33m(\u001b[0m\u001b[1;33m)\u001b[0m\u001b[1;33m:\u001b[0m\u001b[1;33m\u001b[0m\u001b[1;33m\u001b[0m\u001b[0m\n\u001b[0;32m   3886\u001b[0m             \u001b[1;32mif\u001b[0m \u001b[0mlabels\u001b[0m \u001b[1;32mis\u001b[0m \u001b[1;32mnot\u001b[0m \u001b[1;32mNone\u001b[0m\u001b[1;33m:\u001b[0m\u001b[1;33m\u001b[0m\u001b[1;33m\u001b[0m\u001b[0m\n\u001b[1;32m-> 3887\u001b[1;33m                 \u001b[0mobj\u001b[0m \u001b[1;33m=\u001b[0m \u001b[0mobj\u001b[0m\u001b[1;33m.\u001b[0m\u001b[0m_drop_axis\u001b[0m\u001b[1;33m(\u001b[0m\u001b[0mlabels\u001b[0m\u001b[1;33m,\u001b[0m \u001b[0maxis\u001b[0m\u001b[1;33m,\u001b[0m \u001b[0mlevel\u001b[0m\u001b[1;33m=\u001b[0m\u001b[0mlevel\u001b[0m\u001b[1;33m,\u001b[0m \u001b[0merrors\u001b[0m\u001b[1;33m=\u001b[0m\u001b[0merrors\u001b[0m\u001b[1;33m)\u001b[0m\u001b[1;33m\u001b[0m\u001b[1;33m\u001b[0m\u001b[0m\n\u001b[0m\u001b[0;32m   3888\u001b[0m \u001b[1;33m\u001b[0m\u001b[0m\n\u001b[0;32m   3889\u001b[0m         \u001b[1;32mif\u001b[0m \u001b[0minplace\u001b[0m\u001b[1;33m:\u001b[0m\u001b[1;33m\u001b[0m\u001b[1;33m\u001b[0m\u001b[0m\n",
      "\u001b[1;32mC:\\Python38\\lib\\site-packages\\pandas\\core\\generic.py\u001b[0m in \u001b[0;36m_drop_axis\u001b[1;34m(self, labels, axis, level, errors)\u001b[0m\n\u001b[0;32m   3919\u001b[0m                 \u001b[0mnew_axis\u001b[0m \u001b[1;33m=\u001b[0m \u001b[0maxis\u001b[0m\u001b[1;33m.\u001b[0m\u001b[0mdrop\u001b[0m\u001b[1;33m(\u001b[0m\u001b[0mlabels\u001b[0m\u001b[1;33m,\u001b[0m \u001b[0mlevel\u001b[0m\u001b[1;33m=\u001b[0m\u001b[0mlevel\u001b[0m\u001b[1;33m,\u001b[0m \u001b[0merrors\u001b[0m\u001b[1;33m=\u001b[0m\u001b[0merrors\u001b[0m\u001b[1;33m)\u001b[0m\u001b[1;33m\u001b[0m\u001b[1;33m\u001b[0m\u001b[0m\n\u001b[0;32m   3920\u001b[0m             \u001b[1;32melse\u001b[0m\u001b[1;33m:\u001b[0m\u001b[1;33m\u001b[0m\u001b[1;33m\u001b[0m\u001b[0m\n\u001b[1;32m-> 3921\u001b[1;33m                 \u001b[0mnew_axis\u001b[0m \u001b[1;33m=\u001b[0m \u001b[0maxis\u001b[0m\u001b[1;33m.\u001b[0m\u001b[0mdrop\u001b[0m\u001b[1;33m(\u001b[0m\u001b[0mlabels\u001b[0m\u001b[1;33m,\u001b[0m \u001b[0merrors\u001b[0m\u001b[1;33m=\u001b[0m\u001b[0merrors\u001b[0m\u001b[1;33m)\u001b[0m\u001b[1;33m\u001b[0m\u001b[1;33m\u001b[0m\u001b[0m\n\u001b[0m\u001b[0;32m   3922\u001b[0m             \u001b[0mresult\u001b[0m \u001b[1;33m=\u001b[0m \u001b[0mself\u001b[0m\u001b[1;33m.\u001b[0m\u001b[0mreindex\u001b[0m\u001b[1;33m(\u001b[0m\u001b[1;33m**\u001b[0m\u001b[1;33m{\u001b[0m\u001b[0maxis_name\u001b[0m\u001b[1;33m:\u001b[0m \u001b[0mnew_axis\u001b[0m\u001b[1;33m}\u001b[0m\u001b[1;33m)\u001b[0m\u001b[1;33m\u001b[0m\u001b[1;33m\u001b[0m\u001b[0m\n\u001b[0;32m   3923\u001b[0m \u001b[1;33m\u001b[0m\u001b[0m\n",
      "\u001b[1;32mC:\\Python38\\lib\\site-packages\\pandas\\core\\indexes\\base.py\u001b[0m in \u001b[0;36mdrop\u001b[1;34m(self, labels, errors)\u001b[0m\n\u001b[0;32m   5282\u001b[0m         \u001b[1;32mif\u001b[0m \u001b[0mmask\u001b[0m\u001b[1;33m.\u001b[0m\u001b[0many\u001b[0m\u001b[1;33m(\u001b[0m\u001b[1;33m)\u001b[0m\u001b[1;33m:\u001b[0m\u001b[1;33m\u001b[0m\u001b[1;33m\u001b[0m\u001b[0m\n\u001b[0;32m   5283\u001b[0m             \u001b[1;32mif\u001b[0m \u001b[0merrors\u001b[0m \u001b[1;33m!=\u001b[0m \u001b[1;34m\"ignore\"\u001b[0m\u001b[1;33m:\u001b[0m\u001b[1;33m\u001b[0m\u001b[1;33m\u001b[0m\u001b[0m\n\u001b[1;32m-> 5284\u001b[1;33m                 \u001b[1;32mraise\u001b[0m \u001b[0mKeyError\u001b[0m\u001b[1;33m(\u001b[0m\u001b[1;34mf\"{labels[mask]} not found in axis\"\u001b[0m\u001b[1;33m)\u001b[0m\u001b[1;33m\u001b[0m\u001b[1;33m\u001b[0m\u001b[0m\n\u001b[0m\u001b[0;32m   5285\u001b[0m             \u001b[0mindexer\u001b[0m \u001b[1;33m=\u001b[0m \u001b[0mindexer\u001b[0m\u001b[1;33m[\u001b[0m\u001b[1;33m~\u001b[0m\u001b[0mmask\u001b[0m\u001b[1;33m]\u001b[0m\u001b[1;33m\u001b[0m\u001b[1;33m\u001b[0m\u001b[0m\n\u001b[0;32m   5286\u001b[0m         \u001b[1;32mreturn\u001b[0m \u001b[0mself\u001b[0m\u001b[1;33m.\u001b[0m\u001b[0mdelete\u001b[0m\u001b[1;33m(\u001b[0m\u001b[0mindexer\u001b[0m\u001b[1;33m)\u001b[0m\u001b[1;33m\u001b[0m\u001b[1;33m\u001b[0m\u001b[0m\n",
      "\u001b[1;31mKeyError\u001b[0m: \"['Col_Mean'] not found in axis\""
     ]
    }
   ],
   "source": [
    "df.drop('Col_Mean', inplace = True)"
   ]
  },
  {
   "cell_type": "code",
   "execution_count": 42,
   "metadata": {},
   "outputs": [],
   "source": [
    "df.drop('Col_Mean', axis =1, inplace=True)"
   ]
  },
  {
   "cell_type": "code",
   "execution_count": 43,
   "metadata": {},
   "outputs": [
    {
     "output_type": "execute_result",
     "data": {
      "text/plain": [
       "              Mass  Diameter\n",
       "Earth       5.9700   12756.0\n",
       "Jupiter  1898.0000  142984.0\n",
       "Mars        0.6420    6792.0\n",
       "Mercury     0.3300    4879.0\n",
       "Moon           NaN    3475.0\n",
       "Neptune   102.0000   49528.0\n",
       "Pluto       0.0146    2370.0\n",
       "Saturn    568.0000  120536.0\n",
       "Uranus     86.8000   51118.0\n",
       "Venus       4.8700   12104.0"
      ],
      "text/html": "<div>\n<style scoped>\n    .dataframe tbody tr th:only-of-type {\n        vertical-align: middle;\n    }\n\n    .dataframe tbody tr th {\n        vertical-align: top;\n    }\n\n    .dataframe thead th {\n        text-align: right;\n    }\n</style>\n<table border=\"1\" class=\"dataframe\">\n  <thead>\n    <tr style=\"text-align: right;\">\n      <th></th>\n      <th>Mass</th>\n      <th>Diameter</th>\n    </tr>\n  </thead>\n  <tbody>\n    <tr>\n      <th>Earth</th>\n      <td>5.9700</td>\n      <td>12756.0</td>\n    </tr>\n    <tr>\n      <th>Jupiter</th>\n      <td>1898.0000</td>\n      <td>142984.0</td>\n    </tr>\n    <tr>\n      <th>Mars</th>\n      <td>0.6420</td>\n      <td>6792.0</td>\n    </tr>\n    <tr>\n      <th>Mercury</th>\n      <td>0.3300</td>\n      <td>4879.0</td>\n    </tr>\n    <tr>\n      <th>Moon</th>\n      <td>NaN</td>\n      <td>3475.0</td>\n    </tr>\n    <tr>\n      <th>Neptune</th>\n      <td>102.0000</td>\n      <td>49528.0</td>\n    </tr>\n    <tr>\n      <th>Pluto</th>\n      <td>0.0146</td>\n      <td>2370.0</td>\n    </tr>\n    <tr>\n      <th>Saturn</th>\n      <td>568.0000</td>\n      <td>120536.0</td>\n    </tr>\n    <tr>\n      <th>Uranus</th>\n      <td>86.8000</td>\n      <td>51118.0</td>\n    </tr>\n    <tr>\n      <th>Venus</th>\n      <td>4.8700</td>\n      <td>12104.0</td>\n    </tr>\n  </tbody>\n</table>\n</div>"
     },
     "metadata": {},
     "execution_count": 43
    }
   ],
   "source": [
    "df"
   ]
  },
  {
   "cell_type": "code",
   "execution_count": 25,
   "metadata": {},
   "outputs": [
    {
     "output_type": "execute_result",
     "data": {
      "text/plain": [
       "296.29184444444445"
      ]
     },
     "metadata": {},
     "execution_count": 25
    }
   ],
   "source": [
    "np.mean(df[\"Mass\"])"
   ]
  },
  {
   "cell_type": "code",
   "execution_count": 26,
   "metadata": {},
   "outputs": [],
   "source": [
    "df.loc['Col_Mean'] = [np.mean(df[\"Mass\"]), np.mean(df[\"Diameter\"])]"
   ]
  },
  {
   "cell_type": "code",
   "execution_count": 47,
   "metadata": {},
   "outputs": [
    {
     "output_type": "execute_result",
     "data": {
      "text/plain": [
       "                 Mass  Diameter\n",
       "Earth        5.970000   12756.0\n",
       "Jupiter   1898.000000  142984.0\n",
       "Mars         0.642000    6792.0\n",
       "Mercury      0.330000    4879.0\n",
       "Moon              NaN    3475.0\n",
       "Neptune    102.000000   49528.0\n",
       "Pluto        0.014600    2370.0\n",
       "Saturn     568.000000  120536.0\n",
       "Uranus      86.800000   51118.0\n",
       "Venus        4.870000   12104.0\n",
       "Col_Mean   296.291844   40654.2"
      ],
      "text/html": "<div>\n<style scoped>\n    .dataframe tbody tr th:only-of-type {\n        vertical-align: middle;\n    }\n\n    .dataframe tbody tr th {\n        vertical-align: top;\n    }\n\n    .dataframe thead th {\n        text-align: right;\n    }\n</style>\n<table border=\"1\" class=\"dataframe\">\n  <thead>\n    <tr style=\"text-align: right;\">\n      <th></th>\n      <th>Mass</th>\n      <th>Diameter</th>\n    </tr>\n  </thead>\n  <tbody>\n    <tr>\n      <th>Earth</th>\n      <td>5.970000</td>\n      <td>12756.0</td>\n    </tr>\n    <tr>\n      <th>Jupiter</th>\n      <td>1898.000000</td>\n      <td>142984.0</td>\n    </tr>\n    <tr>\n      <th>Mars</th>\n      <td>0.642000</td>\n      <td>6792.0</td>\n    </tr>\n    <tr>\n      <th>Mercury</th>\n      <td>0.330000</td>\n      <td>4879.0</td>\n    </tr>\n    <tr>\n      <th>Moon</th>\n      <td>NaN</td>\n      <td>3475.0</td>\n    </tr>\n    <tr>\n      <th>Neptune</th>\n      <td>102.000000</td>\n      <td>49528.0</td>\n    </tr>\n    <tr>\n      <th>Pluto</th>\n      <td>0.014600</td>\n      <td>2370.0</td>\n    </tr>\n    <tr>\n      <th>Saturn</th>\n      <td>568.000000</td>\n      <td>120536.0</td>\n    </tr>\n    <tr>\n      <th>Uranus</th>\n      <td>86.800000</td>\n      <td>51118.0</td>\n    </tr>\n    <tr>\n      <th>Venus</th>\n      <td>4.870000</td>\n      <td>12104.0</td>\n    </tr>\n    <tr>\n      <th>Col_Mean</th>\n      <td>296.291844</td>\n      <td>40654.2</td>\n    </tr>\n  </tbody>\n</table>\n</div>"
     },
     "metadata": {},
     "execution_count": 47
    }
   ],
   "source": [
    "mean_row(df)"
   ]
  },
  {
   "cell_type": "code",
   "execution_count": 50,
   "metadata": {},
   "outputs": [],
   "source": [
    "df = df_create(5,3)"
   ]
  },
  {
   "cell_type": "code",
   "execution_count": 51,
   "metadata": {},
   "outputs": [
    {
     "output_type": "execute_result",
     "data": {
      "text/plain": [
       "    C1  C2  C3\n",
       "R1   4   1   5\n",
       "R2   5   9   5\n",
       "R3   2   8   9\n",
       "R4   7   7   8\n",
       "R5   6   1   6"
      ],
      "text/html": "<div>\n<style scoped>\n    .dataframe tbody tr th:only-of-type {\n        vertical-align: middle;\n    }\n\n    .dataframe tbody tr th {\n        vertical-align: top;\n    }\n\n    .dataframe thead th {\n        text-align: right;\n    }\n</style>\n<table border=\"1\" class=\"dataframe\">\n  <thead>\n    <tr style=\"text-align: right;\">\n      <th></th>\n      <th>C1</th>\n      <th>C2</th>\n      <th>C3</th>\n    </tr>\n  </thead>\n  <tbody>\n    <tr>\n      <th>R1</th>\n      <td>4</td>\n      <td>1</td>\n      <td>5</td>\n    </tr>\n    <tr>\n      <th>R2</th>\n      <td>5</td>\n      <td>9</td>\n      <td>5</td>\n    </tr>\n    <tr>\n      <th>R3</th>\n      <td>2</td>\n      <td>8</td>\n      <td>9</td>\n    </tr>\n    <tr>\n      <th>R4</th>\n      <td>7</td>\n      <td>7</td>\n      <td>8</td>\n    </tr>\n    <tr>\n      <th>R5</th>\n      <td>6</td>\n      <td>1</td>\n      <td>6</td>\n    </tr>\n  </tbody>\n</table>\n</div>"
     },
     "metadata": {},
     "execution_count": 51
    }
   ],
   "source": [
    "df"
   ]
  },
  {
   "cell_type": "code",
   "execution_count": 52,
   "metadata": {},
   "outputs": [
    {
     "output_type": "execute_result",
     "data": {
      "text/plain": [
       "C1    4.8\n",
       "C2    5.2\n",
       "C3    6.6\n",
       "dtype: float64"
      ]
     },
     "metadata": {},
     "execution_count": 52
    }
   ],
   "source": [
    "df.mean()"
   ]
  },
  {
   "cell_type": "code",
   "execution_count": 54,
   "metadata": {},
   "outputs": [
    {
     "output_type": "execute_result",
     "data": {
      "text/plain": [
       "R1    3.333333\n",
       "R2    6.333333\n",
       "R3    6.333333\n",
       "R4    7.333333\n",
       "R5    4.333333\n",
       "dtype: float64"
      ]
     },
     "metadata": {},
     "execution_count": 54
    }
   ],
   "source": [
    "df.mean(axis=1)"
   ]
  },
  {
   "cell_type": "code",
   "execution_count": 55,
   "metadata": {},
   "outputs": [],
   "source": [
    "df['Row_Mean'] = df.mean(axis=1)\n",
    "df.loc['Column_Mean'] = df.mean()"
   ]
  },
  {
   "cell_type": "code",
   "execution_count": 56,
   "metadata": {},
   "outputs": [
    {
     "output_type": "execute_result",
     "data": {
      "text/plain": [
       "              C1   C2   C3  Row_Mean\n",
       "R1           4.0  1.0  5.0  3.333333\n",
       "R2           5.0  9.0  5.0  6.333333\n",
       "R3           2.0  8.0  9.0  6.333333\n",
       "R4           7.0  7.0  8.0  7.333333\n",
       "R5           6.0  1.0  6.0  4.333333\n",
       "Column_Mean  4.8  5.2  6.6  5.533333"
      ],
      "text/html": "<div>\n<style scoped>\n    .dataframe tbody tr th:only-of-type {\n        vertical-align: middle;\n    }\n\n    .dataframe tbody tr th {\n        vertical-align: top;\n    }\n\n    .dataframe thead th {\n        text-align: right;\n    }\n</style>\n<table border=\"1\" class=\"dataframe\">\n  <thead>\n    <tr style=\"text-align: right;\">\n      <th></th>\n      <th>C1</th>\n      <th>C2</th>\n      <th>C3</th>\n      <th>Row_Mean</th>\n    </tr>\n  </thead>\n  <tbody>\n    <tr>\n      <th>R1</th>\n      <td>4.0</td>\n      <td>1.0</td>\n      <td>5.0</td>\n      <td>3.333333</td>\n    </tr>\n    <tr>\n      <th>R2</th>\n      <td>5.0</td>\n      <td>9.0</td>\n      <td>5.0</td>\n      <td>6.333333</td>\n    </tr>\n    <tr>\n      <th>R3</th>\n      <td>2.0</td>\n      <td>8.0</td>\n      <td>9.0</td>\n      <td>6.333333</td>\n    </tr>\n    <tr>\n      <th>R4</th>\n      <td>7.0</td>\n      <td>7.0</td>\n      <td>8.0</td>\n      <td>7.333333</td>\n    </tr>\n    <tr>\n      <th>R5</th>\n      <td>6.0</td>\n      <td>1.0</td>\n      <td>6.0</td>\n      <td>4.333333</td>\n    </tr>\n    <tr>\n      <th>Column_Mean</th>\n      <td>4.8</td>\n      <td>5.2</td>\n      <td>6.6</td>\n      <td>5.533333</td>\n    </tr>\n  </tbody>\n</table>\n</div>"
     },
     "metadata": {},
     "execution_count": 56
    }
   ],
   "source": [
    "df"
   ]
  },
  {
   "cell_type": "code",
   "execution_count": 57,
   "metadata": {},
   "outputs": [
    {
     "output_type": "execute_result",
     "data": {
      "text/plain": [
       "             C1        C2        C3  Row_Mean\n",
       "count  6.000000  6.000000  6.000000  6.000000\n",
       "mean   4.800000  5.200000  6.600000  5.533333\n",
       "std    1.720465  3.487119  1.624808  1.469694\n",
       "min    2.000000  1.000000  5.000000  3.333333\n",
       "25%    4.200000  2.050000  5.250000  4.633333\n",
       "50%    4.900000  6.100000  6.300000  5.933333\n",
       "75%    5.750000  7.750000  7.650000  6.333333\n",
       "max    7.000000  9.000000  9.000000  7.333333"
      ],
      "text/html": "<div>\n<style scoped>\n    .dataframe tbody tr th:only-of-type {\n        vertical-align: middle;\n    }\n\n    .dataframe tbody tr th {\n        vertical-align: top;\n    }\n\n    .dataframe thead th {\n        text-align: right;\n    }\n</style>\n<table border=\"1\" class=\"dataframe\">\n  <thead>\n    <tr style=\"text-align: right;\">\n      <th></th>\n      <th>C1</th>\n      <th>C2</th>\n      <th>C3</th>\n      <th>Row_Mean</th>\n    </tr>\n  </thead>\n  <tbody>\n    <tr>\n      <th>count</th>\n      <td>6.000000</td>\n      <td>6.000000</td>\n      <td>6.000000</td>\n      <td>6.000000</td>\n    </tr>\n    <tr>\n      <th>mean</th>\n      <td>4.800000</td>\n      <td>5.200000</td>\n      <td>6.600000</td>\n      <td>5.533333</td>\n    </tr>\n    <tr>\n      <th>std</th>\n      <td>1.720465</td>\n      <td>3.487119</td>\n      <td>1.624808</td>\n      <td>1.469694</td>\n    </tr>\n    <tr>\n      <th>min</th>\n      <td>2.000000</td>\n      <td>1.000000</td>\n      <td>5.000000</td>\n      <td>3.333333</td>\n    </tr>\n    <tr>\n      <th>25%</th>\n      <td>4.200000</td>\n      <td>2.050000</td>\n      <td>5.250000</td>\n      <td>4.633333</td>\n    </tr>\n    <tr>\n      <th>50%</th>\n      <td>4.900000</td>\n      <td>6.100000</td>\n      <td>6.300000</td>\n      <td>5.933333</td>\n    </tr>\n    <tr>\n      <th>75%</th>\n      <td>5.750000</td>\n      <td>7.750000</td>\n      <td>7.650000</td>\n      <td>6.333333</td>\n    </tr>\n    <tr>\n      <th>max</th>\n      <td>7.000000</td>\n      <td>9.000000</td>\n      <td>9.000000</td>\n      <td>7.333333</td>\n    </tr>\n  </tbody>\n</table>\n</div>"
     },
     "metadata": {},
     "execution_count": 57
    }
   ],
   "source": [
    "df.describe()"
   ]
  },
  {
   "cell_type": "code",
   "execution_count": 59,
   "metadata": {},
   "outputs": [
    {
     "output_type": "execute_result",
     "data": {
      "text/plain": [
       "             R1        R2        R3        R4        R5  Column_Mean\n",
       "count  4.000000  4.000000  4.000000  4.000000  4.000000     4.000000\n",
       "mean   3.333333  6.333333  6.333333  7.333333  4.333333     5.533333\n",
       "std    1.699673  1.885618  3.091206  0.471405  2.357023     0.771722\n",
       "min    1.000000  5.000000  2.000000  7.000000  1.000000     4.800000\n",
       "25%    2.750000  5.000000  5.250000  7.000000  3.500000     5.100000\n",
       "50%    3.666667  5.666667  7.166667  7.166667  5.166667     5.366667\n",
       "75%    4.250000  7.000000  8.250000  7.500000  6.000000     5.800000\n",
       "max    5.000000  9.000000  9.000000  8.000000  6.000000     6.600000"
      ],
      "text/html": "<div>\n<style scoped>\n    .dataframe tbody tr th:only-of-type {\n        vertical-align: middle;\n    }\n\n    .dataframe tbody tr th {\n        vertical-align: top;\n    }\n\n    .dataframe thead th {\n        text-align: right;\n    }\n</style>\n<table border=\"1\" class=\"dataframe\">\n  <thead>\n    <tr style=\"text-align: right;\">\n      <th></th>\n      <th>R1</th>\n      <th>R2</th>\n      <th>R3</th>\n      <th>R4</th>\n      <th>R5</th>\n      <th>Column_Mean</th>\n    </tr>\n  </thead>\n  <tbody>\n    <tr>\n      <th>count</th>\n      <td>4.000000</td>\n      <td>4.000000</td>\n      <td>4.000000</td>\n      <td>4.000000</td>\n      <td>4.000000</td>\n      <td>4.000000</td>\n    </tr>\n    <tr>\n      <th>mean</th>\n      <td>3.333333</td>\n      <td>6.333333</td>\n      <td>6.333333</td>\n      <td>7.333333</td>\n      <td>4.333333</td>\n      <td>5.533333</td>\n    </tr>\n    <tr>\n      <th>std</th>\n      <td>1.699673</td>\n      <td>1.885618</td>\n      <td>3.091206</td>\n      <td>0.471405</td>\n      <td>2.357023</td>\n      <td>0.771722</td>\n    </tr>\n    <tr>\n      <th>min</th>\n      <td>1.000000</td>\n      <td>5.000000</td>\n      <td>2.000000</td>\n      <td>7.000000</td>\n      <td>1.000000</td>\n      <td>4.800000</td>\n    </tr>\n    <tr>\n      <th>25%</th>\n      <td>2.750000</td>\n      <td>5.000000</td>\n      <td>5.250000</td>\n      <td>7.000000</td>\n      <td>3.500000</td>\n      <td>5.100000</td>\n    </tr>\n    <tr>\n      <th>50%</th>\n      <td>3.666667</td>\n      <td>5.666667</td>\n      <td>7.166667</td>\n      <td>7.166667</td>\n      <td>5.166667</td>\n      <td>5.366667</td>\n    </tr>\n    <tr>\n      <th>75%</th>\n      <td>4.250000</td>\n      <td>7.000000</td>\n      <td>8.250000</td>\n      <td>7.500000</td>\n      <td>6.000000</td>\n      <td>5.800000</td>\n    </tr>\n    <tr>\n      <th>max</th>\n      <td>5.000000</td>\n      <td>9.000000</td>\n      <td>9.000000</td>\n      <td>8.000000</td>\n      <td>6.000000</td>\n      <td>6.600000</td>\n    </tr>\n  </tbody>\n</table>\n</div>"
     },
     "metadata": {},
     "execution_count": 59
    }
   ],
   "source": [
    "df.T.describe()"
   ]
  },
  {
   "cell_type": "code",
   "execution_count": 60,
   "metadata": {},
   "outputs": [
    {
     "output_type": "execute_result",
     "data": {
      "text/plain": [
       "              C1   C2   C3  Row_Mean\n",
       "R1           4.0  1.0  5.0  3.333333\n",
       "R2           5.0  9.0  5.0  6.333333\n",
       "R3           2.0  8.0  9.0  6.333333\n",
       "R4           7.0  7.0  8.0  7.333333\n",
       "R5           6.0  1.0  6.0  4.333333\n",
       "Column_Mean  4.8  5.2  6.6  5.533333"
      ],
      "text/html": "<div>\n<style scoped>\n    .dataframe tbody tr th:only-of-type {\n        vertical-align: middle;\n    }\n\n    .dataframe tbody tr th {\n        vertical-align: top;\n    }\n\n    .dataframe thead th {\n        text-align: right;\n    }\n</style>\n<table border=\"1\" class=\"dataframe\">\n  <thead>\n    <tr style=\"text-align: right;\">\n      <th></th>\n      <th>C1</th>\n      <th>C2</th>\n      <th>C3</th>\n      <th>Row_Mean</th>\n    </tr>\n  </thead>\n  <tbody>\n    <tr>\n      <th>R1</th>\n      <td>4.0</td>\n      <td>1.0</td>\n      <td>5.0</td>\n      <td>3.333333</td>\n    </tr>\n    <tr>\n      <th>R2</th>\n      <td>5.0</td>\n      <td>9.0</td>\n      <td>5.0</td>\n      <td>6.333333</td>\n    </tr>\n    <tr>\n      <th>R3</th>\n      <td>2.0</td>\n      <td>8.0</td>\n      <td>9.0</td>\n      <td>6.333333</td>\n    </tr>\n    <tr>\n      <th>R4</th>\n      <td>7.0</td>\n      <td>7.0</td>\n      <td>8.0</td>\n      <td>7.333333</td>\n    </tr>\n    <tr>\n      <th>R5</th>\n      <td>6.0</td>\n      <td>1.0</td>\n      <td>6.0</td>\n      <td>4.333333</td>\n    </tr>\n    <tr>\n      <th>Column_Mean</th>\n      <td>4.8</td>\n      <td>5.2</td>\n      <td>6.6</td>\n      <td>5.533333</td>\n    </tr>\n  </tbody>\n</table>\n</div>"
     },
     "metadata": {},
     "execution_count": 60
    }
   ],
   "source": [
    "df"
   ]
  },
  {
   "cell_type": "code",
   "execution_count": 61,
   "metadata": {},
   "outputs": [],
   "source": [
    "planets = pd.DataFrame({\"Mass\": mass, \"Diameter\": diameter})"
   ]
  },
  {
   "cell_type": "code",
   "execution_count": 62,
   "metadata": {},
   "outputs": [
    {
     "output_type": "execute_result",
     "data": {
      "text/plain": [
       "              Mass  Diameter\n",
       "Earth       5.9700   12756.0\n",
       "Jupiter  1898.0000  142984.0\n",
       "Mars        0.6420    6792.0\n",
       "Mercury     0.3300    4879.0\n",
       "Moon           NaN    3475.0\n",
       "Neptune   102.0000   49528.0\n",
       "Pluto       0.0146    2370.0\n",
       "Saturn    568.0000  120536.0\n",
       "Uranus     86.8000   51118.0\n",
       "Venus       4.8700   12104.0"
      ],
      "text/html": "<div>\n<style scoped>\n    .dataframe tbody tr th:only-of-type {\n        vertical-align: middle;\n    }\n\n    .dataframe tbody tr th {\n        vertical-align: top;\n    }\n\n    .dataframe thead th {\n        text-align: right;\n    }\n</style>\n<table border=\"1\" class=\"dataframe\">\n  <thead>\n    <tr style=\"text-align: right;\">\n      <th></th>\n      <th>Mass</th>\n      <th>Diameter</th>\n    </tr>\n  </thead>\n  <tbody>\n    <tr>\n      <th>Earth</th>\n      <td>5.9700</td>\n      <td>12756.0</td>\n    </tr>\n    <tr>\n      <th>Jupiter</th>\n      <td>1898.0000</td>\n      <td>142984.0</td>\n    </tr>\n    <tr>\n      <th>Mars</th>\n      <td>0.6420</td>\n      <td>6792.0</td>\n    </tr>\n    <tr>\n      <th>Mercury</th>\n      <td>0.3300</td>\n      <td>4879.0</td>\n    </tr>\n    <tr>\n      <th>Moon</th>\n      <td>NaN</td>\n      <td>3475.0</td>\n    </tr>\n    <tr>\n      <th>Neptune</th>\n      <td>102.0000</td>\n      <td>49528.0</td>\n    </tr>\n    <tr>\n      <th>Pluto</th>\n      <td>0.0146</td>\n      <td>2370.0</td>\n    </tr>\n    <tr>\n      <th>Saturn</th>\n      <td>568.0000</td>\n      <td>120536.0</td>\n    </tr>\n    <tr>\n      <th>Uranus</th>\n      <td>86.8000</td>\n      <td>51118.0</td>\n    </tr>\n    <tr>\n      <th>Venus</th>\n      <td>4.8700</td>\n      <td>12104.0</td>\n    </tr>\n  </tbody>\n</table>\n</div>"
     },
     "metadata": {},
     "execution_count": 62
    }
   ],
   "source": [
    "planets"
   ]
  },
  {
   "cell_type": "code",
   "execution_count": 63,
   "metadata": {},
   "outputs": [
    {
     "output_type": "execute_result",
     "data": {
      "text/plain": [
       "              Mass      Diameter\n",
       "count     9.000000      10.00000\n",
       "mean    296.291844   40654.20000\n",
       "std     627.786429   51541.39142\n",
       "min       0.014600    2370.00000\n",
       "25%       0.642000    5357.25000\n",
       "50%       5.970000   12430.00000\n",
       "75%     102.000000   50720.50000\n",
       "max    1898.000000  142984.00000"
      ],
      "text/html": "<div>\n<style scoped>\n    .dataframe tbody tr th:only-of-type {\n        vertical-align: middle;\n    }\n\n    .dataframe tbody tr th {\n        vertical-align: top;\n    }\n\n    .dataframe thead th {\n        text-align: right;\n    }\n</style>\n<table border=\"1\" class=\"dataframe\">\n  <thead>\n    <tr style=\"text-align: right;\">\n      <th></th>\n      <th>Mass</th>\n      <th>Diameter</th>\n    </tr>\n  </thead>\n  <tbody>\n    <tr>\n      <th>count</th>\n      <td>9.000000</td>\n      <td>10.00000</td>\n    </tr>\n    <tr>\n      <th>mean</th>\n      <td>296.291844</td>\n      <td>40654.20000</td>\n    </tr>\n    <tr>\n      <th>std</th>\n      <td>627.786429</td>\n      <td>51541.39142</td>\n    </tr>\n    <tr>\n      <th>min</th>\n      <td>0.014600</td>\n      <td>2370.00000</td>\n    </tr>\n    <tr>\n      <th>25%</th>\n      <td>0.642000</td>\n      <td>5357.25000</td>\n    </tr>\n    <tr>\n      <th>50%</th>\n      <td>5.970000</td>\n      <td>12430.00000</td>\n    </tr>\n    <tr>\n      <th>75%</th>\n      <td>102.000000</td>\n      <td>50720.50000</td>\n    </tr>\n    <tr>\n      <th>max</th>\n      <td>1898.000000</td>\n      <td>142984.00000</td>\n    </tr>\n  </tbody>\n</table>\n</div>"
     },
     "metadata": {},
     "execution_count": 63
    }
   ],
   "source": [
    "planets.describe()"
   ]
  },
  {
   "cell_type": "code",
   "execution_count": 2,
   "metadata": {},
   "outputs": [],
   "source": [
    "import seaborn as sns"
   ]
  },
  {
   "cell_type": "code",
   "execution_count": 7,
   "metadata": {},
   "outputs": [
    {
     "output_type": "execute_result",
     "data": {
      "text/plain": [
       "['anagrams',\n",
       " 'anscombe',\n",
       " 'attention',\n",
       " 'brain_networks',\n",
       " 'car_crashes',\n",
       " 'diamonds',\n",
       " 'dots',\n",
       " 'exercise',\n",
       " 'flights',\n",
       " 'fmri',\n",
       " 'gammas',\n",
       " 'geyser',\n",
       " 'iris',\n",
       " 'mpg',\n",
       " 'penguins',\n",
       " 'planets',\n",
       " 'tips',\n",
       " 'titanic']"
      ]
     },
     "metadata": {},
     "execution_count": 7
    }
   ],
   "source": [
    "sns.get_dataset_names()"
   ]
  },
  {
   "cell_type": "code",
   "execution_count": 78,
   "metadata": {},
   "outputs": [],
   "source": [
    "planets = sns.load_dataset('planets') #returms a dataframe"
   ]
  },
  {
   "cell_type": "code",
   "execution_count": 4,
   "metadata": {},
   "outputs": [
    {
     "output_type": "execute_result",
     "data": {
      "text/plain": [
       "               method  number  orbital_period   mass  distance  year\n",
       "0     Radial Velocity       1      269.300000   7.10     77.40  2006\n",
       "1     Radial Velocity       1      874.774000   2.21     56.95  2008\n",
       "2     Radial Velocity       1      763.000000   2.60     19.84  2011\n",
       "3     Radial Velocity       1      326.030000  19.40    110.62  2007\n",
       "4     Radial Velocity       1      516.220000  10.50    119.47  2009\n",
       "...               ...     ...             ...    ...       ...   ...\n",
       "1030          Transit       1        3.941507    NaN    172.00  2006\n",
       "1031          Transit       1        2.615864    NaN    148.00  2007\n",
       "1032          Transit       1        3.191524    NaN    174.00  2007\n",
       "1033          Transit       1        4.125083    NaN    293.00  2008\n",
       "1034          Transit       1        4.187757    NaN    260.00  2008\n",
       "\n",
       "[1035 rows x 6 columns]"
      ],
      "text/html": "<div>\n<style scoped>\n    .dataframe tbody tr th:only-of-type {\n        vertical-align: middle;\n    }\n\n    .dataframe tbody tr th {\n        vertical-align: top;\n    }\n\n    .dataframe thead th {\n        text-align: right;\n    }\n</style>\n<table border=\"1\" class=\"dataframe\">\n  <thead>\n    <tr style=\"text-align: right;\">\n      <th></th>\n      <th>method</th>\n      <th>number</th>\n      <th>orbital_period</th>\n      <th>mass</th>\n      <th>distance</th>\n      <th>year</th>\n    </tr>\n  </thead>\n  <tbody>\n    <tr>\n      <th>0</th>\n      <td>Radial Velocity</td>\n      <td>1</td>\n      <td>269.300000</td>\n      <td>7.10</td>\n      <td>77.40</td>\n      <td>2006</td>\n    </tr>\n    <tr>\n      <th>1</th>\n      <td>Radial Velocity</td>\n      <td>1</td>\n      <td>874.774000</td>\n      <td>2.21</td>\n      <td>56.95</td>\n      <td>2008</td>\n    </tr>\n    <tr>\n      <th>2</th>\n      <td>Radial Velocity</td>\n      <td>1</td>\n      <td>763.000000</td>\n      <td>2.60</td>\n      <td>19.84</td>\n      <td>2011</td>\n    </tr>\n    <tr>\n      <th>3</th>\n      <td>Radial Velocity</td>\n      <td>1</td>\n      <td>326.030000</td>\n      <td>19.40</td>\n      <td>110.62</td>\n      <td>2007</td>\n    </tr>\n    <tr>\n      <th>4</th>\n      <td>Radial Velocity</td>\n      <td>1</td>\n      <td>516.220000</td>\n      <td>10.50</td>\n      <td>119.47</td>\n      <td>2009</td>\n    </tr>\n    <tr>\n      <th>...</th>\n      <td>...</td>\n      <td>...</td>\n      <td>...</td>\n      <td>...</td>\n      <td>...</td>\n      <td>...</td>\n    </tr>\n    <tr>\n      <th>1030</th>\n      <td>Transit</td>\n      <td>1</td>\n      <td>3.941507</td>\n      <td>NaN</td>\n      <td>172.00</td>\n      <td>2006</td>\n    </tr>\n    <tr>\n      <th>1031</th>\n      <td>Transit</td>\n      <td>1</td>\n      <td>2.615864</td>\n      <td>NaN</td>\n      <td>148.00</td>\n      <td>2007</td>\n    </tr>\n    <tr>\n      <th>1032</th>\n      <td>Transit</td>\n      <td>1</td>\n      <td>3.191524</td>\n      <td>NaN</td>\n      <td>174.00</td>\n      <td>2007</td>\n    </tr>\n    <tr>\n      <th>1033</th>\n      <td>Transit</td>\n      <td>1</td>\n      <td>4.125083</td>\n      <td>NaN</td>\n      <td>293.00</td>\n      <td>2008</td>\n    </tr>\n    <tr>\n      <th>1034</th>\n      <td>Transit</td>\n      <td>1</td>\n      <td>4.187757</td>\n      <td>NaN</td>\n      <td>260.00</td>\n      <td>2008</td>\n    </tr>\n  </tbody>\n</table>\n<p>1035 rows × 6 columns</p>\n</div>"
     },
     "metadata": {},
     "execution_count": 4
    }
   ],
   "source": [
    "planets"
   ]
  },
  {
   "cell_type": "code",
   "execution_count": 14,
   "metadata": {},
   "outputs": [
    {
     "output_type": "stream",
     "name": "stdout",
     "text": [
      "<class 'pandas.core.frame.DataFrame'>\nRangeIndex: 1035 entries, 0 to 1034\nData columns (total 6 columns):\n #   Column          Non-Null Count  Dtype  \n---  ------          --------------  -----  \n 0   method          1035 non-null   object \n 1   number          1035 non-null   int64  \n 2   orbital_period  992 non-null    float64\n 3   mass            513 non-null    float64\n 4   distance        808 non-null    float64\n 5   year            1035 non-null   int64  \ndtypes: float64(3), int64(2), object(1)\nmemory usage: 48.6+ KB\n"
     ]
    }
   ],
   "source": [
    "planets.info()\n",
    "#planets discovered across the universe"
   ]
  },
  {
   "cell_type": "code",
   "execution_count": 16,
   "metadata": {},
   "outputs": [
    {
     "output_type": "execute_result",
     "data": {
      "text/plain": [
       "            method  number  orbital_period   mass  distance  year\n",
       "0  Radial Velocity       1         269.300   7.10     77.40  2006\n",
       "1  Radial Velocity       1         874.774   2.21     56.95  2008\n",
       "2  Radial Velocity       1         763.000   2.60     19.84  2011\n",
       "3  Radial Velocity       1         326.030  19.40    110.62  2007\n",
       "4  Radial Velocity       1         516.220  10.50    119.47  2009"
      ],
      "text/html": "<div>\n<style scoped>\n    .dataframe tbody tr th:only-of-type {\n        vertical-align: middle;\n    }\n\n    .dataframe tbody tr th {\n        vertical-align: top;\n    }\n\n    .dataframe thead th {\n        text-align: right;\n    }\n</style>\n<table border=\"1\" class=\"dataframe\">\n  <thead>\n    <tr style=\"text-align: right;\">\n      <th></th>\n      <th>method</th>\n      <th>number</th>\n      <th>orbital_period</th>\n      <th>mass</th>\n      <th>distance</th>\n      <th>year</th>\n    </tr>\n  </thead>\n  <tbody>\n    <tr>\n      <th>0</th>\n      <td>Radial Velocity</td>\n      <td>1</td>\n      <td>269.300</td>\n      <td>7.10</td>\n      <td>77.40</td>\n      <td>2006</td>\n    </tr>\n    <tr>\n      <th>1</th>\n      <td>Radial Velocity</td>\n      <td>1</td>\n      <td>874.774</td>\n      <td>2.21</td>\n      <td>56.95</td>\n      <td>2008</td>\n    </tr>\n    <tr>\n      <th>2</th>\n      <td>Radial Velocity</td>\n      <td>1</td>\n      <td>763.000</td>\n      <td>2.60</td>\n      <td>19.84</td>\n      <td>2011</td>\n    </tr>\n    <tr>\n      <th>3</th>\n      <td>Radial Velocity</td>\n      <td>1</td>\n      <td>326.030</td>\n      <td>19.40</td>\n      <td>110.62</td>\n      <td>2007</td>\n    </tr>\n    <tr>\n      <th>4</th>\n      <td>Radial Velocity</td>\n      <td>1</td>\n      <td>516.220</td>\n      <td>10.50</td>\n      <td>119.47</td>\n      <td>2009</td>\n    </tr>\n  </tbody>\n</table>\n</div>"
     },
     "metadata": {},
     "execution_count": 16
    }
   ],
   "source": [
    "planets.head()"
   ]
  },
  {
   "cell_type": "code",
   "execution_count": 17,
   "metadata": {},
   "outputs": [
    {
     "output_type": "execute_result",
     "data": {
      "text/plain": [
       "       method  number  orbital_period  mass  distance  year\n",
       "1030  Transit       1        3.941507   NaN     172.0  2006\n",
       "1031  Transit       1        2.615864   NaN     148.0  2007\n",
       "1032  Transit       1        3.191524   NaN     174.0  2007\n",
       "1033  Transit       1        4.125083   NaN     293.0  2008\n",
       "1034  Transit       1        4.187757   NaN     260.0  2008"
      ],
      "text/html": "<div>\n<style scoped>\n    .dataframe tbody tr th:only-of-type {\n        vertical-align: middle;\n    }\n\n    .dataframe tbody tr th {\n        vertical-align: top;\n    }\n\n    .dataframe thead th {\n        text-align: right;\n    }\n</style>\n<table border=\"1\" class=\"dataframe\">\n  <thead>\n    <tr style=\"text-align: right;\">\n      <th></th>\n      <th>method</th>\n      <th>number</th>\n      <th>orbital_period</th>\n      <th>mass</th>\n      <th>distance</th>\n      <th>year</th>\n    </tr>\n  </thead>\n  <tbody>\n    <tr>\n      <th>1030</th>\n      <td>Transit</td>\n      <td>1</td>\n      <td>3.941507</td>\n      <td>NaN</td>\n      <td>172.0</td>\n      <td>2006</td>\n    </tr>\n    <tr>\n      <th>1031</th>\n      <td>Transit</td>\n      <td>1</td>\n      <td>2.615864</td>\n      <td>NaN</td>\n      <td>148.0</td>\n      <td>2007</td>\n    </tr>\n    <tr>\n      <th>1032</th>\n      <td>Transit</td>\n      <td>1</td>\n      <td>3.191524</td>\n      <td>NaN</td>\n      <td>174.0</td>\n      <td>2007</td>\n    </tr>\n    <tr>\n      <th>1033</th>\n      <td>Transit</td>\n      <td>1</td>\n      <td>4.125083</td>\n      <td>NaN</td>\n      <td>293.0</td>\n      <td>2008</td>\n    </tr>\n    <tr>\n      <th>1034</th>\n      <td>Transit</td>\n      <td>1</td>\n      <td>4.187757</td>\n      <td>NaN</td>\n      <td>260.0</td>\n      <td>2008</td>\n    </tr>\n  </tbody>\n</table>\n</div>"
     },
     "metadata": {},
     "execution_count": 17
    }
   ],
   "source": [
    "planets.tail()"
   ]
  },
  {
   "cell_type": "code",
   "execution_count": 19,
   "metadata": {},
   "outputs": [
    {
     "output_type": "execute_result",
     "data": {
      "text/plain": [
       "            number  orbital_period        mass     distance         year\n",
       "count  1035.000000      992.000000  513.000000   808.000000  1035.000000\n",
       "mean      1.785507     2002.917596    2.638161   264.069282  2009.070531\n",
       "std       1.240976    26014.728304    3.818617   733.116493     3.972567\n",
       "min       1.000000        0.090706    0.003600     1.350000  1989.000000\n",
       "25%       1.000000        5.442540    0.229000    32.560000  2007.000000\n",
       "50%       1.000000       39.979500    1.260000    55.250000  2010.000000\n",
       "75%       2.000000      526.005000    3.040000   178.500000  2012.000000\n",
       "max       7.000000   730000.000000   25.000000  8500.000000  2014.000000"
      ],
      "text/html": "<div>\n<style scoped>\n    .dataframe tbody tr th:only-of-type {\n        vertical-align: middle;\n    }\n\n    .dataframe tbody tr th {\n        vertical-align: top;\n    }\n\n    .dataframe thead th {\n        text-align: right;\n    }\n</style>\n<table border=\"1\" class=\"dataframe\">\n  <thead>\n    <tr style=\"text-align: right;\">\n      <th></th>\n      <th>number</th>\n      <th>orbital_period</th>\n      <th>mass</th>\n      <th>distance</th>\n      <th>year</th>\n    </tr>\n  </thead>\n  <tbody>\n    <tr>\n      <th>count</th>\n      <td>1035.000000</td>\n      <td>992.000000</td>\n      <td>513.000000</td>\n      <td>808.000000</td>\n      <td>1035.000000</td>\n    </tr>\n    <tr>\n      <th>mean</th>\n      <td>1.785507</td>\n      <td>2002.917596</td>\n      <td>2.638161</td>\n      <td>264.069282</td>\n      <td>2009.070531</td>\n    </tr>\n    <tr>\n      <th>std</th>\n      <td>1.240976</td>\n      <td>26014.728304</td>\n      <td>3.818617</td>\n      <td>733.116493</td>\n      <td>3.972567</td>\n    </tr>\n    <tr>\n      <th>min</th>\n      <td>1.000000</td>\n      <td>0.090706</td>\n      <td>0.003600</td>\n      <td>1.350000</td>\n      <td>1989.000000</td>\n    </tr>\n    <tr>\n      <th>25%</th>\n      <td>1.000000</td>\n      <td>5.442540</td>\n      <td>0.229000</td>\n      <td>32.560000</td>\n      <td>2007.000000</td>\n    </tr>\n    <tr>\n      <th>50%</th>\n      <td>1.000000</td>\n      <td>39.979500</td>\n      <td>1.260000</td>\n      <td>55.250000</td>\n      <td>2010.000000</td>\n    </tr>\n    <tr>\n      <th>75%</th>\n      <td>2.000000</td>\n      <td>526.005000</td>\n      <td>3.040000</td>\n      <td>178.500000</td>\n      <td>2012.000000</td>\n    </tr>\n    <tr>\n      <th>max</th>\n      <td>7.000000</td>\n      <td>730000.000000</td>\n      <td>25.000000</td>\n      <td>8500.000000</td>\n      <td>2014.000000</td>\n    </tr>\n  </tbody>\n</table>\n</div>"
     },
     "metadata": {},
     "execution_count": 19
    }
   ],
   "source": [
    "planets.describe() #ignores non numerical values"
   ]
  },
  {
   "source": [
    "Go through each row and delete if any column is null\n"
   ],
   "cell_type": "markdown",
   "metadata": {}
  },
  {
   "cell_type": "code",
   "execution_count": 7,
   "metadata": {},
   "outputs": [],
   "source": [
    "for i in planets.index:\n",
    "    for j in planets.columns:\n",
    "        if pd.isnull(planets.loc[i,j]):\n",
    "            planets.drop(i, inplace=True)\n",
    "            break"
   ]
  },
  {
   "cell_type": "code",
   "execution_count": 10,
   "metadata": {},
   "outputs": [
    {
     "output_type": "execute_result",
     "data": {
      "text/plain": [
       "          number  orbital_period        mass    distance         year\n",
       "count  498.00000      498.000000  498.000000  498.000000   498.000000\n",
       "mean     1.73494      835.778671    2.509320   52.068213  2007.377510\n",
       "std      1.17572     1469.128259    3.636274   46.596041     4.167284\n",
       "min      1.00000        1.328300    0.003600    1.350000  1989.000000\n",
       "25%      1.00000       38.272250    0.212500   24.497500  2005.000000\n",
       "50%      1.00000      357.000000    1.245000   39.940000  2009.000000\n",
       "75%      2.00000      999.600000    2.867500   59.332500  2011.000000\n",
       "max      6.00000    17337.500000   25.000000  354.000000  2014.000000"
      ],
      "text/html": "<div>\n<style scoped>\n    .dataframe tbody tr th:only-of-type {\n        vertical-align: middle;\n    }\n\n    .dataframe tbody tr th {\n        vertical-align: top;\n    }\n\n    .dataframe thead th {\n        text-align: right;\n    }\n</style>\n<table border=\"1\" class=\"dataframe\">\n  <thead>\n    <tr style=\"text-align: right;\">\n      <th></th>\n      <th>number</th>\n      <th>orbital_period</th>\n      <th>mass</th>\n      <th>distance</th>\n      <th>year</th>\n    </tr>\n  </thead>\n  <tbody>\n    <tr>\n      <th>count</th>\n      <td>498.00000</td>\n      <td>498.000000</td>\n      <td>498.000000</td>\n      <td>498.000000</td>\n      <td>498.000000</td>\n    </tr>\n    <tr>\n      <th>mean</th>\n      <td>1.73494</td>\n      <td>835.778671</td>\n      <td>2.509320</td>\n      <td>52.068213</td>\n      <td>2007.377510</td>\n    </tr>\n    <tr>\n      <th>std</th>\n      <td>1.17572</td>\n      <td>1469.128259</td>\n      <td>3.636274</td>\n      <td>46.596041</td>\n      <td>4.167284</td>\n    </tr>\n    <tr>\n      <th>min</th>\n      <td>1.00000</td>\n      <td>1.328300</td>\n      <td>0.003600</td>\n      <td>1.350000</td>\n      <td>1989.000000</td>\n    </tr>\n    <tr>\n      <th>25%</th>\n      <td>1.00000</td>\n      <td>38.272250</td>\n      <td>0.212500</td>\n      <td>24.497500</td>\n      <td>2005.000000</td>\n    </tr>\n    <tr>\n      <th>50%</th>\n      <td>1.00000</td>\n      <td>357.000000</td>\n      <td>1.245000</td>\n      <td>39.940000</td>\n      <td>2009.000000</td>\n    </tr>\n    <tr>\n      <th>75%</th>\n      <td>2.00000</td>\n      <td>999.600000</td>\n      <td>2.867500</td>\n      <td>59.332500</td>\n      <td>2011.000000</td>\n    </tr>\n    <tr>\n      <th>max</th>\n      <td>6.00000</td>\n      <td>17337.500000</td>\n      <td>25.000000</td>\n      <td>354.000000</td>\n      <td>2014.000000</td>\n    </tr>\n  </tbody>\n</table>\n</div>"
     },
     "metadata": {},
     "execution_count": 10
    }
   ],
   "source": [
    "planets.describe()"
   ]
  },
  {
   "cell_type": "code",
   "execution_count": 13,
   "metadata": {},
   "outputs": [
    {
     "output_type": "stream",
     "name": "stdout",
     "text": [
      "0 \n method            Radial Velocity\nnumber                          1\norbital_period              269.3\nmass                          7.1\ndistance                     77.4\nyear                         2006\nName: 0, dtype: object\n"
     ]
    }
   ],
   "source": [
    "for i,r in planets.iterrows():\n",
    "    print(i,\"\\n\",r)\n",
    "    break"
   ]
  },
  {
   "cell_type": "code",
   "execution_count": 17,
   "metadata": {},
   "outputs": [],
   "source": [
    "for i,r in planets.iterrows():\n",
    "    if (pd.isnull(r).any()):\n",
    "         planets.drop(i, inplace=True)"
   ]
  },
  {
   "cell_type": "code",
   "execution_count": 18,
   "metadata": {},
   "outputs": [
    {
     "output_type": "execute_result",
     "data": {
      "text/plain": [
       "          number  orbital_period        mass    distance         year\n",
       "count  498.00000      498.000000  498.000000  498.000000   498.000000\n",
       "mean     1.73494      835.778671    2.509320   52.068213  2007.377510\n",
       "std      1.17572     1469.128259    3.636274   46.596041     4.167284\n",
       "min      1.00000        1.328300    0.003600    1.350000  1989.000000\n",
       "25%      1.00000       38.272250    0.212500   24.497500  2005.000000\n",
       "50%      1.00000      357.000000    1.245000   39.940000  2009.000000\n",
       "75%      2.00000      999.600000    2.867500   59.332500  2011.000000\n",
       "max      6.00000    17337.500000   25.000000  354.000000  2014.000000"
      ],
      "text/html": "<div>\n<style scoped>\n    .dataframe tbody tr th:only-of-type {\n        vertical-align: middle;\n    }\n\n    .dataframe tbody tr th {\n        vertical-align: top;\n    }\n\n    .dataframe thead th {\n        text-align: right;\n    }\n</style>\n<table border=\"1\" class=\"dataframe\">\n  <thead>\n    <tr style=\"text-align: right;\">\n      <th></th>\n      <th>number</th>\n      <th>orbital_period</th>\n      <th>mass</th>\n      <th>distance</th>\n      <th>year</th>\n    </tr>\n  </thead>\n  <tbody>\n    <tr>\n      <th>count</th>\n      <td>498.00000</td>\n      <td>498.000000</td>\n      <td>498.000000</td>\n      <td>498.000000</td>\n      <td>498.000000</td>\n    </tr>\n    <tr>\n      <th>mean</th>\n      <td>1.73494</td>\n      <td>835.778671</td>\n      <td>2.509320</td>\n      <td>52.068213</td>\n      <td>2007.377510</td>\n    </tr>\n    <tr>\n      <th>std</th>\n      <td>1.17572</td>\n      <td>1469.128259</td>\n      <td>3.636274</td>\n      <td>46.596041</td>\n      <td>4.167284</td>\n    </tr>\n    <tr>\n      <th>min</th>\n      <td>1.00000</td>\n      <td>1.328300</td>\n      <td>0.003600</td>\n      <td>1.350000</td>\n      <td>1989.000000</td>\n    </tr>\n    <tr>\n      <th>25%</th>\n      <td>1.00000</td>\n      <td>38.272250</td>\n      <td>0.212500</td>\n      <td>24.497500</td>\n      <td>2005.000000</td>\n    </tr>\n    <tr>\n      <th>50%</th>\n      <td>1.00000</td>\n      <td>357.000000</td>\n      <td>1.245000</td>\n      <td>39.940000</td>\n      <td>2009.000000</td>\n    </tr>\n    <tr>\n      <th>75%</th>\n      <td>2.00000</td>\n      <td>999.600000</td>\n      <td>2.867500</td>\n      <td>59.332500</td>\n      <td>2011.000000</td>\n    </tr>\n    <tr>\n      <th>max</th>\n      <td>6.00000</td>\n      <td>17337.500000</td>\n      <td>25.000000</td>\n      <td>354.000000</td>\n      <td>2014.000000</td>\n    </tr>\n  </tbody>\n</table>\n</div>"
     },
     "metadata": {},
     "execution_count": 18
    }
   ],
   "source": [
    "planets.describe()"
   ]
  },
  {
   "cell_type": "code",
   "execution_count": 43,
   "metadata": {},
   "outputs": [],
   "source": [
    "planets.dropna(inplace=True)"
   ]
  },
  {
   "cell_type": "code",
   "execution_count": 44,
   "metadata": {},
   "outputs": [
    {
     "output_type": "execute_result",
     "data": {
      "text/plain": [
       "          number  orbital_period        mass    distance         year\n",
       "count  498.00000      498.000000  498.000000  498.000000   498.000000\n",
       "mean     1.73494      835.778671    2.509320   52.068213  2007.377510\n",
       "std      1.17572     1469.128259    3.636274   46.596041     4.167284\n",
       "min      1.00000        1.328300    0.003600    1.350000  1989.000000\n",
       "25%      1.00000       38.272250    0.212500   24.497500  2005.000000\n",
       "50%      1.00000      357.000000    1.245000   39.940000  2009.000000\n",
       "75%      2.00000      999.600000    2.867500   59.332500  2011.000000\n",
       "max      6.00000    17337.500000   25.000000  354.000000  2014.000000"
      ],
      "text/html": "<div>\n<style scoped>\n    .dataframe tbody tr th:only-of-type {\n        vertical-align: middle;\n    }\n\n    .dataframe tbody tr th {\n        vertical-align: top;\n    }\n\n    .dataframe thead th {\n        text-align: right;\n    }\n</style>\n<table border=\"1\" class=\"dataframe\">\n  <thead>\n    <tr style=\"text-align: right;\">\n      <th></th>\n      <th>number</th>\n      <th>orbital_period</th>\n      <th>mass</th>\n      <th>distance</th>\n      <th>year</th>\n    </tr>\n  </thead>\n  <tbody>\n    <tr>\n      <th>count</th>\n      <td>498.00000</td>\n      <td>498.000000</td>\n      <td>498.000000</td>\n      <td>498.000000</td>\n      <td>498.000000</td>\n    </tr>\n    <tr>\n      <th>mean</th>\n      <td>1.73494</td>\n      <td>835.778671</td>\n      <td>2.509320</td>\n      <td>52.068213</td>\n      <td>2007.377510</td>\n    </tr>\n    <tr>\n      <th>std</th>\n      <td>1.17572</td>\n      <td>1469.128259</td>\n      <td>3.636274</td>\n      <td>46.596041</td>\n      <td>4.167284</td>\n    </tr>\n    <tr>\n      <th>min</th>\n      <td>1.00000</td>\n      <td>1.328300</td>\n      <td>0.003600</td>\n      <td>1.350000</td>\n      <td>1989.000000</td>\n    </tr>\n    <tr>\n      <th>25%</th>\n      <td>1.00000</td>\n      <td>38.272250</td>\n      <td>0.212500</td>\n      <td>24.497500</td>\n      <td>2005.000000</td>\n    </tr>\n    <tr>\n      <th>50%</th>\n      <td>1.00000</td>\n      <td>357.000000</td>\n      <td>1.245000</td>\n      <td>39.940000</td>\n      <td>2009.000000</td>\n    </tr>\n    <tr>\n      <th>75%</th>\n      <td>2.00000</td>\n      <td>999.600000</td>\n      <td>2.867500</td>\n      <td>59.332500</td>\n      <td>2011.000000</td>\n    </tr>\n    <tr>\n      <th>max</th>\n      <td>6.00000</td>\n      <td>17337.500000</td>\n      <td>25.000000</td>\n      <td>354.000000</td>\n      <td>2014.000000</td>\n    </tr>\n  </tbody>\n</table>\n</div>"
     },
     "metadata": {},
     "execution_count": 44
    }
   ],
   "source": [
    "planets.describe()"
   ]
  },
  {
   "source": [
    "Filter and show the rows that have planets found in 2010s and method is 'Radial Velocity' and 'Transit' and distance is > 75 percentile"
   ],
   "cell_type": "markdown",
   "metadata": {}
  },
  {
   "cell_type": "code",
   "execution_count": 41,
   "metadata": {},
   "outputs": [],
   "source": [
    "# select  * from planets where year >= 2010 and method = \"Radial Velocity\" and \"Transit\" and distance > (75/100 x x)"
   ]
  },
  {
   "cell_type": "code",
   "execution_count": 45,
   "metadata": {},
   "outputs": [],
   "source": [
    "df = planets.copy()\n",
    "q3 = planets.distance.quantile(0.75)\n",
    "for i,r in df.iterrows():\n",
    "    if r['year'] < 2010:\n",
    "        df.drop(i, inplace=True)\n",
    "        continue\n",
    "    if r['method'] != \"Radial Velocity\" and r['method'] != \"Transit\":\n",
    "        df.drop(i, inplace=True)\n",
    "        continue\n",
    "    if r['distance'] < q3:\n",
    "        df.drop(i, inplace=True)\n",
    "        continue"
   ]
  },
  {
   "cell_type": "code",
   "execution_count": 47,
   "metadata": {},
   "outputs": [
    {
     "output_type": "execute_result",
     "data": {
      "text/plain": [
       "          number  orbital_period       mass    distance         year\n",
       "count  50.000000       50.000000  50.000000   50.000000    50.000000\n",
       "mean    1.300000      763.904808   3.322740  133.142600  2011.360000\n",
       "std     0.505076      966.789870   3.648002   70.378699     1.120496\n",
       "min     1.000000        2.703390   0.770000   65.620000  2010.000000\n",
       "25%     1.000000      255.555000   1.325000   80.205000  2011.000000\n",
       "50%     1.000000      550.500000   1.875000  121.070000  2011.000000\n",
       "75%     2.000000      873.625000   3.400000  150.097500  2012.000000\n",
       "max     3.000000     5584.000000  20.600000  354.000000  2014.000000"
      ],
      "text/html": "<div>\n<style scoped>\n    .dataframe tbody tr th:only-of-type {\n        vertical-align: middle;\n    }\n\n    .dataframe tbody tr th {\n        vertical-align: top;\n    }\n\n    .dataframe thead th {\n        text-align: right;\n    }\n</style>\n<table border=\"1\" class=\"dataframe\">\n  <thead>\n    <tr style=\"text-align: right;\">\n      <th></th>\n      <th>number</th>\n      <th>orbital_period</th>\n      <th>mass</th>\n      <th>distance</th>\n      <th>year</th>\n    </tr>\n  </thead>\n  <tbody>\n    <tr>\n      <th>count</th>\n      <td>50.000000</td>\n      <td>50.000000</td>\n      <td>50.000000</td>\n      <td>50.000000</td>\n      <td>50.000000</td>\n    </tr>\n    <tr>\n      <th>mean</th>\n      <td>1.300000</td>\n      <td>763.904808</td>\n      <td>3.322740</td>\n      <td>133.142600</td>\n      <td>2011.360000</td>\n    </tr>\n    <tr>\n      <th>std</th>\n      <td>0.505076</td>\n      <td>966.789870</td>\n      <td>3.648002</td>\n      <td>70.378699</td>\n      <td>1.120496</td>\n    </tr>\n    <tr>\n      <th>min</th>\n      <td>1.000000</td>\n      <td>2.703390</td>\n      <td>0.770000</td>\n      <td>65.620000</td>\n      <td>2010.000000</td>\n    </tr>\n    <tr>\n      <th>25%</th>\n      <td>1.000000</td>\n      <td>255.555000</td>\n      <td>1.325000</td>\n      <td>80.205000</td>\n      <td>2011.000000</td>\n    </tr>\n    <tr>\n      <th>50%</th>\n      <td>1.000000</td>\n      <td>550.500000</td>\n      <td>1.875000</td>\n      <td>121.070000</td>\n      <td>2011.000000</td>\n    </tr>\n    <tr>\n      <th>75%</th>\n      <td>2.000000</td>\n      <td>873.625000</td>\n      <td>3.400000</td>\n      <td>150.097500</td>\n      <td>2012.000000</td>\n    </tr>\n    <tr>\n      <th>max</th>\n      <td>3.000000</td>\n      <td>5584.000000</td>\n      <td>20.600000</td>\n      <td>354.000000</td>\n      <td>2014.000000</td>\n    </tr>\n  </tbody>\n</table>\n</div>"
     },
     "metadata": {},
     "execution_count": 47
    }
   ],
   "source": [
    "df.describe()"
   ]
  },
  {
   "cell_type": "code",
   "execution_count": 48,
   "metadata": {},
   "outputs": [
    {
     "output_type": "execute_result",
     "data": {
      "text/plain": [
       "59.3325"
      ]
     },
     "metadata": {},
     "execution_count": 48
    }
   ],
   "source": [
    "q3"
   ]
  },
  {
   "cell_type": "code",
   "execution_count": 56,
   "metadata": {},
   "outputs": [],
   "source": [
    "df = planets.copy()\n",
    "df = df[\n",
    "    (df['year']>=2010) &\n",
    "    ((df['method'] == \"Radial Velocity\") | (df['method'] == \"Transit\")) &\n",
    "    ( df['distance'] >= q3)\n",
    "] # wayto query in pandas - using indexing"
   ]
  },
  {
   "cell_type": "code",
   "execution_count": 57,
   "metadata": {},
   "outputs": [
    {
     "output_type": "execute_result",
     "data": {
      "text/plain": [
       "          number  orbital_period       mass    distance         year\n",
       "count  50.000000       50.000000  50.000000   50.000000    50.000000\n",
       "mean    1.300000      763.904808   3.322740  133.142600  2011.360000\n",
       "std     0.505076      966.789870   3.648002   70.378699     1.120496\n",
       "min     1.000000        2.703390   0.770000   65.620000  2010.000000\n",
       "25%     1.000000      255.555000   1.325000   80.205000  2011.000000\n",
       "50%     1.000000      550.500000   1.875000  121.070000  2011.000000\n",
       "75%     2.000000      873.625000   3.400000  150.097500  2012.000000\n",
       "max     3.000000     5584.000000  20.600000  354.000000  2014.000000"
      ],
      "text/html": "<div>\n<style scoped>\n    .dataframe tbody tr th:only-of-type {\n        vertical-align: middle;\n    }\n\n    .dataframe tbody tr th {\n        vertical-align: top;\n    }\n\n    .dataframe thead th {\n        text-align: right;\n    }\n</style>\n<table border=\"1\" class=\"dataframe\">\n  <thead>\n    <tr style=\"text-align: right;\">\n      <th></th>\n      <th>number</th>\n      <th>orbital_period</th>\n      <th>mass</th>\n      <th>distance</th>\n      <th>year</th>\n    </tr>\n  </thead>\n  <tbody>\n    <tr>\n      <th>count</th>\n      <td>50.000000</td>\n      <td>50.000000</td>\n      <td>50.000000</td>\n      <td>50.000000</td>\n      <td>50.000000</td>\n    </tr>\n    <tr>\n      <th>mean</th>\n      <td>1.300000</td>\n      <td>763.904808</td>\n      <td>3.322740</td>\n      <td>133.142600</td>\n      <td>2011.360000</td>\n    </tr>\n    <tr>\n      <th>std</th>\n      <td>0.505076</td>\n      <td>966.789870</td>\n      <td>3.648002</td>\n      <td>70.378699</td>\n      <td>1.120496</td>\n    </tr>\n    <tr>\n      <th>min</th>\n      <td>1.000000</td>\n      <td>2.703390</td>\n      <td>0.770000</td>\n      <td>65.620000</td>\n      <td>2010.000000</td>\n    </tr>\n    <tr>\n      <th>25%</th>\n      <td>1.000000</td>\n      <td>255.555000</td>\n      <td>1.325000</td>\n      <td>80.205000</td>\n      <td>2011.000000</td>\n    </tr>\n    <tr>\n      <th>50%</th>\n      <td>1.000000</td>\n      <td>550.500000</td>\n      <td>1.875000</td>\n      <td>121.070000</td>\n      <td>2011.000000</td>\n    </tr>\n    <tr>\n      <th>75%</th>\n      <td>2.000000</td>\n      <td>873.625000</td>\n      <td>3.400000</td>\n      <td>150.097500</td>\n      <td>2012.000000</td>\n    </tr>\n    <tr>\n      <th>max</th>\n      <td>3.000000</td>\n      <td>5584.000000</td>\n      <td>20.600000</td>\n      <td>354.000000</td>\n      <td>2014.000000</td>\n    </tr>\n  </tbody>\n</table>\n</div>"
     },
     "metadata": {},
     "execution_count": 57
    }
   ],
   "source": [
    "df.describe()"
   ]
  },
  {
   "source": [
    "Modify method column to have abbreviations of each method"
   ],
   "cell_type": "markdown",
   "metadata": {}
  },
  {
   "cell_type": "code",
   "execution_count": 60,
   "metadata": {},
   "outputs": [
    {
     "output_type": "execute_result",
     "data": {
      "text/plain": [
       "array(['Radial Velocity', 'Imaging', 'Eclipse Timing Variations',\n",
       "       'Transit', 'Astrometry', 'Transit Timing Variations',\n",
       "       'Orbital Brightness Modulation', 'Microlensing', 'Pulsar Timing',\n",
       "       'Pulsation Timing Variations'], dtype=object)"
      ]
     },
     "metadata": {},
     "execution_count": 60
    }
   ],
   "source": [
    "planets.method.unique()"
   ]
  },
  {
   "cell_type": "code",
   "execution_count": 66,
   "metadata": {},
   "outputs": [
    {
     "output_type": "execute_result",
     "data": {
      "text/plain": [
       "'OBM'"
      ]
     },
     "metadata": {},
     "execution_count": 66
    }
   ],
   "source": [
    "s = \"Orbital Brightness Modulation\"\n",
    "l = s.split()\n",
    "abb = \"\"\n",
    "for i in l:\n",
    "    abb = abb+i[0]\n",
    "abb"
   ]
  },
  {
   "cell_type": "code",
   "execution_count": 67,
   "metadata": {},
   "outputs": [
    {
     "output_type": "execute_result",
     "data": {
      "text/plain": [
       "'OBM'"
      ]
     },
     "metadata": {},
     "execution_count": 67
    }
   ],
   "source": [
    "''.join([x[0] for x in s.split(' ')])"
   ]
  },
  {
   "cell_type": "code",
   "execution_count": 69,
   "metadata": {},
   "outputs": [],
   "source": [
    "abb_names = {}\n",
    "for i in planets.method.unique():\n",
    "    abb_names[i] = ''.join([x[0] for x in i.split(' ')])"
   ]
  },
  {
   "cell_type": "code",
   "execution_count": 70,
   "metadata": {},
   "outputs": [
    {
     "output_type": "execute_result",
     "data": {
      "text/plain": [
       "{'Radial Velocity': 'RV',\n",
       " 'Imaging': 'I',\n",
       " 'Eclipse Timing Variations': 'ETV',\n",
       " 'Transit': 'T',\n",
       " 'Astrometry': 'A',\n",
       " 'Transit Timing Variations': 'TTV',\n",
       " 'Orbital Brightness Modulation': 'OBM',\n",
       " 'Microlensing': 'M',\n",
       " 'Pulsar Timing': 'PT',\n",
       " 'Pulsation Timing Variations': 'PTV'}"
      ]
     },
     "metadata": {},
     "execution_count": 70
    }
   ],
   "source": [
    "abb_names"
   ]
  },
  {
   "cell_type": "code",
   "execution_count": 75,
   "metadata": {},
   "outputs": [],
   "source": [
    "for i, r in planets.iterrows():\n",
    "    planets.loc[i, 'Short Method'] = abb_names. get(r['method'], r['method'])"
   ]
  },
  {
   "cell_type": "code",
   "execution_count": 76,
   "metadata": {},
   "outputs": [
    {
     "output_type": "execute_result",
     "data": {
      "text/plain": [
       "            method  number  orbital_period   mass  distance  year Short Method\n",
       "0  Radial Velocity       1         269.300   7.10     77.40  2006           RV\n",
       "1  Radial Velocity       1         874.774   2.21     56.95  2008           RV\n",
       "2  Radial Velocity       1         763.000   2.60     19.84  2011           RV\n",
       "3  Radial Velocity       1         326.030  19.40    110.62  2007           RV\n",
       "4  Radial Velocity       1         516.220  10.50    119.47  2009           RV"
      ],
      "text/html": "<div>\n<style scoped>\n    .dataframe tbody tr th:only-of-type {\n        vertical-align: middle;\n    }\n\n    .dataframe tbody tr th {\n        vertical-align: top;\n    }\n\n    .dataframe thead th {\n        text-align: right;\n    }\n</style>\n<table border=\"1\" class=\"dataframe\">\n  <thead>\n    <tr style=\"text-align: right;\">\n      <th></th>\n      <th>method</th>\n      <th>number</th>\n      <th>orbital_period</th>\n      <th>mass</th>\n      <th>distance</th>\n      <th>year</th>\n      <th>Short Method</th>\n    </tr>\n  </thead>\n  <tbody>\n    <tr>\n      <th>0</th>\n      <td>Radial Velocity</td>\n      <td>1</td>\n      <td>269.300</td>\n      <td>7.10</td>\n      <td>77.40</td>\n      <td>2006</td>\n      <td>RV</td>\n    </tr>\n    <tr>\n      <th>1</th>\n      <td>Radial Velocity</td>\n      <td>1</td>\n      <td>874.774</td>\n      <td>2.21</td>\n      <td>56.95</td>\n      <td>2008</td>\n      <td>RV</td>\n    </tr>\n    <tr>\n      <th>2</th>\n      <td>Radial Velocity</td>\n      <td>1</td>\n      <td>763.000</td>\n      <td>2.60</td>\n      <td>19.84</td>\n      <td>2011</td>\n      <td>RV</td>\n    </tr>\n    <tr>\n      <th>3</th>\n      <td>Radial Velocity</td>\n      <td>1</td>\n      <td>326.030</td>\n      <td>19.40</td>\n      <td>110.62</td>\n      <td>2007</td>\n      <td>RV</td>\n    </tr>\n    <tr>\n      <th>4</th>\n      <td>Radial Velocity</td>\n      <td>1</td>\n      <td>516.220</td>\n      <td>10.50</td>\n      <td>119.47</td>\n      <td>2009</td>\n      <td>RV</td>\n    </tr>\n  </tbody>\n</table>\n</div>"
     },
     "metadata": {},
     "execution_count": 76
    }
   ],
   "source": [
    "planets.head()"
   ]
  },
  {
   "cell_type": "code",
   "execution_count": 77,
   "metadata": {},
   "outputs": [
    {
     "output_type": "execute_result",
     "data": {
      "text/plain": [
       "       method  number  orbital_period  mass  distance  year Short Method\n",
       "1030  Transit       1        3.941507   NaN     172.0  2006            T\n",
       "1031  Transit       1        2.615864   NaN     148.0  2007            T\n",
       "1032  Transit       1        3.191524   NaN     174.0  2007            T\n",
       "1033  Transit       1        4.125083   NaN     293.0  2008            T\n",
       "1034  Transit       1        4.187757   NaN     260.0  2008            T"
      ],
      "text/html": "<div>\n<style scoped>\n    .dataframe tbody tr th:only-of-type {\n        vertical-align: middle;\n    }\n\n    .dataframe tbody tr th {\n        vertical-align: top;\n    }\n\n    .dataframe thead th {\n        text-align: right;\n    }\n</style>\n<table border=\"1\" class=\"dataframe\">\n  <thead>\n    <tr style=\"text-align: right;\">\n      <th></th>\n      <th>method</th>\n      <th>number</th>\n      <th>orbital_period</th>\n      <th>mass</th>\n      <th>distance</th>\n      <th>year</th>\n      <th>Short Method</th>\n    </tr>\n  </thead>\n  <tbody>\n    <tr>\n      <th>1030</th>\n      <td>Transit</td>\n      <td>1</td>\n      <td>3.941507</td>\n      <td>NaN</td>\n      <td>172.0</td>\n      <td>2006</td>\n      <td>T</td>\n    </tr>\n    <tr>\n      <th>1031</th>\n      <td>Transit</td>\n      <td>1</td>\n      <td>2.615864</td>\n      <td>NaN</td>\n      <td>148.0</td>\n      <td>2007</td>\n      <td>T</td>\n    </tr>\n    <tr>\n      <th>1032</th>\n      <td>Transit</td>\n      <td>1</td>\n      <td>3.191524</td>\n      <td>NaN</td>\n      <td>174.0</td>\n      <td>2007</td>\n      <td>T</td>\n    </tr>\n    <tr>\n      <th>1033</th>\n      <td>Transit</td>\n      <td>1</td>\n      <td>4.125083</td>\n      <td>NaN</td>\n      <td>293.0</td>\n      <td>2008</td>\n      <td>T</td>\n    </tr>\n    <tr>\n      <th>1034</th>\n      <td>Transit</td>\n      <td>1</td>\n      <td>4.187757</td>\n      <td>NaN</td>\n      <td>260.0</td>\n      <td>2008</td>\n      <td>T</td>\n    </tr>\n  </tbody>\n</table>\n</div>"
     },
     "metadata": {},
     "execution_count": 77
    }
   ],
   "source": [
    "planets.tail()"
   ]
  },
  {
   "cell_type": "code",
   "execution_count": 80,
   "metadata": {},
   "outputs": [
    {
     "output_type": "execute_result",
     "data": {
      "text/plain": [
       "            number  orbital_period        mass     distance         year\n",
       "count  1035.000000      992.000000  513.000000   808.000000  1035.000000\n",
       "mean      1.785507     2002.917596    2.638161   264.069282  2009.070531\n",
       "std       1.240976    26014.728304    3.818617   733.116493     3.972567\n",
       "min       1.000000        0.090706    0.003600     1.350000  1989.000000\n",
       "25%       1.000000        5.442540    0.229000    32.560000  2007.000000\n",
       "50%       1.000000       39.979500    1.260000    55.250000  2010.000000\n",
       "75%       2.000000      526.005000    3.040000   178.500000  2012.000000\n",
       "max       7.000000   730000.000000   25.000000  8500.000000  2014.000000"
      ],
      "text/html": "<div>\n<style scoped>\n    .dataframe tbody tr th:only-of-type {\n        vertical-align: middle;\n    }\n\n    .dataframe tbody tr th {\n        vertical-align: top;\n    }\n\n    .dataframe thead th {\n        text-align: right;\n    }\n</style>\n<table border=\"1\" class=\"dataframe\">\n  <thead>\n    <tr style=\"text-align: right;\">\n      <th></th>\n      <th>number</th>\n      <th>orbital_period</th>\n      <th>mass</th>\n      <th>distance</th>\n      <th>year</th>\n    </tr>\n  </thead>\n  <tbody>\n    <tr>\n      <th>count</th>\n      <td>1035.000000</td>\n      <td>992.000000</td>\n      <td>513.000000</td>\n      <td>808.000000</td>\n      <td>1035.000000</td>\n    </tr>\n    <tr>\n      <th>mean</th>\n      <td>1.785507</td>\n      <td>2002.917596</td>\n      <td>2.638161</td>\n      <td>264.069282</td>\n      <td>2009.070531</td>\n    </tr>\n    <tr>\n      <th>std</th>\n      <td>1.240976</td>\n      <td>26014.728304</td>\n      <td>3.818617</td>\n      <td>733.116493</td>\n      <td>3.972567</td>\n    </tr>\n    <tr>\n      <th>min</th>\n      <td>1.000000</td>\n      <td>0.090706</td>\n      <td>0.003600</td>\n      <td>1.350000</td>\n      <td>1989.000000</td>\n    </tr>\n    <tr>\n      <th>25%</th>\n      <td>1.000000</td>\n      <td>5.442540</td>\n      <td>0.229000</td>\n      <td>32.560000</td>\n      <td>2007.000000</td>\n    </tr>\n    <tr>\n      <th>50%</th>\n      <td>1.000000</td>\n      <td>39.979500</td>\n      <td>1.260000</td>\n      <td>55.250000</td>\n      <td>2010.000000</td>\n    </tr>\n    <tr>\n      <th>75%</th>\n      <td>2.000000</td>\n      <td>526.005000</td>\n      <td>3.040000</td>\n      <td>178.500000</td>\n      <td>2012.000000</td>\n    </tr>\n    <tr>\n      <th>max</th>\n      <td>7.000000</td>\n      <td>730000.000000</td>\n      <td>25.000000</td>\n      <td>8500.000000</td>\n      <td>2014.000000</td>\n    </tr>\n  </tbody>\n</table>\n</div>"
     },
     "metadata": {},
     "execution_count": 80
    }
   ],
   "source": [
    "planets.describe()"
   ]
  },
  {
   "cell_type": "code",
   "execution_count": 81,
   "metadata": {},
   "outputs": [],
   "source": [
    "def add_abbr(s):\n",
    "    return abb_names. get(s,s)"
   ]
  },
  {
   "cell_type": "code",
   "execution_count": 82,
   "metadata": {},
   "outputs": [],
   "source": [
    "planets['Short Method'] = planets['method'].apply(add_abbr)"
   ]
  },
  {
   "cell_type": "code",
   "execution_count": 83,
   "metadata": {},
   "outputs": [
    {
     "output_type": "execute_result",
     "data": {
      "text/plain": [
       "            method  number  orbital_period   mass  distance  year Short Method\n",
       "0  Radial Velocity       1         269.300   7.10     77.40  2006           RV\n",
       "1  Radial Velocity       1         874.774   2.21     56.95  2008           RV\n",
       "2  Radial Velocity       1         763.000   2.60     19.84  2011           RV\n",
       "3  Radial Velocity       1         326.030  19.40    110.62  2007           RV\n",
       "4  Radial Velocity       1         516.220  10.50    119.47  2009           RV"
      ],
      "text/html": "<div>\n<style scoped>\n    .dataframe tbody tr th:only-of-type {\n        vertical-align: middle;\n    }\n\n    .dataframe tbody tr th {\n        vertical-align: top;\n    }\n\n    .dataframe thead th {\n        text-align: right;\n    }\n</style>\n<table border=\"1\" class=\"dataframe\">\n  <thead>\n    <tr style=\"text-align: right;\">\n      <th></th>\n      <th>method</th>\n      <th>number</th>\n      <th>orbital_period</th>\n      <th>mass</th>\n      <th>distance</th>\n      <th>year</th>\n      <th>Short Method</th>\n    </tr>\n  </thead>\n  <tbody>\n    <tr>\n      <th>0</th>\n      <td>Radial Velocity</td>\n      <td>1</td>\n      <td>269.300</td>\n      <td>7.10</td>\n      <td>77.40</td>\n      <td>2006</td>\n      <td>RV</td>\n    </tr>\n    <tr>\n      <th>1</th>\n      <td>Radial Velocity</td>\n      <td>1</td>\n      <td>874.774</td>\n      <td>2.21</td>\n      <td>56.95</td>\n      <td>2008</td>\n      <td>RV</td>\n    </tr>\n    <tr>\n      <th>2</th>\n      <td>Radial Velocity</td>\n      <td>1</td>\n      <td>763.000</td>\n      <td>2.60</td>\n      <td>19.84</td>\n      <td>2011</td>\n      <td>RV</td>\n    </tr>\n    <tr>\n      <th>3</th>\n      <td>Radial Velocity</td>\n      <td>1</td>\n      <td>326.030</td>\n      <td>19.40</td>\n      <td>110.62</td>\n      <td>2007</td>\n      <td>RV</td>\n    </tr>\n    <tr>\n      <th>4</th>\n      <td>Radial Velocity</td>\n      <td>1</td>\n      <td>516.220</td>\n      <td>10.50</td>\n      <td>119.47</td>\n      <td>2009</td>\n      <td>RV</td>\n    </tr>\n  </tbody>\n</table>\n</div>"
     },
     "metadata": {},
     "execution_count": 83
    }
   ],
   "source": [
    "planets.head()"
   ]
  },
  {
   "source": [
    "Count number of planets found based on each method"
   ],
   "cell_type": "markdown",
   "metadata": {}
  },
  {
   "source": [
    "1. **Split** the  dataframe into smaller chunks(they should have the same method name)\n",
    "2. **Apply** some function in each smaller chunk (count in this case)\n",
    "3. **Aggregate** the results from each chunk together"
   ],
   "cell_type": "markdown",
   "metadata": {}
  },
  {
   "cell_type": "code",
   "execution_count": 93,
   "metadata": {},
   "outputs": [
    {
     "output_type": "stream",
     "name": "stdout",
     "text": [
      "{'Radial Velocity': 553, 'Imaging': 38, 'Eclipse Timing Variations': 9, 'Transit': 397, 'Astrometry': 2, 'Transit Timing Variations': 4, 'Orbital Brightness Modulation': 3, 'Microlensing': 23, 'Pulsar Timing': 5, 'Pulsation Timing Variations': 1}\n"
     ]
    }
   ],
   "source": [
    "d = {}\n",
    "for i in planets.method.unique():\n",
    "    d[i] = (planets[planets.method == i]['method'].count())\n",
    "print(d)"
   ]
  },
  {
   "cell_type": "code",
   "execution_count": 95,
   "metadata": {},
   "outputs": [
    {
     "output_type": "execute_result",
     "data": {
      "text/plain": [
       "method\n",
       "Astrometry                         2\n",
       "Eclipse Timing Variations          9\n",
       "Imaging                           38\n",
       "Microlensing                      23\n",
       "Orbital Brightness Modulation      3\n",
       "Pulsar Timing                      5\n",
       "Pulsation Timing Variations        1\n",
       "Radial Velocity                  553\n",
       "Transit                          397\n",
       "Transit Timing Variations          4\n",
       "Name: method, dtype: int64"
      ]
     },
     "metadata": {},
     "execution_count": 95
    }
   ],
   "source": [
    "planets.groupby('method')['method'].count()\n",
    "# splits data based column/s; subsetting based on column/s; counts group and implicitly adds it and prints as series"
   ]
  },
  {
   "source": [
    "Find out what fraction of planets have been found in the last decade "
   ],
   "cell_type": "markdown",
   "metadata": {}
  },
  {
   "source": [
    "1. **Filter** the data out (planet in last decade)\n",
    "2. **Split** the  dataframe into smaller chunks(they should have the same method name)\n",
    "3. **Apply** some function in each smaller chunk (count in this case)\n",
    "4. **Aggregate** the results from each chunk together"
   ],
   "cell_type": "markdown",
   "metadata": {}
  },
  {
   "cell_type": "code",
   "execution_count": 99,
   "metadata": {},
   "outputs": [],
   "source": [
    "s_2010s = planets[planets.year>=2010].groupby('method')['method'].count()"
   ]
  },
  {
   "cell_type": "code",
   "execution_count": 100,
   "metadata": {},
   "outputs": [],
   "source": [
    "s_all = planets.groupby('method')['method'].count()"
   ]
  },
  {
   "cell_type": "code",
   "execution_count": 101,
   "metadata": {},
   "outputs": [
    {
     "output_type": "execute_result",
     "data": {
      "text/plain": [
       "method\n",
       "Astrometry                       1.000000\n",
       "Eclipse Timing Variations        0.666667\n",
       "Imaging                          0.473684\n",
       "Microlensing                     0.565217\n",
       "Orbital Brightness Modulation    1.000000\n",
       "Pulsar Timing                    0.200000\n",
       "Pulsation Timing Variations           NaN\n",
       "Radial Velocity                  0.388788\n",
       "Transit                          0.843829\n",
       "Transit Timing Variations        1.000000\n",
       "Name: method, dtype: float64"
      ]
     },
     "metadata": {},
     "execution_count": 101
    }
   ],
   "source": [
    "s_2010s/s_all"
   ]
  },
  {
   "source": [
    "Find a dataset of Nifty numbers for 2018 and 2019 - daily numbers open, close, high, low"
   ],
   "cell_type": "markdown",
   "metadata": {}
  },
  {
   "cell_type": "code",
   "execution_count": 110,
   "metadata": {},
   "outputs": [],
   "source": [
    "nifty50_2018 = pd.read_csv('NIFTY50_2018.csv', index_col = 0) #doesnt add a separate index and makes 0th column the index"
   ]
  },
  {
   "cell_type": "code",
   "execution_count": 111,
   "metadata": {},
   "outputs": [
    {
     "output_type": "execute_result",
     "data": {
      "text/plain": [
       "                 Open      High       Low     Close\n",
       "Date                                               \n",
       "31 Dec 2018  10913.20  10923.55  10853.20  10862.55\n",
       "28 Dec 2018  10820.95  10893.60  10817.15  10859.90\n",
       "27 Dec 2018  10817.90  10834.20  10764.45  10779.80\n",
       "26 Dec 2018  10635.45  10747.50  10534.55  10729.85\n",
       "24 Dec 2018  10780.90  10782.30  10649.25  10663.50"
      ],
      "text/html": "<div>\n<style scoped>\n    .dataframe tbody tr th:only-of-type {\n        vertical-align: middle;\n    }\n\n    .dataframe tbody tr th {\n        vertical-align: top;\n    }\n\n    .dataframe thead th {\n        text-align: right;\n    }\n</style>\n<table border=\"1\" class=\"dataframe\">\n  <thead>\n    <tr style=\"text-align: right;\">\n      <th></th>\n      <th>Open</th>\n      <th>High</th>\n      <th>Low</th>\n      <th>Close</th>\n    </tr>\n    <tr>\n      <th>Date</th>\n      <th></th>\n      <th></th>\n      <th></th>\n      <th></th>\n    </tr>\n  </thead>\n  <tbody>\n    <tr>\n      <th>31 Dec 2018</th>\n      <td>10913.20</td>\n      <td>10923.55</td>\n      <td>10853.20</td>\n      <td>10862.55</td>\n    </tr>\n    <tr>\n      <th>28 Dec 2018</th>\n      <td>10820.95</td>\n      <td>10893.60</td>\n      <td>10817.15</td>\n      <td>10859.90</td>\n    </tr>\n    <tr>\n      <th>27 Dec 2018</th>\n      <td>10817.90</td>\n      <td>10834.20</td>\n      <td>10764.45</td>\n      <td>10779.80</td>\n    </tr>\n    <tr>\n      <th>26 Dec 2018</th>\n      <td>10635.45</td>\n      <td>10747.50</td>\n      <td>10534.55</td>\n      <td>10729.85</td>\n    </tr>\n    <tr>\n      <th>24 Dec 2018</th>\n      <td>10780.90</td>\n      <td>10782.30</td>\n      <td>10649.25</td>\n      <td>10663.50</td>\n    </tr>\n  </tbody>\n</table>\n</div>"
     },
     "metadata": {},
     "execution_count": 111
    }
   ],
   "source": [
    "nifty50_2018.head()"
   ]
  },
  {
   "cell_type": "code",
   "execution_count": 112,
   "metadata": {},
   "outputs": [
    {
     "output_type": "execute_result",
     "data": {
      "text/plain": [
       "Open     10913.20\n",
       "High     10923.55\n",
       "Low      10853.20\n",
       "Close    10862.55\n",
       "Name: 31 Dec 2018, dtype: float64"
      ]
     },
     "metadata": {},
     "execution_count": 112
    }
   ],
   "source": [
    "nifty50_2018.loc['31 Dec 2018']"
   ]
  },
  {
   "cell_type": "code",
   "execution_count": 109,
   "metadata": {},
   "outputs": [
    {
     "output_type": "execute_result",
     "data": {
      "text/plain": [
       "Date\n",
       "31 Dec 2018    10913.20\n",
       "28 Dec 2018    10820.95\n",
       "27 Dec 2018    10817.90\n",
       "26 Dec 2018    10635.45\n",
       "24 Dec 2018    10780.90\n",
       "                 ...   \n",
       "05 Jan 2018    10534.25\n",
       "04 Jan 2018    10469.40\n",
       "03 Jan 2018    10482.65\n",
       "02 Jan 2018    10477.55\n",
       "01 Jan 2018    10531.70\n",
       "Name: Open, Length: 246, dtype: float64"
      ]
     },
     "metadata": {},
     "execution_count": 109
    }
   ],
   "source": [
    "nifty50_2018['Open']"
   ]
  },
  {
   "cell_type": "code",
   "execution_count": 113,
   "metadata": {},
   "outputs": [],
   "source": [
    "nifty50_2019 = pd.read_csv('NIFTY50_2019.csv', index_col = 0) "
   ]
  },
  {
   "cell_type": "code",
   "execution_count": 114,
   "metadata": {},
   "outputs": [
    {
     "output_type": "execute_result",
     "data": {
      "text/plain": [
       "                 Open      High       Low     Close\n",
       "Date                                               \n",
       "31 Dec 2019  12247.10  12247.10  12151.80  12168.45\n",
       "30 Dec 2019  12274.90  12286.45  12213.80  12255.85\n",
       "27 Dec 2019  12172.90  12258.45  12157.90  12245.80\n",
       "26 Dec 2019  12211.85  12221.55  12118.85  12126.55\n",
       "24 Dec 2019  12269.25  12283.70  12202.10  12214.55"
      ],
      "text/html": "<div>\n<style scoped>\n    .dataframe tbody tr th:only-of-type {\n        vertical-align: middle;\n    }\n\n    .dataframe tbody tr th {\n        vertical-align: top;\n    }\n\n    .dataframe thead th {\n        text-align: right;\n    }\n</style>\n<table border=\"1\" class=\"dataframe\">\n  <thead>\n    <tr style=\"text-align: right;\">\n      <th></th>\n      <th>Open</th>\n      <th>High</th>\n      <th>Low</th>\n      <th>Close</th>\n    </tr>\n    <tr>\n      <th>Date</th>\n      <th></th>\n      <th></th>\n      <th></th>\n      <th></th>\n    </tr>\n  </thead>\n  <tbody>\n    <tr>\n      <th>31 Dec 2019</th>\n      <td>12247.10</td>\n      <td>12247.10</td>\n      <td>12151.80</td>\n      <td>12168.45</td>\n    </tr>\n    <tr>\n      <th>30 Dec 2019</th>\n      <td>12274.90</td>\n      <td>12286.45</td>\n      <td>12213.80</td>\n      <td>12255.85</td>\n    </tr>\n    <tr>\n      <th>27 Dec 2019</th>\n      <td>12172.90</td>\n      <td>12258.45</td>\n      <td>12157.90</td>\n      <td>12245.80</td>\n    </tr>\n    <tr>\n      <th>26 Dec 2019</th>\n      <td>12211.85</td>\n      <td>12221.55</td>\n      <td>12118.85</td>\n      <td>12126.55</td>\n    </tr>\n    <tr>\n      <th>24 Dec 2019</th>\n      <td>12269.25</td>\n      <td>12283.70</td>\n      <td>12202.10</td>\n      <td>12214.55</td>\n    </tr>\n  </tbody>\n</table>\n</div>"
     },
     "metadata": {},
     "execution_count": 114
    }
   ],
   "source": [
    "nifty50_2019.head()"
   ]
  },
  {
   "cell_type": "code",
   "execution_count": 118,
   "metadata": {},
   "outputs": [
    {
     "output_type": "execute_result",
     "data": {
      "text/plain": [
       "((246, 4), (245, 4))"
      ]
     },
     "metadata": {},
     "execution_count": 118
    }
   ],
   "source": [
    "nifty50_2018.shape, nifty50_2019.shape"
   ]
  },
  {
   "cell_type": "code",
   "execution_count": 122,
   "metadata": {},
   "outputs": [],
   "source": [
    "nifty50 = pd.concat([nifty50_2018, nifty50_2019]) #concatenates rows"
   ]
  },
  {
   "cell_type": "code",
   "execution_count": 123,
   "metadata": {},
   "outputs": [
    {
     "output_type": "execute_result",
     "data": {
      "text/plain": [
       "(491, 4)"
      ]
     },
     "metadata": {},
     "execution_count": 123
    }
   ],
   "source": [
    "nifty50.shape"
   ]
  },
  {
   "cell_type": "code",
   "execution_count": 124,
   "metadata": {},
   "outputs": [],
   "source": [
    "niftynext50_2019 = pd.read_csv('NIFTYNext50_2019.csv', index_col = 0) "
   ]
  },
  {
   "cell_type": "code",
   "execution_count": 125,
   "metadata": {},
   "outputs": [
    {
     "output_type": "execute_result",
     "data": {
      "text/plain": [
       "                 Open      High       Low     Close\n",
       "Date                                               \n",
       "31 Dec 2019  28495.00  28549.50  28270.25  28307.55\n",
       "30 Dec 2019  28528.95  28612.95  28406.70  28484.85\n",
       "27 Dec 2019  28354.50  28500.25  28319.90  28476.80\n",
       "26 Dec 2019  28409.10  28435.25  28259.75  28280.25\n",
       "24 Dec 2019  28423.70  28430.40  28318.75  28382.85"
      ],
      "text/html": "<div>\n<style scoped>\n    .dataframe tbody tr th:only-of-type {\n        vertical-align: middle;\n    }\n\n    .dataframe tbody tr th {\n        vertical-align: top;\n    }\n\n    .dataframe thead th {\n        text-align: right;\n    }\n</style>\n<table border=\"1\" class=\"dataframe\">\n  <thead>\n    <tr style=\"text-align: right;\">\n      <th></th>\n      <th>Open</th>\n      <th>High</th>\n      <th>Low</th>\n      <th>Close</th>\n    </tr>\n    <tr>\n      <th>Date</th>\n      <th></th>\n      <th></th>\n      <th></th>\n      <th></th>\n    </tr>\n  </thead>\n  <tbody>\n    <tr>\n      <th>31 Dec 2019</th>\n      <td>28495.00</td>\n      <td>28549.50</td>\n      <td>28270.25</td>\n      <td>28307.55</td>\n    </tr>\n    <tr>\n      <th>30 Dec 2019</th>\n      <td>28528.95</td>\n      <td>28612.95</td>\n      <td>28406.70</td>\n      <td>28484.85</td>\n    </tr>\n    <tr>\n      <th>27 Dec 2019</th>\n      <td>28354.50</td>\n      <td>28500.25</td>\n      <td>28319.90</td>\n      <td>28476.80</td>\n    </tr>\n    <tr>\n      <th>26 Dec 2019</th>\n      <td>28409.10</td>\n      <td>28435.25</td>\n      <td>28259.75</td>\n      <td>28280.25</td>\n    </tr>\n    <tr>\n      <th>24 Dec 2019</th>\n      <td>28423.70</td>\n      <td>28430.40</td>\n      <td>28318.75</td>\n      <td>28382.85</td>\n    </tr>\n  </tbody>\n</table>\n</div>"
     },
     "metadata": {},
     "execution_count": 125
    }
   ],
   "source": [
    "niftynext50_2019.head()"
   ]
  },
  {
   "cell_type": "code",
   "execution_count": 129,
   "metadata": {},
   "outputs": [],
   "source": [
    "nifty2019 = pd.concat([nifty50_2019, niftynext50_2019], axis=1)\n",
    "#concats along columns"
   ]
  },
  {
   "cell_type": "code",
   "execution_count": 130,
   "metadata": {},
   "outputs": [
    {
     "output_type": "execute_result",
     "data": {
      "text/plain": [
       "                 Open      High       Low     Close      Open      High  \\\n",
       "Date                                                                      \n",
       "31 Dec 2019  12247.10  12247.10  12151.80  12168.45  28495.00  28549.50   \n",
       "30 Dec 2019  12274.90  12286.45  12213.80  12255.85  28528.95  28612.95   \n",
       "27 Dec 2019  12172.90  12258.45  12157.90  12245.80  28354.50  28500.25   \n",
       "26 Dec 2019  12211.85  12221.55  12118.85  12126.55  28409.10  28435.25   \n",
       "24 Dec 2019  12269.25  12283.70  12202.10  12214.55  28423.70  28430.40   \n",
       "\n",
       "                  Low     Close  \n",
       "Date                             \n",
       "31 Dec 2019  28270.25  28307.55  \n",
       "30 Dec 2019  28406.70  28484.85  \n",
       "27 Dec 2019  28319.90  28476.80  \n",
       "26 Dec 2019  28259.75  28280.25  \n",
       "24 Dec 2019  28318.75  28382.85  "
      ],
      "text/html": "<div>\n<style scoped>\n    .dataframe tbody tr th:only-of-type {\n        vertical-align: middle;\n    }\n\n    .dataframe tbody tr th {\n        vertical-align: top;\n    }\n\n    .dataframe thead th {\n        text-align: right;\n    }\n</style>\n<table border=\"1\" class=\"dataframe\">\n  <thead>\n    <tr style=\"text-align: right;\">\n      <th></th>\n      <th>Open</th>\n      <th>High</th>\n      <th>Low</th>\n      <th>Close</th>\n      <th>Open</th>\n      <th>High</th>\n      <th>Low</th>\n      <th>Close</th>\n    </tr>\n    <tr>\n      <th>Date</th>\n      <th></th>\n      <th></th>\n      <th></th>\n      <th></th>\n      <th></th>\n      <th></th>\n      <th></th>\n      <th></th>\n    </tr>\n  </thead>\n  <tbody>\n    <tr>\n      <th>31 Dec 2019</th>\n      <td>12247.10</td>\n      <td>12247.10</td>\n      <td>12151.80</td>\n      <td>12168.45</td>\n      <td>28495.00</td>\n      <td>28549.50</td>\n      <td>28270.25</td>\n      <td>28307.55</td>\n    </tr>\n    <tr>\n      <th>30 Dec 2019</th>\n      <td>12274.90</td>\n      <td>12286.45</td>\n      <td>12213.80</td>\n      <td>12255.85</td>\n      <td>28528.95</td>\n      <td>28612.95</td>\n      <td>28406.70</td>\n      <td>28484.85</td>\n    </tr>\n    <tr>\n      <th>27 Dec 2019</th>\n      <td>12172.90</td>\n      <td>12258.45</td>\n      <td>12157.90</td>\n      <td>12245.80</td>\n      <td>28354.50</td>\n      <td>28500.25</td>\n      <td>28319.90</td>\n      <td>28476.80</td>\n    </tr>\n    <tr>\n      <th>26 Dec 2019</th>\n      <td>12211.85</td>\n      <td>12221.55</td>\n      <td>12118.85</td>\n      <td>12126.55</td>\n      <td>28409.10</td>\n      <td>28435.25</td>\n      <td>28259.75</td>\n      <td>28280.25</td>\n    </tr>\n    <tr>\n      <th>24 Dec 2019</th>\n      <td>12269.25</td>\n      <td>12283.70</td>\n      <td>12202.10</td>\n      <td>12214.55</td>\n      <td>28423.70</td>\n      <td>28430.40</td>\n      <td>28318.75</td>\n      <td>28382.85</td>\n    </tr>\n  </tbody>\n</table>\n</div>"
     },
     "metadata": {},
     "execution_count": 130
    }
   ],
   "source": [
    "nifty2019.head()"
   ]
  },
  {
   "cell_type": "code",
   "execution_count": 132,
   "metadata": {},
   "outputs": [
    {
     "output_type": "execute_result",
     "data": {
      "text/plain": [
       "(245, 8)"
      ]
     },
     "metadata": {},
     "execution_count": 132
    }
   ],
   "source": [
    "nifty2019.shape"
   ]
  },
  {
   "source": [
    "**Hierarchical indexing**"
   ],
   "cell_type": "markdown",
   "metadata": {}
  },
  {
   "cell_type": "code",
   "execution_count": 133,
   "metadata": {},
   "outputs": [],
   "source": [
    "nifty2019 = pd.concat([nifty50_2019, niftynext50_2019], axis=1, keys=['Nifty50', 'NiftyNext50'])"
   ]
  },
  {
   "cell_type": "code",
   "execution_count": 135,
   "metadata": {},
   "outputs": [
    {
     "output_type": "execute_result",
     "data": {
      "text/plain": [
       "              Nifty50                               NiftyNext50            \\\n",
       "                 Open      High       Low     Close        Open      High   \n",
       "Date                                                                        \n",
       "31 Dec 2019  12247.10  12247.10  12151.80  12168.45    28495.00  28549.50   \n",
       "30 Dec 2019  12274.90  12286.45  12213.80  12255.85    28528.95  28612.95   \n",
       "27 Dec 2019  12172.90  12258.45  12157.90  12245.80    28354.50  28500.25   \n",
       "26 Dec 2019  12211.85  12221.55  12118.85  12126.55    28409.10  28435.25   \n",
       "24 Dec 2019  12269.25  12283.70  12202.10  12214.55    28423.70  28430.40   \n",
       "\n",
       "                                 \n",
       "                  Low     Close  \n",
       "Date                             \n",
       "31 Dec 2019  28270.25  28307.55  \n",
       "30 Dec 2019  28406.70  28484.85  \n",
       "27 Dec 2019  28319.90  28476.80  \n",
       "26 Dec 2019  28259.75  28280.25  \n",
       "24 Dec 2019  28318.75  28382.85  "
      ],
      "text/html": "<div>\n<style scoped>\n    .dataframe tbody tr th:only-of-type {\n        vertical-align: middle;\n    }\n\n    .dataframe tbody tr th {\n        vertical-align: top;\n    }\n\n    .dataframe thead tr th {\n        text-align: left;\n    }\n\n    .dataframe thead tr:last-of-type th {\n        text-align: right;\n    }\n</style>\n<table border=\"1\" class=\"dataframe\">\n  <thead>\n    <tr>\n      <th></th>\n      <th colspan=\"4\" halign=\"left\">Nifty50</th>\n      <th colspan=\"4\" halign=\"left\">NiftyNext50</th>\n    </tr>\n    <tr>\n      <th></th>\n      <th>Open</th>\n      <th>High</th>\n      <th>Low</th>\n      <th>Close</th>\n      <th>Open</th>\n      <th>High</th>\n      <th>Low</th>\n      <th>Close</th>\n    </tr>\n    <tr>\n      <th>Date</th>\n      <th></th>\n      <th></th>\n      <th></th>\n      <th></th>\n      <th></th>\n      <th></th>\n      <th></th>\n      <th></th>\n    </tr>\n  </thead>\n  <tbody>\n    <tr>\n      <th>31 Dec 2019</th>\n      <td>12247.10</td>\n      <td>12247.10</td>\n      <td>12151.80</td>\n      <td>12168.45</td>\n      <td>28495.00</td>\n      <td>28549.50</td>\n      <td>28270.25</td>\n      <td>28307.55</td>\n    </tr>\n    <tr>\n      <th>30 Dec 2019</th>\n      <td>12274.90</td>\n      <td>12286.45</td>\n      <td>12213.80</td>\n      <td>12255.85</td>\n      <td>28528.95</td>\n      <td>28612.95</td>\n      <td>28406.70</td>\n      <td>28484.85</td>\n    </tr>\n    <tr>\n      <th>27 Dec 2019</th>\n      <td>12172.90</td>\n      <td>12258.45</td>\n      <td>12157.90</td>\n      <td>12245.80</td>\n      <td>28354.50</td>\n      <td>28500.25</td>\n      <td>28319.90</td>\n      <td>28476.80</td>\n    </tr>\n    <tr>\n      <th>26 Dec 2019</th>\n      <td>12211.85</td>\n      <td>12221.55</td>\n      <td>12118.85</td>\n      <td>12126.55</td>\n      <td>28409.10</td>\n      <td>28435.25</td>\n      <td>28259.75</td>\n      <td>28280.25</td>\n    </tr>\n    <tr>\n      <th>24 Dec 2019</th>\n      <td>12269.25</td>\n      <td>12283.70</td>\n      <td>12202.10</td>\n      <td>12214.55</td>\n      <td>28423.70</td>\n      <td>28430.40</td>\n      <td>28318.75</td>\n      <td>28382.85</td>\n    </tr>\n  </tbody>\n</table>\n</div>"
     },
     "metadata": {},
     "execution_count": 135
    }
   ],
   "source": [
    "nifty2019.head()"
   ]
  },
  {
   "cell_type": "code",
   "execution_count": 138,
   "metadata": {},
   "outputs": [
    {
     "output_type": "execute_result",
     "data": {
      "text/plain": [
       "Open     12247.10\n",
       "High     12247.10\n",
       "Low      12151.80\n",
       "Close    12168.45\n",
       "Name: 31 Dec 2019, dtype: float64"
      ]
     },
     "metadata": {},
     "execution_count": 138
    }
   ],
   "source": [
    "nifty2019['Nifty50'].loc['31 Dec 2019']"
   ]
  },
  {
   "source": [
    "Tasks on Nifty datasets:\n",
    "\n",
    "1. In 2019, in how many days was the NIFTY50 volatile (high > 105% of the low)                            \n",
    "\n",
    "2. In 2019, in how many days was the NIFTYNEXT50 volatile\n",
    "\n",
    "3. In 2019, how many days belonged to the four classes NIFTY50 volatile/ non-volatile and NIFTYNext50 volatile/non-volatile\n",
    "\n",
    "4. Compute the mean, median, std, var of each weekday in NIFTY50 for 2019.\n",
    "\n",
    "5. Compute the mean, median, std, var of each weekday in NIFTYNEXT50 for 2019.\n",
    "\n",
    "6. On the days on which NIFTY50 closed higher than the open, what is the mean of (close-open) for NIFTYNEXT50.\n",
    "\n",
    "7. In 2019, how many days had the day's high lower than the previous day's low in NIFTY50.\n",
    "\n",
    "8. In 2019, on how many days did the day's close exceed the 30 day moving average in NIFTY50(exclude first month).\n",
    "\n",
    "\n"
   ],
   "cell_type": "markdown",
   "metadata": {}
  },
  {
   "cell_type": "code",
   "execution_count": null,
   "metadata": {},
   "outputs": [],
   "source": []
  },
  {
   "source": [
    "**TEST**"
   ],
   "cell_type": "markdown",
   "metadata": {}
  },
  {
   "cell_type": "code",
   "execution_count": 11,
   "metadata": {},
   "outputs": [
    {
     "output_type": "stream",
     "name": "stdout",
     "text": [
      "<class 'pandas.core.frame.DataFrame'>\n"
     ]
    }
   ],
   "source": [
    "data = [['A', 10],['B',15],['C',14],['D',14]]\n",
    "df = pd.DataFrame(data, columns=['Name',\"Age\"])\n",
    "grp = df.groupby('Age')\n",
    "for g in grp:\n",
    "    print(type(g[1]))\n",
    "    break\n"
   ]
  },
  {
   "cell_type": "code",
   "execution_count": null,
   "metadata": {},
   "outputs": [],
   "source": []
  }
 ]
}