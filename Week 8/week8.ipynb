{
 "metadata": {
  "language_info": {
   "codemirror_mode": {
    "name": "ipython",
    "version": 3
   },
   "file_extension": ".py",
   "mimetype": "text/x-python",
   "name": "python",
   "nbconvert_exporter": "python",
   "pygments_lexer": "ipython3",
   "version": "3.8.5-final"
  },
  "orig_nbformat": 2,
  "kernelspec": {
   "name": "python3",
   "display_name": "Python 3.8.5 64-bit",
   "metadata": {
    "interpreter": {
     "hash": "2db524e06e9f5f4ffedc911c917cb75e12dbc923643829bf417064a77eb14d37"
    }
   }
  }
 },
 "nbformat": 4,
 "nbformat_minor": 2,
 "cells": [
  {
   "source": [
    "## Comparing performance with lists\n",
    "\n"
   ],
   "cell_type": "markdown",
   "metadata": {}
  },
  {
   "cell_type": "code",
   "execution_count": 1,
   "metadata": {},
   "outputs": [],
   "source": [
    "N = 100000\n"
   ]
  },
  {
   "cell_type": "code",
   "execution_count": 17,
   "metadata": {},
   "outputs": [
    {
     "output_type": "stream",
     "name": "stdout",
     "text": [
      "Wall time: 125 ms\n"
     ]
    }
   ],
   "source": [
    "%%time\n",
    "list1 = list(range(N))\n",
    "for i in range(N):\n",
    "    list1[i] = list1[i]* list1[i]\n"
   ]
  },
  {
   "cell_type": "code",
   "execution_count": 18,
   "metadata": {},
   "outputs": [
    {
     "output_type": "stream",
     "name": "stdout",
     "text": [
      "Wall time: 32 ms\n"
     ]
    }
   ],
   "source": [
    "%%time\n",
    "list1 = list(range(N))\n",
    "list1 = [item * item for item in list1]"
   ]
  },
  {
   "cell_type": "code",
   "execution_count": 19,
   "metadata": {},
   "outputs": [
    {
     "output_type": "stream",
     "name": "stdout",
     "text": [
      "Wall time: 4 ms\n"
     ]
    }
   ],
   "source": [
    "%%time \n",
    "list1 = list(range(N))\n",
    "list1 = map(lambda x: x*x, list1)"
   ]
  },
  {
   "cell_type": "code",
   "execution_count": 30,
   "metadata": {},
   "outputs": [
    {
     "output_type": "stream",
     "name": "stdout",
     "text": [
      "Wall time: 47 ms\n"
     ]
    }
   ],
   "source": [
    "%%time\n",
    "list_sum =0\n",
    "list1 = list(range(N))\n",
    "for i in list1:\n",
    "    list_sum += i"
   ]
  },
  {
   "cell_type": "code",
   "execution_count": 37,
   "metadata": {},
   "outputs": [
    {
     "output_type": "stream",
     "name": "stdout",
     "text": [
      "<class 'int'>\nWall time: 5 ms\n"
     ]
    }
   ],
   "source": [
    "%%time\n",
    "list1 = list(range(N))\n",
    "list_sum = sum\n",
    "print(type(list_sum))"
   ]
  },
  {
   "source": [
    "## Numpy\n"
   ],
   "cell_type": "markdown",
   "metadata": {}
  },
  {
   "cell_type": "code",
   "execution_count": 1,
   "metadata": {},
   "outputs": [],
   "source": [
    "import numpy as np   \n"
   ]
  },
  {
   "cell_type": "code",
   "execution_count": 4,
   "metadata": {},
   "outputs": [],
   "source": [
    "arr = np.arange(5) #autogenerate array"
   ]
  },
  {
   "cell_type": "code",
   "execution_count": 12,
   "metadata": {},
   "outputs": [],
   "source": [
    "arr = np.array([1.0,2,3,4,5]) #list to numpy array"
   ]
  },
  {
   "cell_type": "code",
   "execution_count": 5,
   "metadata": {},
   "outputs": [
    {
     "output_type": "stream",
     "name": "stdout",
     "text": [
      "[0 1 2 3 4] <class 'numpy.ndarray'>\n"
     ]
    }
   ],
   "source": [
    "print(arr,type(arr))"
   ]
  },
  {
   "cell_type": "code",
   "execution_count": 13,
   "metadata": {},
   "outputs": [
    {
     "output_type": "stream",
     "name": "stdout",
     "text": [
      "[1. 2. 3. 4. 5.]\n"
     ]
    }
   ],
   "source": [
    "print(arr)"
   ]
  },
  {
   "cell_type": "code",
   "execution_count": 6,
   "metadata": {},
   "outputs": [
    {
     "output_type": "execute_result",
     "data": {
      "text/plain": [
       "array([0, 1, 2, 3, 4])"
      ]
     },
     "metadata": {},
     "execution_count": 6
    }
   ],
   "source": [
    "arr"
   ]
  },
  {
   "cell_type": "code",
   "execution_count": 14,
   "metadata": {},
   "outputs": [
    {
     "output_type": "execute_result",
     "data": {
      "text/plain": [
       "dtype('float64')"
      ]
     },
     "metadata": {},
     "execution_count": 14
    }
   ],
   "source": [
    "arr.dtype"
   ]
  },
  {
   "cell_type": "code",
   "execution_count": 8,
   "metadata": {},
   "outputs": [
    {
     "output_type": "execute_result",
     "data": {
      "text/plain": [
       "1"
      ]
     },
     "metadata": {},
     "execution_count": 8
    }
   ],
   "source": [
    "arr.ndim"
   ]
  },
  {
   "cell_type": "code",
   "execution_count": 9,
   "metadata": {},
   "outputs": [
    {
     "output_type": "execute_result",
     "data": {
      "text/plain": [
       "(5,)"
      ]
     },
     "metadata": {},
     "execution_count": 9
    }
   ],
   "source": [
    "arr.shape"
   ]
  },
  {
   "cell_type": "code",
   "execution_count": 10,
   "metadata": {},
   "outputs": [
    {
     "output_type": "execute_result",
     "data": {
      "text/plain": [
       "5"
      ]
     },
     "metadata": {},
     "execution_count": 10
    }
   ],
   "source": [
    "arr.size"
   ]
  },
  {
   "cell_type": "code",
   "execution_count": 15,
   "metadata": {},
   "outputs": [
    {
     "output_type": "execute_result",
     "data": {
      "text/plain": [
       "8"
      ]
     },
     "metadata": {},
     "execution_count": 15
    }
   ],
   "source": [
    "arr.itemsize"
   ]
  },
  {
   "cell_type": "code",
   "execution_count": 16,
   "metadata": {},
   "outputs": [],
   "source": [
    "arr2d = np.array([\n",
    "    [1,2,3],\n",
    "    [4,5,6]\n",
    "])"
   ]
  },
  {
   "cell_type": "code",
   "execution_count": 17,
   "metadata": {},
   "outputs": [
    {
     "output_type": "execute_result",
     "data": {
      "text/plain": [
       "array([[1, 2, 3],\n",
       "       [4, 5, 6]])"
      ]
     },
     "metadata": {},
     "execution_count": 17
    }
   ],
   "source": [
    "arr2d"
   ]
  },
  {
   "cell_type": "code",
   "execution_count": 20,
   "metadata": {},
   "outputs": [
    {
     "output_type": "execute_result",
     "data": {
      "text/plain": [
       "(2, (2, 3), 6)"
      ]
     },
     "metadata": {},
     "execution_count": 20
    }
   ],
   "source": [
    "arr2d.ndim, arr2d.shape, arr2d.size"
   ]
  },
  {
   "cell_type": "code",
   "execution_count": 21,
   "metadata": {},
   "outputs": [],
   "source": [
    "arr3d = np.array([\n",
    "    [\n",
    "        [1,2,3],\n",
    "        [4,5,6]\n",
    "    ],\n",
    "    [\n",
    "        [7,8,9],\n",
    "        [10,11,12]\n",
    "    ]\n",
    "])"
   ]
  },
  {
   "cell_type": "code",
   "execution_count": 22,
   "metadata": {},
   "outputs": [
    {
     "output_type": "execute_result",
     "data": {
      "text/plain": [
       "array([[[ 1,  2,  3],\n",
       "        [ 4,  5,  6]],\n",
       "\n",
       "       [[ 7,  8,  9],\n",
       "        [10, 11, 12]]])"
      ]
     },
     "metadata": {},
     "execution_count": 22
    }
   ],
   "source": [
    "arr3d"
   ]
  },
  {
   "cell_type": "code",
   "execution_count": 23,
   "metadata": {},
   "outputs": [
    {
     "output_type": "execute_result",
     "data": {
      "text/plain": [
       "(3, (2, 2, 3), 12)"
      ]
     },
     "metadata": {},
     "execution_count": 23
    }
   ],
   "source": [
    "arr3d.ndim, arr3d.shape, arr3d.size"
   ]
  },
  {
   "cell_type": "code",
   "execution_count": 24,
   "metadata": {},
   "outputs": [
    {
     "output_type": "execute_result",
     "data": {
      "text/plain": [
       "array([[[1., 1., 1., 1.],\n",
       "        [1., 1., 1., 1.],\n",
       "        [1., 1., 1., 1.]],\n",
       "\n",
       "       [[1., 1., 1., 1.],\n",
       "        [1., 1., 1., 1.],\n",
       "        [1., 1., 1., 1.]]])"
      ]
     },
     "metadata": {},
     "execution_count": 24
    }
   ],
   "source": [
    "np.ones((2,3,4))"
   ]
  },
  {
   "cell_type": "code",
   "execution_count": 25,
   "metadata": {},
   "outputs": [
    {
     "output_type": "execute_result",
     "data": {
      "text/plain": [
       "array([[[5., 5., 5.],\n",
       "        [5., 5., 5.],\n",
       "        [5., 5., 5.]],\n",
       "\n",
       "       [[5., 5., 5.],\n",
       "        [5., 5., 5.],\n",
       "        [5., 5., 5.]],\n",
       "\n",
       "       [[5., 5., 5.],\n",
       "        [5., 5., 5.],\n",
       "        [5., 5., 5.]]])"
      ]
     },
     "metadata": {},
     "execution_count": 25
    }
   ],
   "source": [
    "5 * np.ones((3,3,3))"
   ]
  },
  {
   "cell_type": "code",
   "execution_count": 27,
   "metadata": {},
   "outputs": [
    {
     "output_type": "execute_result",
     "data": {
      "text/plain": [
       "array([[ 0.73632011, -0.05211077,  0.58266216],\n",
       "       [-0.44872546,  2.20575216,  0.78942123]])"
      ]
     },
     "metadata": {},
     "execution_count": 27
    }
   ],
   "source": [
    "np.random.randn(2,3)"
   ]
  },
  {
   "cell_type": "code",
   "execution_count": 28,
   "metadata": {},
   "outputs": [
    {
     "output_type": "execute_result",
     "data": {
      "text/plain": [
       "array([[0.13998174, 0.82483108, 0.42204108],\n",
       "       [0.63357367, 0.7588655 , 0.05444214]])"
      ]
     },
     "metadata": {},
     "execution_count": 28
    }
   ],
   "source": [
    "np.random.rand(2,3)"
   ]
  },
  {
   "cell_type": "code",
   "execution_count": 31,
   "metadata": {},
   "outputs": [
    {
     "output_type": "execute_result",
     "data": {
      "text/plain": [
       "array([[16, 83, 41],\n",
       "       [31, 44, 80]])"
      ]
     },
     "metadata": {},
     "execution_count": 31
    }
   ],
   "source": [
    "np.random.randint(10,100,(2,3))"
   ]
  },
  {
   "cell_type": "code",
   "execution_count": 32,
   "metadata": {},
   "outputs": [
    {
     "output_type": "execute_result",
     "data": {
      "text/plain": [
       "array([10, 20, 30, 40, 50, 60, 70, 80, 90])"
      ]
     },
     "metadata": {},
     "execution_count": 32
    }
   ],
   "source": [
    "np.arange(10,100,10)"
   ]
  },
  {
   "cell_type": "code",
   "execution_count": 35,
   "metadata": {},
   "outputs": [
    {
     "output_type": "execute_result",
     "data": {
      "text/plain": [
       "array([ 10. ,  32.5,  55. ,  77.5, 100. ])"
      ]
     },
     "metadata": {},
     "execution_count": 35
    }
   ],
   "source": [
    "np.linspace(10,100,5)"
   ]
  },
  {
   "cell_type": "code",
   "execution_count": 38,
   "metadata": {},
   "outputs": [],
   "source": [
    "arr = np.array([True, False, True, False, True])"
   ]
  },
  {
   "cell_type": "code",
   "execution_count": 39,
   "metadata": {},
   "outputs": [
    {
     "output_type": "execute_result",
     "data": {
      "text/plain": [
       "dtype('bool')"
      ]
     },
     "metadata": {},
     "execution_count": 39
    }
   ],
   "source": [
    "arr.dtype"
   ]
  },
  {
   "cell_type": "code",
   "execution_count": 41,
   "metadata": {},
   "outputs": [],
   "source": [
    "arrstr = np.array(['1.10','2.65','3.18'])"
   ]
  },
  {
   "cell_type": "code",
   "execution_count": 42,
   "metadata": {},
   "outputs": [
    {
     "output_type": "execute_result",
     "data": {
      "text/plain": [
       "array(['1.10', '2.65', '3.18'], dtype='<U4')"
      ]
     },
     "metadata": {},
     "execution_count": 42
    }
   ],
   "source": [
    "arrstr"
   ]
  },
  {
   "cell_type": "code",
   "execution_count": 43,
   "metadata": {},
   "outputs": [],
   "source": [
    "arrs = np.array(arrstr, dtype='float')"
   ]
  },
  {
   "cell_type": "code",
   "execution_count": 44,
   "metadata": {},
   "outputs": [
    {
     "output_type": "execute_result",
     "data": {
      "text/plain": [
       "array([1.1 , 2.65, 3.18])"
      ]
     },
     "metadata": {},
     "execution_count": 44
    }
   ],
   "source": [
    "arrs"
   ]
  },
  {
   "cell_type": "code",
   "execution_count": 45,
   "metadata": {},
   "outputs": [],
   "source": [
    "arr3d = np.array([\n",
    "    [\n",
    "        [1,2,3],\n",
    "        [4,5,6]\n",
    "    ],\n",
    "    [\n",
    "        [7,8,9],\n",
    "        [10,11,12]\n",
    "    ]\n",
    "])"
   ]
  },
  {
   "cell_type": "code",
   "execution_count": 46,
   "metadata": {},
   "outputs": [
    {
     "output_type": "execute_result",
     "data": {
      "text/plain": [
       "1"
      ]
     },
     "metadata": {},
     "execution_count": 46
    }
   ],
   "source": [
    "arr3d[0,0,0]"
   ]
  },
  {
   "cell_type": "code",
   "execution_count": 47,
   "metadata": {},
   "outputs": [
    {
     "output_type": "execute_result",
     "data": {
      "text/plain": [
       "9"
      ]
     },
     "metadata": {},
     "execution_count": 47
    }
   ],
   "source": [
    "arr3d[1,0,2]"
   ]
  },
  {
   "cell_type": "code",
   "execution_count": 51,
   "metadata": {},
   "outputs": [
    {
     "output_type": "execute_result",
     "data": {
      "text/plain": [
       "3"
      ]
     },
     "metadata": {},
     "execution_count": 51
    }
   ],
   "source": [
    "i=0\n",
    "j=0\n",
    "k=2\n",
    "arr3d[i,j,k]"
   ]
  },
  {
   "cell_type": "code",
   "execution_count": 52,
   "metadata": {},
   "outputs": [
    {
     "output_type": "execute_result",
     "data": {
      "text/plain": [
       "array([[1, 2, 3],\n",
       "       [4, 5, 6]])"
      ]
     },
     "metadata": {},
     "execution_count": 52
    }
   ],
   "source": [
    "arr3d[0,:,:]"
   ]
  },
  {
   "cell_type": "code",
   "execution_count": 53,
   "metadata": {},
   "outputs": [
    {
     "output_type": "execute_result",
     "data": {
      "text/plain": [
       "array([[1, 2, 3],\n",
       "       [7, 8, 9]])"
      ]
     },
     "metadata": {},
     "execution_count": 53
    }
   ],
   "source": [
    "arr3d[:,0,:\n",
    "]"
   ]
  },
  {
   "cell_type": "code",
   "execution_count": 54,
   "metadata": {},
   "outputs": [
    {
     "output_type": "execute_result",
     "data": {
      "text/plain": [
       "array([[ 2,  5],\n",
       "       [ 8, 11]])"
      ]
     },
     "metadata": {},
     "execution_count": 54
    }
   ],
   "source": [
    "arr3d[:,:,1] #returns a numpy array with dimension, slice, shape, etc"
   ]
  },
  {
   "cell_type": "code",
   "execution_count": 56,
   "metadata": {},
   "outputs": [
    {
     "output_type": "execute_result",
     "data": {
      "text/plain": [
       "array([[[False,  True, False],\n",
       "        [ True, False,  True]],\n",
       "\n",
       "       [[False,  True, False],\n",
       "        [ True, False,  True]]])"
      ]
     },
     "metadata": {},
     "execution_count": 56
    }
   ],
   "source": [
    "arr3d%2==0 #divides all elements by 2"
   ]
  },
  {
   "cell_type": "code",
   "execution_count": 57,
   "metadata": {},
   "outputs": [
    {
     "output_type": "execute_result",
     "data": {
      "text/plain": [
       "array([ 2,  4,  6,  8, 10, 12])"
      ]
     },
     "metadata": {},
     "execution_count": 57
    }
   ],
   "source": [
    "arr3d[arr3d%2==0 ] #rh eturns 1d array with even numbers"
   ]
  },
  {
   "cell_type": "code",
   "execution_count": 60,
   "metadata": {},
   "outputs": [
    {
     "output_type": "execute_result",
     "data": {
      "text/plain": [
       "array([ 5,  7,  9, 11])"
      ]
     },
     "metadata": {},
     "execution_count": 60
    }
   ],
   "source": [
    "arr3d[(arr3d%2==1) & (arr3d>3) ] #returns all odd numbers greater than 3"
   ]
  },
  {
   "cell_type": "code",
   "execution_count": 63,
   "metadata": {},
   "outputs": [],
   "source": [
    "arr_slice = arr3d[:,:,0:2] "
   ]
  },
  {
   "cell_type": "code",
   "execution_count": 64,
   "metadata": {},
   "outputs": [],
   "source": [
    "arr_slice[0,0,0] = 20"
   ]
  },
  {
   "cell_type": "code",
   "execution_count": 65,
   "metadata": {},
   "outputs": [
    {
     "output_type": "execute_result",
     "data": {
      "text/plain": [
       "array([[[20,  2],\n",
       "        [ 4,  5]],\n",
       "\n",
       "       [[ 7,  8],\n",
       "        [10, 11]]])"
      ]
     },
     "metadata": {},
     "execution_count": 65
    }
   ],
   "source": [
    "arr_slice"
   ]
  },
  {
   "cell_type": "code",
   "execution_count": 66,
   "metadata": {},
   "outputs": [
    {
     "output_type": "execute_result",
     "data": {
      "text/plain": [
       "array([[[20,  2,  3],\n",
       "        [ 4,  5,  6]],\n",
       "\n",
       "       [[ 7,  8,  9],\n",
       "        [10, 11, 12]]])"
      ]
     },
     "metadata": {},
     "execution_count": 66
    }
   ],
   "source": [
    "arr3d\n",
    "#if array slice value changes, value in the original array also changes"
   ]
  },
  {
   "cell_type": "code",
   "execution_count": 68,
   "metadata": {},
   "outputs": [],
   "source": [
    "arr_slice1 = np.copy(arr3d[:,:,0:2] )\n",
    "#using the copy function copies the array and any changes made in the slice does not change the original array"
   ]
  },
  {
   "cell_type": "code",
   "execution_count": 69,
   "metadata": {},
   "outputs": [
    {
     "output_type": "execute_result",
     "data": {
      "text/plain": [
       "array([[[20,  2],\n",
       "        [ 4,  5]],\n",
       "\n",
       "       [[ 7,  8],\n",
       "        [10, 11]]])"
      ]
     },
     "metadata": {},
     "execution_count": 69
    }
   ],
   "source": [
    "arr_slice1"
   ]
  },
  {
   "cell_type": "code",
   "execution_count": 70,
   "metadata": {},
   "outputs": [],
   "source": [
    "arr_slice1[0,0,0] = 1"
   ]
  },
  {
   "cell_type": "code",
   "execution_count": 71,
   "metadata": {},
   "outputs": [
    {
     "output_type": "execute_result",
     "data": {
      "text/plain": [
       "array([[[ 1,  2],\n",
       "        [ 4,  5]],\n",
       "\n",
       "       [[ 7,  8],\n",
       "        [10, 11]]])"
      ]
     },
     "metadata": {},
     "execution_count": 71
    }
   ],
   "source": [
    "arr_slice1"
   ]
  },
  {
   "cell_type": "code",
   "execution_count": 72,
   "metadata": {},
   "outputs": [
    {
     "output_type": "execute_result",
     "data": {
      "text/plain": [
       "array([[[20,  2,  3],\n",
       "        [ 4,  5,  6]],\n",
       "\n",
       "       [[ 7,  8,  9],\n",
       "        [10, 11, 12]]])"
      ]
     },
     "metadata": {},
     "execution_count": 72
    }
   ],
   "source": [
    "arr3d"
   ]
  },
  {
   "cell_type": "code",
   "execution_count": 73,
   "metadata": {},
   "outputs": [],
   "source": [
    "a = np.random.randint(0,10,(5))"
   ]
  },
  {
   "cell_type": "code",
   "execution_count": 74,
   "metadata": {},
   "outputs": [
    {
     "output_type": "execute_result",
     "data": {
      "text/plain": [
       "array([4, 3, 7, 2, 9])"
      ]
     },
     "metadata": {},
     "execution_count": 74
    }
   ],
   "source": [
    "a"
   ]
  },
  {
   "cell_type": "code",
   "execution_count": 75,
   "metadata": {},
   "outputs": [],
   "source": [
    "indices = [1,2,4]"
   ]
  },
  {
   "cell_type": "code",
   "execution_count": 76,
   "metadata": {},
   "outputs": [
    {
     "output_type": "execute_result",
     "data": {
      "text/plain": [
       "array([3, 7, 9])"
      ]
     },
     "metadata": {},
     "execution_count": 76
    }
   ],
   "source": [
    "a[indices]"
   ]
  },
  {
   "source": [
    "## Numpy Operations\n"
   ],
   "cell_type": "markdown",
   "metadata": {}
  },
  {
   "cell_type": "code",
   "execution_count": 86,
   "metadata": {},
   "outputs": [],
   "source": [
    "arr1 = np.random.randint(1,10,(3,4))\n",
    "arr2 = np.random.randint(1,10,(3,4))"
   ]
  },
  {
   "cell_type": "code",
   "execution_count": 87,
   "metadata": {},
   "outputs": [
    {
     "output_type": "execute_result",
     "data": {
      "text/plain": [
       "(array([[2, 5, 2, 2],\n",
       "        [6, 3, 7, 5],\n",
       "        [7, 4, 5, 9]]),\n",
       " array([[3, 8, 5, 1],\n",
       "        [5, 4, 3, 2],\n",
       "        [5, 7, 3, 8]]))"
      ]
     },
     "metadata": {},
     "execution_count": 87
    }
   ],
   "source": [
    "arr1, arr2"
   ]
  },
  {
   "cell_type": "code",
   "execution_count": 88,
   "metadata": {},
   "outputs": [
    {
     "output_type": "execute_result",
     "data": {
      "text/plain": [
       "array([[ 5, 13,  7,  3],\n",
       "       [11,  7, 10,  7],\n",
       "       [12, 11,  8, 17]])"
      ]
     },
     "metadata": {},
     "execution_count": 88
    }
   ],
   "source": [
    "arr1+arr2"
   ]
  },
  {
   "cell_type": "code",
   "execution_count": 89,
   "metadata": {},
   "outputs": [
    {
     "output_type": "execute_result",
     "data": {
      "text/plain": [
       "array([[-1, -3, -3,  1],\n",
       "       [ 1, -1,  4,  3],\n",
       "       [ 2, -3,  2,  1]])"
      ]
     },
     "metadata": {},
     "execution_count": 89
    }
   ],
   "source": [
    "arr1-arr2"
   ]
  },
  {
   "cell_type": "code",
   "execution_count": 90,
   "metadata": {},
   "outputs": [
    {
     "output_type": "execute_result",
     "data": {
      "text/plain": [
       "array([[ 6, 40, 10,  2],\n",
       "       [30, 12, 21, 10],\n",
       "       [35, 28, 15, 72]])"
      ]
     },
     "metadata": {},
     "execution_count": 90
    }
   ],
   "source": [
    "arr1*arr2"
   ]
  },
  {
   "cell_type": "code",
   "execution_count": 91,
   "metadata": {},
   "outputs": [
    {
     "output_type": "execute_result",
     "data": {
      "text/plain": [
       "array([[0.66666667, 0.625     , 0.4       , 2.        ],\n",
       "       [1.2       , 0.75      , 2.33333333, 2.5       ],\n",
       "       [1.4       , 0.57142857, 1.66666667, 1.125     ]])"
      ]
     },
     "metadata": {},
     "execution_count": 91
    }
   ],
   "source": [
    "arr1/arr2"
   ]
  },
  {
   "cell_type": "code",
   "execution_count": 92,
   "metadata": {},
   "outputs": [
    {
     "output_type": "execute_result",
     "data": {
      "text/plain": [
       "array([[7.38905610e+00, 1.48413159e+02, 7.38905610e+00, 7.38905610e+00],\n",
       "       [4.03428793e+02, 2.00855369e+01, 1.09663316e+03, 1.48413159e+02],\n",
       "       [1.09663316e+03, 5.45981500e+01, 1.48413159e+02, 8.10308393e+03]])"
      ]
     },
     "metadata": {},
     "execution_count": 92
    }
   ],
   "source": [
    "np.exp(arr1)"
   ]
  },
  {
   "cell_type": "code",
   "execution_count": 94,
   "metadata": {},
   "outputs": [
    {
     "output_type": "execute_result",
     "data": {
      "text/plain": [
       "array([[2., 5., 2., 2.],\n",
       "       [6., 3., 7., 5.],\n",
       "       [7., 4., 5., 9.]])"
      ]
     },
     "metadata": {},
     "execution_count": 94
    }
   ],
   "source": [
    "np.log()"
   ]
  },
  {
   "cell_type": "code",
   "execution_count": 95,
   "metadata": {},
   "outputs": [
    {
     "output_type": "execute_result",
     "data": {
      "text/plain": [
       "array([[ 0.90929743, -0.95892427,  0.90929743,  0.90929743],\n",
       "       [-0.2794155 ,  0.14112001,  0.6569866 , -0.95892427],\n",
       "       [ 0.6569866 , -0.7568025 , -0.95892427,  0.41211849]])"
      ]
     },
     "metadata": {},
     "execution_count": 95
    }
   ],
   "source": [
    "np.sin(arr1)"
   ]
  },
  {
   "cell_type": "code",
   "execution_count": 96,
   "metadata": {},
   "outputs": [
    {
     "output_type": "execute_result",
     "data": {
      "text/plain": [
       "array([[-0.41614684,  0.28366219, -0.41614684, -0.41614684],\n",
       "       [ 0.96017029, -0.9899925 ,  0.75390225,  0.28366219],\n",
       "       [ 0.75390225, -0.65364362,  0.28366219, -0.91113026]])"
      ]
     },
     "metadata": {},
     "execution_count": 96
    }
   ],
   "source": [
    "np.cos(arr1)"
   ]
  },
  {
   "cell_type": "code",
   "execution_count": 97,
   "metadata": {},
   "outputs": [
    {
     "output_type": "execute_result",
     "data": {
      "text/plain": [
       "array([[1.41421356, 2.23606798, 1.41421356, 1.41421356],\n",
       "       [2.44948974, 1.73205081, 2.64575131, 2.23606798],\n",
       "       [2.64575131, 2.        , 2.23606798, 3.        ]])"
      ]
     },
     "metadata": {},
     "execution_count": 97
    }
   ],
   "source": [
    "np.sqrt(arr1)"
   ]
  },
  {
   "cell_type": "code",
   "execution_count": 98,
   "metadata": {},
   "outputs": [
    {
     "output_type": "execute_result",
     "data": {
      "text/plain": [
       "array([[ 4, 25,  4,  4],\n",
       "       [36,  9, 49, 25],\n",
       "       [49, 16, 25, 81]], dtype=int32)"
      ]
     },
     "metadata": {},
     "execution_count": 98
    }
   ],
   "source": [
    "np.square(arr1)"
   ]
  },
  {
   "cell_type": "code",
   "execution_count": 100,
   "metadata": {},
   "outputs": [],
   "source": [
    " arr3 = np.zeros((3,4))"
   ]
  },
  {
   "cell_type": "code",
   "execution_count": 101,
   "metadata": {},
   "outputs": [],
   "source": [
    "arr_inv = 1/arr3"
   ]
  },
  {
   "cell_type": "code",
   "execution_count": 102,
   "metadata": {},
   "outputs": [
    {
     "output_type": "execute_result",
     "data": {
      "text/plain": [
       "array([[inf, inf, inf, inf],\n",
       "       [inf, inf, inf, inf],\n",
       "       [inf, inf, inf, inf]])"
      ]
     },
     "metadata": {},
     "execution_count": 102
    }
   ],
   "source": [
    "arr_inv\n",
    "\n",
    "# 1/0 = inf (infinity)"
   ]
  },
  {
   "cell_type": "code",
   "execution_count": 103,
   "metadata": {},
   "outputs": [
    {
     "output_type": "execute_result",
     "data": {
      "text/plain": [
       "array([[ True,  True,  True,  True],\n",
       "       [ True,  True,  True,  True],\n",
       "       [ True,  True,  True,  True]])"
      ]
     },
     "metadata": {},
     "execution_count": 103
    }
   ],
   "source": [
    "np.isinf(arr_inv)"
   ]
  },
  {
   "source": [
    "### Problem"
   ],
   "cell_type": "markdown",
   "metadata": {}
  },
  {
   "cell_type": "code",
   "execution_count": 104,
   "metadata": {},
   "outputs": [],
   "source": [
    "# 1 x 1 square\n",
    "# quadrant of radius 1\n",
    "# estimate area not covered by quadrant\n"
   ]
  },
  {
   "cell_type": "code",
   "execution_count": 2,
   "metadata": {},
   "outputs": [],
   "source": [
    "import math"
   ]
  },
  {
   "cell_type": "code",
   "execution_count": 108,
   "metadata": {},
   "outputs": [
    {
     "output_type": "execute_result",
     "data": {
      "text/plain": [
       "3.141592653589793"
      ]
     },
     "metadata": {},
     "execution_count": 108
    }
   ],
   "source": [
    "math.pi"
   ]
  },
  {
   "cell_type": "code",
   "execution_count": 110,
   "metadata": {},
   "outputs": [],
   "source": [
    "side = 1\n",
    "radius = 1\n",
    "sqaure_area = math.pow(side,2)\n",
    "quad_area  = 1/4 * math.pi * radius\n",
    "yellow_area = sqaure_area-quad_area"
   ]
  },
  {
   "cell_type": "code",
   "execution_count": 111,
   "metadata": {},
   "outputs": [
    {
     "output_type": "execute_result",
     "data": {
      "text/plain": [
       "0.21460183660255172"
      ]
     },
     "metadata": {},
     "execution_count": 111
    }
   ],
   "source": [
    "yellow_area"
   ]
  },
  {
   "cell_type": "code",
   "execution_count": 8,
   "metadata": {},
   "outputs": [],
   "source": [
    "ndim = 2"
   ]
  },
  {
   "cell_type": "code",
   "execution_count": 31,
   "metadata": {},
   "outputs": [],
   "source": [
    "npoints = 1000000"
   ]
  },
  {
   "cell_type": "code",
   "execution_count": 32,
   "metadata": {},
   "outputs": [],
   "source": [
    "points = np.random.rand(npoints,ndim)"
   ]
  },
  {
   "cell_type": "code",
   "execution_count": 33,
   "metadata": {},
   "outputs": [
    {
     "output_type": "execute_result",
     "data": {
      "text/plain": [
       "array([[0.28223211, 0.73565923],\n",
       "       [0.3084483 , 0.18954866]])"
      ]
     },
     "metadata": {},
     "execution_count": 33
    }
   ],
   "source": [
    "points[0:2,:]"
   ]
  },
  {
   "cell_type": "code",
   "execution_count": 41,
   "metadata": {},
   "outputs": [],
   "source": [
    "dfo = np.zeros((npoints,1))\n",
    "op=0"
   ]
  },
  {
   "cell_type": "code",
   "execution_count": 35,
   "metadata": {},
   "outputs": [
    {
     "output_type": "stream",
     "name": "stdout",
     "text": [
      "Wall time: 7.91 s\n"
     ]
    }
   ],
   "source": [
    "%%time\n",
    "for i in range(npoints):\n",
    "    for j in range(0,ndim):\n",
    "        dfo[i]  = dfo[i] + math.pow(points[i,j],2)\n",
    "    dfo[i] = np.sqrt(dfo[i])\n",
    "    if (dfo[i]>1):\n",
    "        op +=1\n"
   ]
  },
  {
   "cell_type": "code",
   "execution_count": 36,
   "metadata": {},
   "outputs": [
    {
     "output_type": "stream",
     "name": "stdout",
     "text": [
      "Fraction of points outside qudrant is  0.214295\n"
     ]
    }
   ],
   "source": [
    "print(\"Fraction of points outside qudrant is \", op/npoints) "
   ]
  },
  {
   "cell_type": "code",
   "execution_count": 57,
   "metadata": {},
   "outputs": [
    {
     "output_type": "stream",
     "name": "stdout",
     "text": [
      "Wall time: 49 ms\n"
     ]
    }
   ],
   "source": [
    "%%time\n",
    "sq_points = points*points\n",
    "dfo = np.sqrt(np.sum(sq_points, axis=1))\n",
    "op = np.sum(dfo>1)\n",
    "#Easier way lol"
   ]
  },
  {
   "cell_type": "code",
   "execution_count": 58,
   "metadata": {},
   "outputs": [
    {
     "output_type": "stream",
     "name": "stdout",
     "text": [
      "Fraction of points outside qudrant is  0.214295\n"
     ]
    }
   ],
   "source": [
    "print(\"Fraction of points outside qudrant is \", op/npoints) "
   ]
  },
  {
   "cell_type": "code",
   "execution_count": 70,
   "metadata": {},
   "outputs": [
    {
     "output_type": "stream",
     "name": "stdout",
     "text": [
      "Wall time: 44 ms\n"
     ]
    }
   ],
   "source": [
    "%%time\n",
    "op = np.sum(np.sqrt(np.sum(points*points, axis=1))>1)"
   ]
  },
  {
   "cell_type": "code",
   "execution_count": 67,
   "metadata": {},
   "outputs": [
    {
     "output_type": "stream",
     "name": "stdout",
     "text": [
      "Fraction of points outside qudrant is  0.214295\n"
     ]
    }
   ],
   "source": [
    "print(\"Fraction of points outside qudrant is \", op/npoints) "
   ]
  },
  {
   "cell_type": "code",
   "execution_count": 4,
   "metadata": {},
   "outputs": [],
   "source": [
    "def area_outside(npoints, ndim):\n",
    "    points = np.random.rand(npoints,ndim)\n",
    "    return (np.sum(np.sqrt(np.sum(points*points, axis=1)>1)))/npoints"
   ]
  },
  {
   "cell_type": "code",
   "execution_count": 5,
   "metadata": {},
   "outputs": [
    {
     "output_type": "execute_result",
     "data": {
      "text/plain": [
       "0.16"
      ]
     },
     "metadata": {},
     "execution_count": 5
    }
   ],
   "source": [
    "area_outside(100,2)"
   ]
  },
  {
   "cell_type": "code",
   "execution_count": 6,
   "metadata": {},
   "outputs": [
    {
     "output_type": "execute_result",
     "data": {
      "text/plain": [
       "0.21344"
      ]
     },
     "metadata": {},
     "execution_count": 6
    }
   ],
   "source": [
    "area_outside(100000,2)"
   ]
  },
  {
   "cell_type": "code",
   "execution_count": 7,
   "metadata": {},
   "outputs": [
    {
     "output_type": "stream",
     "name": "stdout",
     "text": [
      "2 0.2144\n3 0.47552\n4 inf\n5 inf\n6 inf\n7 inf\n8 inf\n9 inf\n10 inf\n"
     ]
    }
   ],
   "source": [
    "for i in range(2,11):\n",
    "    print (i, area_outside(100000,i))"
   ]
  },
  {
   "source": [
    "### Broadcasting"
   ],
   "cell_type": "markdown",
   "metadata": {}
  },
  {
   "source": [
    "arr1 = np.arange(6)"
   ],
   "cell_type": "code",
   "metadata": {},
   "execution_count": 3,
   "outputs": []
  },
  {
   "cell_type": "code",
   "execution_count": 4,
   "metadata": {},
   "outputs": [
    {
     "output_type": "execute_result",
     "data": {
      "text/plain": [
       "(6,)"
      ]
     },
     "metadata": {},
     "execution_count": 4
    }
   ],
   "source": [
    "arr1.shape"
   ]
  },
  {
   "cell_type": "code",
   "execution_count": 8,
   "metadata": {},
   "outputs": [],
   "source": [
    "arr1 = arr1.reshape(3,2)"
   ]
  },
  {
   "cell_type": "code",
   "execution_count": 9,
   "metadata": {},
   "outputs": [
    {
     "output_type": "execute_result",
     "data": {
      "text/plain": [
       "(array([[0, 1],\n",
       "        [2, 3],\n",
       "        [4, 5]]),\n",
       " (3, 2))"
      ]
     },
     "metadata": {},
     "execution_count": 9
    }
   ],
   "source": [
    "arr1, arr1.shape"
   ]
  },
  {
   "cell_type": "code",
   "execution_count": 10,
   "metadata": {},
   "outputs": [],
   "source": [
    "arr2 = np.arange(6).reshape(3,2)"
   ]
  },
  {
   "cell_type": "code",
   "execution_count": 11,
   "metadata": {},
   "outputs": [
    {
     "output_type": "execute_result",
     "data": {
      "text/plain": [
       "array([[0, 1],\n",
       "       [2, 3],\n",
       "       [4, 5]])"
      ]
     },
     "metadata": {},
     "execution_count": 11
    }
   ],
   "source": [
    "arr2"
   ]
  },
  {
   "cell_type": "code",
   "execution_count": 12,
   "metadata": {},
   "outputs": [
    {
     "output_type": "execute_result",
     "data": {
      "text/plain": [
       "array([[ 0,  2],\n",
       "       [ 4,  6],\n",
       "       [ 8, 10]])"
      ]
     },
     "metadata": {},
     "execution_count": 12
    }
   ],
   "source": [
    "arr1+arr2"
   ]
  },
  {
   "cell_type": "code",
   "execution_count": 15,
   "metadata": {},
   "outputs": [
    {
     "output_type": "execute_result",
     "data": {
      "text/plain": [
       "array([[0, 2],\n",
       "       [2, 4],\n",
       "       [4, 6]])"
      ]
     },
     "metadata": {},
     "execution_count": 15
    }
   ],
   "source": [
    "arr1 + arr2[0].reshape(1,2) #3x2 matrix + 1x2 matrix "
   ]
  },
  {
   "cell_type": "code",
   "execution_count": 16,
   "metadata": {},
   "outputs": [
    {
     "output_type": "execute_result",
     "data": {
      "text/plain": [
       "array([[0, 1],\n",
       "       [4, 5],\n",
       "       [8, 9]])"
      ]
     },
     "metadata": {},
     "execution_count": 16
    }
   ],
   "source": [
    "arr1 + arr2[:,0].reshape(3,1) #3x2 matrix + 3x1 matrix"
   ]
  },
  {
   "cell_type": "code",
   "execution_count": 17,
   "metadata": {},
   "outputs": [
    {
     "output_type": "execute_result",
     "data": {
      "text/plain": [
       "array([[1, 2],\n",
       "       [3, 4],\n",
       "       [5, 6]])"
      ]
     },
     "metadata": {},
     "execution_count": 17
    }
   ],
   "source": [
    "arr1 + 1"
   ]
  },
  {
   "cell_type": "code",
   "execution_count": 18,
   "metadata": {},
   "outputs": [],
   "source": [
    " arr1 = np.arange(24).reshape((2,3,4))"
   ]
  },
  {
   "cell_type": "code",
   "execution_count": 19,
   "metadata": {},
   "outputs": [
    {
     "output_type": "execute_result",
     "data": {
      "text/plain": [
       "array([[[ 0,  1,  2,  3],\n",
       "        [ 4,  5,  6,  7],\n",
       "        [ 8,  9, 10, 11]],\n",
       "\n",
       "       [[12, 13, 14, 15],\n",
       "        [16, 17, 18, 19],\n",
       "        [20, 21, 22, 23]]])"
      ]
     },
     "metadata": {},
     "execution_count": 19
    }
   ],
   "source": [
    "arr1"
   ]
  },
  {
   "cell_type": "code",
   "execution_count": 20,
   "metadata": {},
   "outputs": [],
   "source": [
    "arr2 = np.ones((1,4))"
   ]
  },
  {
   "cell_type": "code",
   "execution_count": 21,
   "metadata": {},
   "outputs": [
    {
     "output_type": "execute_result",
     "data": {
      "text/plain": [
       "array([[1., 1., 1., 1.]])"
      ]
     },
     "metadata": {},
     "execution_count": 21
    }
   ],
   "source": [
    "arr2"
   ]
  },
  {
   "cell_type": "code",
   "execution_count": 22,
   "metadata": {},
   "outputs": [
    {
     "output_type": "execute_result",
     "data": {
      "text/plain": [
       "array([[[ 1.,  2.,  3.,  4.],\n",
       "        [ 5.,  6.,  7.,  8.],\n",
       "        [ 9., 10., 11., 12.]],\n",
       "\n",
       "       [[13., 14., 15., 16.],\n",
       "        [17., 18., 19., 20.],\n",
       "        [21., 22., 23., 24.]]])"
      ]
     },
     "metadata": {},
     "execution_count": 22
    }
   ],
   "source": [
    "arr1 + arr2"
   ]
  },
  {
   "cell_type": "code",
   "execution_count": 23,
   "metadata": {},
   "outputs": [],
   "source": [
    "arr1 = np.arange(4)"
   ]
  },
  {
   "cell_type": "code",
   "execution_count": 25,
   "metadata": {},
   "outputs": [],
   "source": [
    "arr2 = np.arange(5)"
   ]
  },
  {
   "cell_type": "code",
   "execution_count": 26,
   "metadata": {},
   "outputs": [
    {
     "output_type": "execute_result",
     "data": {
      "text/plain": [
       "((4,), (5,))"
      ]
     },
     "metadata": {},
     "execution_count": 26
    }
   ],
   "source": [
    "arr1.shape, arr2.shape"
   ]
  },
  {
   "cell_type": "code",
   "execution_count": 27,
   "metadata": {},
   "outputs": [
    {
     "output_type": "error",
     "ename": "ValueError",
     "evalue": "operands could not be broadcast together with shapes (4,) (5,) ",
     "traceback": [
      "\u001b[1;31m---------------------------------------------------------------------------\u001b[0m",
      "\u001b[1;31mValueError\u001b[0m                                Traceback (most recent call last)",
      "\u001b[1;32m<ipython-input-27-e489ba1ad4d1>\u001b[0m in \u001b[0;36m<module>\u001b[1;34m\u001b[0m\n\u001b[1;32m----> 1\u001b[1;33m \u001b[0marr1\u001b[0m\u001b[1;33m+\u001b[0m\u001b[0marr2\u001b[0m\u001b[1;33m\u001b[0m\u001b[1;33m\u001b[0m\u001b[0m\n\u001b[0m",
      "\u001b[1;31mValueError\u001b[0m: operands could not be broadcast together with shapes (4,) (5,) "
     ]
    }
   ],
   "source": [
    "arr1+arr2"
   ]
  },
  {
   "cell_type": "code",
   "execution_count": 29,
   "metadata": {},
   "outputs": [
    {
     "output_type": "execute_result",
     "data": {
      "text/plain": [
       "array([[0, 1, 2, 3, 4],\n",
       "       [1, 2, 3, 4, 5],\n",
       "       [2, 3, 4, 5, 6],\n",
       "       [3, 4, 5, 6, 7]])"
      ]
     },
     "metadata": {},
     "execution_count": 29
    }
   ],
   "source": [
    "arr1.reshape((4,1))+arr2 #4x1 + 1x5"
   ]
  },
  {
   "cell_type": "code",
   "execution_count": 2,
   "metadata": {},
   "outputs": [],
   "source": [
    "arr = np.random.rand(3,3)"
   ]
  },
  {
   "cell_type": "code",
   "execution_count": 3,
   "metadata": {},
   "outputs": [
    {
     "output_type": "execute_result",
     "data": {
      "text/plain": [
       "array([[0.5775033 , 0.60204843, 0.0882501 ],\n",
       "       [0.24582758, 0.01168296, 0.74395649],\n",
       "       [0.0205417 , 0.53154228, 0.6030183 ]])"
      ]
     },
     "metadata": {},
     "execution_count": 3
    }
   ],
   "source": [
    "arr"
   ]
  },
  {
   "cell_type": "code",
   "execution_count": 4,
   "metadata": {},
   "outputs": [
    {
     "output_type": "execute_result",
     "data": {
      "text/plain": [
       "array([[0.5775033 , 0.24582758, 0.0205417 ],\n",
       "       [0.60204843, 0.01168296, 0.53154228],\n",
       "       [0.0882501 , 0.74395649, 0.6030183 ]])"
      ]
     },
     "metadata": {},
     "execution_count": 4
    }
   ],
   "source": [
    "arr.T"
   ]
  },
  {
   "source": [
    "### File Handling"
   ],
   "cell_type": "markdown",
   "metadata": {}
  },
  {
   "cell_type": "code",
   "execution_count": 8,
   "metadata": {},
   "outputs": [],
   "source": [
    "planets_small = np.loadtxt(\"C:/Users/apoor/Desktop/Programs/Python Programs/planets-small.txt\", skiprows=1, usecols=(1,2,3,4,5,6,7,8,9))"
   ]
  },
  {
   "cell_type": "code",
   "execution_count": 9,
   "metadata": {},
   "outputs": [
    {
     "output_type": "execute_result",
     "data": {
      "text/plain": [
       "array([[3.3000e-01, 4.8700e+00, 5.9700e+00, 6.4200e-01, 1.8980e+03,\n",
       "        5.6800e+02, 8.6800e+01, 1.0200e+02, 1.4600e-02],\n",
       "       [5.7900e+01, 1.0820e+02, 1.4960e+02, 2.2790e+02, 7.7860e+02,\n",
       "        1.4335e+03, 2.8725e+03, 4.4951e+03, 5.9064e+03],\n",
       "       [4.2226e+03, 2.8020e+03, 2.4000e+01, 2.4700e+01, 9.9000e+00,\n",
       "        1.0700e+01, 1.7200e+01, 1.6100e+01, 1.5330e+02]])"
      ]
     },
     "metadata": {},
     "execution_count": 9
    }
   ],
   "source": [
    "planets_small"
   ]
  },
  {
   "cell_type": "code",
   "execution_count": 10,
   "metadata": {},
   "outputs": [
    {
     "output_type": "execute_result",
     "data": {
      "text/plain": [
       "(2, (3, 9))"
      ]
     },
     "metadata": {},
     "execution_count": 10
    }
   ],
   "source": [
    "planets_small.ndim, planets_small.shape"
   ]
  },
  {
   "cell_type": "code",
   "execution_count": 11,
   "metadata": {},
   "outputs": [
    {
     "output_type": "error",
     "ename": "ValueError",
     "evalue": "could not convert string to float: 'Unknown'",
     "traceback": [
      "\u001b[1;31m---------------------------------------------------------------------------\u001b[0m",
      "\u001b[1;31mValueError\u001b[0m                                Traceback (most recent call last)",
      "\u001b[1;32m<ipython-input-11-7951e9593a29>\u001b[0m in \u001b[0;36m<module>\u001b[1;34m\u001b[0m\n\u001b[1;32m----> 1\u001b[1;33m \u001b[0mplanets\u001b[0m \u001b[1;33m=\u001b[0m \u001b[0mnp\u001b[0m\u001b[1;33m.\u001b[0m\u001b[0mloadtxt\u001b[0m\u001b[1;33m(\u001b[0m\u001b[1;34m\"C:/Users/apoor/Desktop/Programs/Python Programs/planets.txt\"\u001b[0m\u001b[1;33m,\u001b[0m \u001b[0mskiprows\u001b[0m\u001b[1;33m=\u001b[0m\u001b[1;36m1\u001b[0m\u001b[1;33m,\u001b[0m \u001b[0musecols\u001b[0m\u001b[1;33m=\u001b[0m\u001b[1;33m(\u001b[0m\u001b[1;36m1\u001b[0m\u001b[1;33m,\u001b[0m\u001b[1;36m2\u001b[0m\u001b[1;33m,\u001b[0m\u001b[1;36m3\u001b[0m\u001b[1;33m,\u001b[0m\u001b[1;36m4\u001b[0m\u001b[1;33m,\u001b[0m\u001b[1;36m5\u001b[0m\u001b[1;33m,\u001b[0m\u001b[1;36m6\u001b[0m\u001b[1;33m,\u001b[0m\u001b[1;36m7\u001b[0m\u001b[1;33m,\u001b[0m\u001b[1;36m8\u001b[0m\u001b[1;33m,\u001b[0m\u001b[1;36m9\u001b[0m\u001b[1;33m)\u001b[0m\u001b[1;33m)\u001b[0m\u001b[1;33m\u001b[0m\u001b[1;33m\u001b[0m\u001b[0m\n\u001b[0m",
      "\u001b[1;32m~\\AppData\\Roaming\\Python\\Python38\\site-packages\\numpy\\lib\\npyio.py\u001b[0m in \u001b[0;36mloadtxt\u001b[1;34m(fname, dtype, comments, delimiter, converters, skiprows, usecols, unpack, ndmin, encoding, max_rows)\u001b[0m\n\u001b[0;32m   1137\u001b[0m         \u001b[1;31m# converting the data\u001b[0m\u001b[1;33m\u001b[0m\u001b[1;33m\u001b[0m\u001b[1;33m\u001b[0m\u001b[0m\n\u001b[0;32m   1138\u001b[0m         \u001b[0mX\u001b[0m \u001b[1;33m=\u001b[0m \u001b[1;32mNone\u001b[0m\u001b[1;33m\u001b[0m\u001b[1;33m\u001b[0m\u001b[0m\n\u001b[1;32m-> 1139\u001b[1;33m         \u001b[1;32mfor\u001b[0m \u001b[0mx\u001b[0m \u001b[1;32min\u001b[0m \u001b[0mread_data\u001b[0m\u001b[1;33m(\u001b[0m\u001b[0m_loadtxt_chunksize\u001b[0m\u001b[1;33m)\u001b[0m\u001b[1;33m:\u001b[0m\u001b[1;33m\u001b[0m\u001b[1;33m\u001b[0m\u001b[0m\n\u001b[0m\u001b[0;32m   1140\u001b[0m             \u001b[1;32mif\u001b[0m \u001b[0mX\u001b[0m \u001b[1;32mis\u001b[0m \u001b[1;32mNone\u001b[0m\u001b[1;33m:\u001b[0m\u001b[1;33m\u001b[0m\u001b[1;33m\u001b[0m\u001b[0m\n\u001b[0;32m   1141\u001b[0m                 \u001b[0mX\u001b[0m \u001b[1;33m=\u001b[0m \u001b[0mnp\u001b[0m\u001b[1;33m.\u001b[0m\u001b[0marray\u001b[0m\u001b[1;33m(\u001b[0m\u001b[0mx\u001b[0m\u001b[1;33m,\u001b[0m \u001b[0mdtype\u001b[0m\u001b[1;33m)\u001b[0m\u001b[1;33m\u001b[0m\u001b[1;33m\u001b[0m\u001b[0m\n",
      "\u001b[1;32m~\\AppData\\Roaming\\Python\\Python38\\site-packages\\numpy\\lib\\npyio.py\u001b[0m in \u001b[0;36mread_data\u001b[1;34m(chunk_size)\u001b[0m\n\u001b[0;32m   1065\u001b[0m \u001b[1;33m\u001b[0m\u001b[0m\n\u001b[0;32m   1066\u001b[0m             \u001b[1;31m# Convert each value according to its column and store\u001b[0m\u001b[1;33m\u001b[0m\u001b[1;33m\u001b[0m\u001b[1;33m\u001b[0m\u001b[0m\n\u001b[1;32m-> 1067\u001b[1;33m             \u001b[0mitems\u001b[0m \u001b[1;33m=\u001b[0m \u001b[1;33m[\u001b[0m\u001b[0mconv\u001b[0m\u001b[1;33m(\u001b[0m\u001b[0mval\u001b[0m\u001b[1;33m)\u001b[0m \u001b[1;32mfor\u001b[0m \u001b[1;33m(\u001b[0m\u001b[0mconv\u001b[0m\u001b[1;33m,\u001b[0m \u001b[0mval\u001b[0m\u001b[1;33m)\u001b[0m \u001b[1;32min\u001b[0m \u001b[0mzip\u001b[0m\u001b[1;33m(\u001b[0m\u001b[0mconverters\u001b[0m\u001b[1;33m,\u001b[0m \u001b[0mvals\u001b[0m\u001b[1;33m)\u001b[0m\u001b[1;33m]\u001b[0m\u001b[1;33m\u001b[0m\u001b[1;33m\u001b[0m\u001b[0m\n\u001b[0m\u001b[0;32m   1068\u001b[0m \u001b[1;33m\u001b[0m\u001b[0m\n\u001b[0;32m   1069\u001b[0m             \u001b[1;31m# Then pack it according to the dtype's nesting\u001b[0m\u001b[1;33m\u001b[0m\u001b[1;33m\u001b[0m\u001b[1;33m\u001b[0m\u001b[0m\n",
      "\u001b[1;32m~\\AppData\\Roaming\\Python\\Python38\\site-packages\\numpy\\lib\\npyio.py\u001b[0m in \u001b[0;36m<listcomp>\u001b[1;34m(.0)\u001b[0m\n\u001b[0;32m   1065\u001b[0m \u001b[1;33m\u001b[0m\u001b[0m\n\u001b[0;32m   1066\u001b[0m             \u001b[1;31m# Convert each value according to its column and store\u001b[0m\u001b[1;33m\u001b[0m\u001b[1;33m\u001b[0m\u001b[1;33m\u001b[0m\u001b[0m\n\u001b[1;32m-> 1067\u001b[1;33m             \u001b[0mitems\u001b[0m \u001b[1;33m=\u001b[0m \u001b[1;33m[\u001b[0m\u001b[0mconv\u001b[0m\u001b[1;33m(\u001b[0m\u001b[0mval\u001b[0m\u001b[1;33m)\u001b[0m \u001b[1;32mfor\u001b[0m \u001b[1;33m(\u001b[0m\u001b[0mconv\u001b[0m\u001b[1;33m,\u001b[0m \u001b[0mval\u001b[0m\u001b[1;33m)\u001b[0m \u001b[1;32min\u001b[0m \u001b[0mzip\u001b[0m\u001b[1;33m(\u001b[0m\u001b[0mconverters\u001b[0m\u001b[1;33m,\u001b[0m \u001b[0mvals\u001b[0m\u001b[1;33m)\u001b[0m\u001b[1;33m]\u001b[0m\u001b[1;33m\u001b[0m\u001b[1;33m\u001b[0m\u001b[0m\n\u001b[0m\u001b[0;32m   1068\u001b[0m \u001b[1;33m\u001b[0m\u001b[0m\n\u001b[0;32m   1069\u001b[0m             \u001b[1;31m# Then pack it according to the dtype's nesting\u001b[0m\u001b[1;33m\u001b[0m\u001b[1;33m\u001b[0m\u001b[1;33m\u001b[0m\u001b[0m\n",
      "\u001b[1;32m~\\AppData\\Roaming\\Python\\Python38\\site-packages\\numpy\\lib\\npyio.py\u001b[0m in \u001b[0;36mfloatconv\u001b[1;34m(x)\u001b[0m\n\u001b[0;32m    761\u001b[0m         \u001b[1;32mif\u001b[0m \u001b[1;34m'0x'\u001b[0m \u001b[1;32min\u001b[0m \u001b[0mx\u001b[0m\u001b[1;33m:\u001b[0m\u001b[1;33m\u001b[0m\u001b[1;33m\u001b[0m\u001b[0m\n\u001b[0;32m    762\u001b[0m             \u001b[1;32mreturn\u001b[0m \u001b[0mfloat\u001b[0m\u001b[1;33m.\u001b[0m\u001b[0mfromhex\u001b[0m\u001b[1;33m(\u001b[0m\u001b[0mx\u001b[0m\u001b[1;33m)\u001b[0m\u001b[1;33m\u001b[0m\u001b[1;33m\u001b[0m\u001b[0m\n\u001b[1;32m--> 763\u001b[1;33m         \u001b[1;32mreturn\u001b[0m \u001b[0mfloat\u001b[0m\u001b[1;33m(\u001b[0m\u001b[0mx\u001b[0m\u001b[1;33m)\u001b[0m\u001b[1;33m\u001b[0m\u001b[1;33m\u001b[0m\u001b[0m\n\u001b[0m\u001b[0;32m    764\u001b[0m \u001b[1;33m\u001b[0m\u001b[0m\n\u001b[0;32m    765\u001b[0m     \u001b[0mtyp\u001b[0m \u001b[1;33m=\u001b[0m \u001b[0mdtype\u001b[0m\u001b[1;33m.\u001b[0m\u001b[0mtype\u001b[0m\u001b[1;33m\u001b[0m\u001b[1;33m\u001b[0m\u001b[0m\n",
      "\u001b[1;31mValueError\u001b[0m: could not convert string to float: 'Unknown'"
     ]
    }
   ],
   "source": [
    "planets = np.loadtxt(\"C:/Users/apoor/Desktop/Programs/Python Programs/planets.txt\", skiprows=1, usecols=(1,2,3,4,5,6,7,8,9))"
   ]
  },
  {
   "cell_type": "code",
   "execution_count": 12,
   "metadata": {},
   "outputs": [],
   "source": [
    "planets = np.genfromtxt(\"C:/Users/apoor/Desktop/Programs/Python Programs/planets.txt\",skip_header=1, usecols=(1,2,3,4,5,6,7,8,9))"
   ]
  },
  {
   "cell_type": "code",
   "execution_count": 13,
   "metadata": {},
   "outputs": [
    {
     "output_type": "execute_result",
     "data": {
      "text/plain": [
       "array([[ 3.30000e-01,  4.87000e+00,  5.97000e+00,  7.30000e-02,\n",
       "         6.42000e-01,  1.89800e+03,  5.68000e+02,  8.68000e+01,\n",
       "         1.02000e+02],\n",
       "       [ 4.87900e+03,  1.21040e+04,  1.27560e+04,  3.47500e+03,\n",
       "         6.79200e+03,  1.42984e+05,  1.20536e+05,  5.11180e+04,\n",
       "         4.95280e+04],\n",
       "       [ 5.42700e+03,  5.24300e+03,  5.51400e+03,  3.34000e+03,\n",
       "         3.93300e+03,  1.32600e+03,  6.87000e+02,  1.27100e+03,\n",
       "         1.63800e+03],\n",
       "       [ 3.70000e+00,  8.90000e+00,  9.80000e+00,  1.60000e+00,\n",
       "         3.70000e+00,  2.31000e+01,  9.00000e+00,  8.70000e+00,\n",
       "         1.10000e+01],\n",
       "       [ 4.30000e+00,  1.04000e+01,  1.12000e+01,  2.40000e+00,\n",
       "         5.00000e+00,  5.95000e+01,  3.55000e+01,  2.13000e+01,\n",
       "         2.35000e+01],\n",
       "       [ 1.40760e+03, -5.83250e+03,  2.39000e+01,  6.55700e+02,\n",
       "         2.46000e+01,  9.90000e+00,  1.07000e+01, -1.72000e+01,\n",
       "         1.61000e+01],\n",
       "       [ 4.22260e+03,  2.80200e+03,  2.40000e+01,  7.08700e+02,\n",
       "         2.47000e+01,  9.90000e+00,  1.07000e+01,  1.72000e+01,\n",
       "         1.61000e+01],\n",
       "       [ 5.79000e+01,  1.08200e+02,  1.49600e+02,  3.84000e-01,\n",
       "         2.27900e+02,  7.78600e+02,  1.43350e+03,  2.87250e+03,\n",
       "         4.49510e+03],\n",
       "       [ 4.60000e+01,  1.07500e+02,  1.47100e+02,  3.63000e-01,\n",
       "         2.06600e+02,  7.40500e+02,  1.35260e+03,  2.74130e+03,\n",
       "         4.44450e+03],\n",
       "       [ 6.98000e+01,  1.08900e+02,  1.52100e+02,  4.06000e-01,\n",
       "         2.49200e+02,  8.16600e+02,  1.51450e+03,  3.00360e+03,\n",
       "         4.54570e+03],\n",
       "       [ 8.80000e+01,  2.24700e+02,  3.65200e+02,  2.73000e+01,\n",
       "         6.87000e+02,  4.33100e+03,  1.07470e+04,  3.05890e+04,\n",
       "         5.98000e+04],\n",
       "       [ 4.74000e+01,  3.50000e+01,  2.98000e+01,  1.00000e+00,\n",
       "         2.41000e+01,  1.31000e+01,  9.70000e+00,  6.80000e+00,\n",
       "         5.40000e+00],\n",
       "       [ 7.00000e+00,  3.40000e+00,  0.00000e+00,  5.10000e+00,\n",
       "         1.90000e+00,  1.30000e+00,  2.50000e+00,  8.00000e-01,\n",
       "         1.80000e+00],\n",
       "       [ 2.05000e-01,  7.00000e-03,  1.70000e-02,  5.50000e-02,\n",
       "         9.40000e-02,  4.90000e-02,  5.70000e-02,  4.60000e-02,\n",
       "         1.10000e-02],\n",
       "       [ 3.40000e-02,  1.77400e+02,  2.34000e+01,  6.70000e+00,\n",
       "         2.52000e+01,  3.10000e+00,  2.67000e+01,  9.78000e+01,\n",
       "         2.83000e+01],\n",
       "       [ 1.67000e+02,  4.64000e+02,  1.50000e+01, -2.00000e+01,\n",
       "        -6.50000e+01, -1.10000e+02, -1.40000e+02, -1.95000e+02,\n",
       "        -2.00000e+02],\n",
       "       [ 0.00000e+00,  9.20000e+01,  1.00000e+00,  0.00000e+00,\n",
       "         1.00000e-02,          nan,          nan,          nan,\n",
       "                 nan],\n",
       "       [ 0.00000e+00,  0.00000e+00,  1.00000e+00,  0.00000e+00,\n",
       "         2.00000e+00,  7.90000e+01,  8.20000e+01,  2.70000e+01,\n",
       "         1.40000e+01],\n",
       "       [ 0.00000e+00,  0.00000e+00,  0.00000e+00,  0.00000e+00,\n",
       "         0.00000e+00,  1.00000e+00,  1.00000e+00,  1.00000e+00,\n",
       "         1.00000e+00],\n",
       "       [ 1.00000e+00,  0.00000e+00,  1.00000e+00,  0.00000e+00,\n",
       "         0.00000e+00,  1.00000e+00,  1.00000e+00,  1.00000e+00,\n",
       "         1.00000e+00]])"
      ]
     },
     "metadata": {},
     "execution_count": 13
    }
   ],
   "source": [
    "planets"
   ]
  },
  {
   "cell_type": "code",
   "execution_count": 14,
   "metadata": {},
   "outputs": [
    {
     "output_type": "execute_result",
     "data": {
      "text/plain": [
       "(20, 9)"
      ]
     },
     "metadata": {},
     "execution_count": 14
    }
   ],
   "source": [
    "planets.shape"
   ]
  },
  {
   "cell_type": "code",
   "execution_count": 17,
   "metadata": {},
   "outputs": [
    {
     "output_type": "execute_result",
     "data": {
      "text/plain": [
       "array([[False, False, False, False, False, False, False, False, False],\n",
       "       [False, False, False, False, False, False, False, False, False],\n",
       "       [False, False, False, False, False, False, False, False, False],\n",
       "       [False, False, False, False, False, False, False, False, False],\n",
       "       [False, False, False, False, False, False, False, False, False],\n",
       "       [False, False, False, False, False, False, False, False, False],\n",
       "       [False, False, False, False, False, False, False, False, False],\n",
       "       [False, False, False, False, False, False, False, False, False],\n",
       "       [False, False, False, False, False, False, False, False, False],\n",
       "       [False, False, False, False, False, False, False, False, False],\n",
       "       [False, False, False, False, False, False, False, False, False],\n",
       "       [False, False, False, False, False, False, False, False, False],\n",
       "       [False, False, False, False, False, False, False, False, False],\n",
       "       [False, False, False, False, False, False, False, False, False],\n",
       "       [False, False, False, False, False, False, False, False, False],\n",
       "       [False, False, False, False, False, False, False, False, False],\n",
       "       [False, False, False, False, False,  True,  True,  True,  True],\n",
       "       [False, False, False, False, False, False, False, False, False],\n",
       "       [False, False, False, False, False, False, False, False, False],\n",
       "       [False, False, False, False, False, False, False, False, False]])"
      ]
     },
     "metadata": {},
     "execution_count": 17
    }
   ],
   "source": [
    "np.isnan(planets)"
   ]
  },
  {
   "cell_type": "code",
   "execution_count": 18,
   "metadata": {},
   "outputs": [],
   "source": [
    " planets_new = np.nan_to_num(planets,-1)"
   ]
  },
  {
   "cell_type": "code",
   "execution_count": 19,
   "metadata": {},
   "outputs": [
    {
     "output_type": "execute_result",
     "data": {
      "text/plain": [
       "array([[ 3.30000e-01,  4.87000e+00,  5.97000e+00,  7.30000e-02,\n",
       "         6.42000e-01,  1.89800e+03,  5.68000e+02,  8.68000e+01,\n",
       "         1.02000e+02],\n",
       "       [ 4.87900e+03,  1.21040e+04,  1.27560e+04,  3.47500e+03,\n",
       "         6.79200e+03,  1.42984e+05,  1.20536e+05,  5.11180e+04,\n",
       "         4.95280e+04],\n",
       "       [ 5.42700e+03,  5.24300e+03,  5.51400e+03,  3.34000e+03,\n",
       "         3.93300e+03,  1.32600e+03,  6.87000e+02,  1.27100e+03,\n",
       "         1.63800e+03],\n",
       "       [ 3.70000e+00,  8.90000e+00,  9.80000e+00,  1.60000e+00,\n",
       "         3.70000e+00,  2.31000e+01,  9.00000e+00,  8.70000e+00,\n",
       "         1.10000e+01],\n",
       "       [ 4.30000e+00,  1.04000e+01,  1.12000e+01,  2.40000e+00,\n",
       "         5.00000e+00,  5.95000e+01,  3.55000e+01,  2.13000e+01,\n",
       "         2.35000e+01],\n",
       "       [ 1.40760e+03, -5.83250e+03,  2.39000e+01,  6.55700e+02,\n",
       "         2.46000e+01,  9.90000e+00,  1.07000e+01, -1.72000e+01,\n",
       "         1.61000e+01],\n",
       "       [ 4.22260e+03,  2.80200e+03,  2.40000e+01,  7.08700e+02,\n",
       "         2.47000e+01,  9.90000e+00,  1.07000e+01,  1.72000e+01,\n",
       "         1.61000e+01],\n",
       "       [ 5.79000e+01,  1.08200e+02,  1.49600e+02,  3.84000e-01,\n",
       "         2.27900e+02,  7.78600e+02,  1.43350e+03,  2.87250e+03,\n",
       "         4.49510e+03],\n",
       "       [ 4.60000e+01,  1.07500e+02,  1.47100e+02,  3.63000e-01,\n",
       "         2.06600e+02,  7.40500e+02,  1.35260e+03,  2.74130e+03,\n",
       "         4.44450e+03],\n",
       "       [ 6.98000e+01,  1.08900e+02,  1.52100e+02,  4.06000e-01,\n",
       "         2.49200e+02,  8.16600e+02,  1.51450e+03,  3.00360e+03,\n",
       "         4.54570e+03],\n",
       "       [ 8.80000e+01,  2.24700e+02,  3.65200e+02,  2.73000e+01,\n",
       "         6.87000e+02,  4.33100e+03,  1.07470e+04,  3.05890e+04,\n",
       "         5.98000e+04],\n",
       "       [ 4.74000e+01,  3.50000e+01,  2.98000e+01,  1.00000e+00,\n",
       "         2.41000e+01,  1.31000e+01,  9.70000e+00,  6.80000e+00,\n",
       "         5.40000e+00],\n",
       "       [ 7.00000e+00,  3.40000e+00,  0.00000e+00,  5.10000e+00,\n",
       "         1.90000e+00,  1.30000e+00,  2.50000e+00,  8.00000e-01,\n",
       "         1.80000e+00],\n",
       "       [ 2.05000e-01,  7.00000e-03,  1.70000e-02,  5.50000e-02,\n",
       "         9.40000e-02,  4.90000e-02,  5.70000e-02,  4.60000e-02,\n",
       "         1.10000e-02],\n",
       "       [ 3.40000e-02,  1.77400e+02,  2.34000e+01,  6.70000e+00,\n",
       "         2.52000e+01,  3.10000e+00,  2.67000e+01,  9.78000e+01,\n",
       "         2.83000e+01],\n",
       "       [ 1.67000e+02,  4.64000e+02,  1.50000e+01, -2.00000e+01,\n",
       "        -6.50000e+01, -1.10000e+02, -1.40000e+02, -1.95000e+02,\n",
       "        -2.00000e+02],\n",
       "       [ 0.00000e+00,  9.20000e+01,  1.00000e+00,  0.00000e+00,\n",
       "         1.00000e-02,  0.00000e+00,  0.00000e+00,  0.00000e+00,\n",
       "         0.00000e+00],\n",
       "       [ 0.00000e+00,  0.00000e+00,  1.00000e+00,  0.00000e+00,\n",
       "         2.00000e+00,  7.90000e+01,  8.20000e+01,  2.70000e+01,\n",
       "         1.40000e+01],\n",
       "       [ 0.00000e+00,  0.00000e+00,  0.00000e+00,  0.00000e+00,\n",
       "         0.00000e+00,  1.00000e+00,  1.00000e+00,  1.00000e+00,\n",
       "         1.00000e+00],\n",
       "       [ 1.00000e+00,  0.00000e+00,  1.00000e+00,  0.00000e+00,\n",
       "         0.00000e+00,  1.00000e+00,  1.00000e+00,  1.00000e+00,\n",
       "         1.00000e+00]])"
      ]
     },
     "metadata": {},
     "execution_count": 19
    }
   ],
   "source": [
    "planets_new"
   ]
  },
  {
   "source": [
    " np.savetxt(\"C:/Users/apoor/Desktop/Programs/Python Programs/planets-new.txt\", planets_new, delimiter=\", \")"
   ],
   "cell_type": "code",
   "metadata": {},
   "execution_count": 21,
   "outputs": []
  },
  {
   "cell_type": "code",
   "execution_count": 22,
   "metadata": {},
   "outputs": [],
   "source": [
    "np.save(\"C:/Users/apoor/Desktop/Programs/Python Programs/planetsnew\", planets_new)"
   ]
  },
  {
   "cell_type": "code",
   "execution_count": 24,
   "metadata": {},
   "outputs": [],
   "source": [
    "arr1 = np.random.rand(1000,10)\n",
    "arr2 = np.random.rand(2000,5)\n",
    "arr3 = np.random.rand(20,10000)"
   ]
  },
  {
   "cell_type": "code",
   "execution_count": 25,
   "metadata": {},
   "outputs": [],
   "source": [
    "np.savez(\"C:/Users/apoor/Desktop/Programs/Python Programs/many_arrs\", arr1,arr2,arr3)"
   ]
  },
  {
   "cell_type": "code",
   "execution_count": 26,
   "metadata": {},
   "outputs": [],
   "source": [
    "arrs = np.load(\"C:/Users/apoor/Desktop/Programs/Python Programs/many_arrs.npz\")"
   ]
  },
  {
   "cell_type": "code",
   "execution_count": 27,
   "metadata": {},
   "outputs": [
    {
     "output_type": "execute_result",
     "data": {
      "text/plain": [
       "numpy.lib.npyio.NpzFile"
      ]
     },
     "metadata": {},
     "execution_count": 27
    }
   ],
   "source": [
    "type(arrs)"
   ]
  },
  {
   "cell_type": "code",
   "execution_count": 28,
   "metadata": {},
   "outputs": [
    {
     "output_type": "execute_result",
     "data": {
      "text/plain": [
       "['arr_0', 'arr_1', 'arr_2']"
      ]
     },
     "metadata": {},
     "execution_count": 28
    }
   ],
   "source": [
    "arrs.files"
   ]
  },
  {
   "cell_type": "code",
   "execution_count": 30,
   "metadata": {},
   "outputs": [
    {
     "output_type": "execute_result",
     "data": {
      "text/plain": [
       "(1000, 10)"
      ]
     },
     "metadata": {},
     "execution_count": 30
    }
   ],
   "source": [
    "arrs['arr_0'].shape"
   ]
  },
  {
   "cell_type": "code",
   "execution_count": 31,
   "metadata": {},
   "outputs": [],
   "source": [
    "np.savez_compressed(\"C:/Users/apoor/Desktop/Programs/Python Programs/manyarr_comp\", arr1,arr2,arr3)"
   ]
  },
  {
   "cell_type": "code",
   "execution_count": 32,
   "metadata": {},
   "outputs": [],
   "source": [
    "arr1 = np.zeros((1000,1000))"
   ]
  },
  {
   "cell_type": "code",
   "execution_count": 33,
   "metadata": {},
   "outputs": [],
   "source": [
    "np.savez(\"C:/Users/apoor/Desktop/Programs/Python Programs/zeroo\",arr1)"
   ]
  },
  {
   "cell_type": "code",
   "execution_count": 36,
   "metadata": {},
   "outputs": [],
   "source": [
    "np.savez_compressed(\"C:/Users/apoor/Desktop/Programs/Python Programs/zeroo_comp\", arr1)"
   ]
  },
  {
   "source": [
    "### Stats with Numpy"
   ],
   "cell_type": "markdown",
   "metadata": {}
  },
  {
   "cell_type": "code",
   "execution_count": 70,
   "metadata": {},
   "outputs": [],
   "source": [
    "arr = np.random.rand(10000000,)"
   ]
  },
  {
   "cell_type": "code",
   "execution_count": 38,
   "metadata": {},
   "outputs": [
    {
     "output_type": "execute_result",
     "data": {
      "text/plain": [
       "5.020863684923604e-06"
      ]
     },
     "metadata": {},
     "execution_count": 38
    }
   ],
   "source": [
    "np.amin(arr)"
   ]
  },
  {
   "cell_type": "code",
   "execution_count": 40,
   "metadata": {},
   "outputs": [
    {
     "output_type": "execute_result",
     "data": {
      "text/plain": [
       "0.9999978206043044"
      ]
     },
     "metadata": {},
     "execution_count": 40
    }
   ],
   "source": [
    "np.amax(arr)"
   ]
  },
  {
   "cell_type": "code",
   "execution_count": 41,
   "metadata": {},
   "outputs": [
    {
     "output_type": "execute_result",
     "data": {
      "text/plain": [
       "0.5000424072260019"
      ]
     },
     "metadata": {},
     "execution_count": 41
    }
   ],
   "source": [
    "np.mean(arr)"
   ]
  },
  {
   "cell_type": "code",
   "execution_count": 53,
   "metadata": {},
   "outputs": [
    {
     "output_type": "execute_result",
     "data": {
      "text/plain": [
       "0.08379957249299023"
      ]
     },
     "metadata": {},
     "execution_count": 53
    }
   ],
   "source": [
    "np.var(arr)"
   ]
  },
  {
   "cell_type": "code",
   "execution_count": 55,
   "metadata": {},
   "outputs": [
    {
     "output_type": "execute_result",
     "data": {
      "text/plain": [
       "0.2894815581224307"
      ]
     },
     "metadata": {},
     "execution_count": 55
    }
   ],
   "source": [
    "np.std(arr)"
   ]
  },
  {
   "cell_type": "code",
   "execution_count": 56,
   "metadata": {},
   "outputs": [
    {
     "output_type": "execute_result",
     "data": {
      "text/plain": [
       "0.5001374837816897"
      ]
     },
     "metadata": {},
     "execution_count": 56
    }
   ],
   "source": [
    "np.median(arr)"
   ]
  },
  {
   "cell_type": "code",
   "execution_count": 57,
   "metadata": {},
   "outputs": [
    {
     "output_type": "execute_result",
     "data": {
      "text/plain": [
       "0.29918142818043286"
      ]
     },
     "metadata": {},
     "execution_count": 57
    }
   ],
   "source": [
    "np.percentile(arr,30)"
   ]
  },
  {
   "cell_type": "code",
   "execution_count": 58,
   "metadata": {},
   "outputs": [
    {
     "output_type": "execute_result",
     "data": {
      "text/plain": [
       "0.9002581843931262"
      ]
     },
     "metadata": {},
     "execution_count": 58
    }
   ],
   "source": [
    "np.percentile(arr,90)"
   ]
  },
  {
   "cell_type": "code",
   "execution_count": 71,
   "metadata": {},
   "outputs": [
    {
     "output_type": "stream",
     "name": "stdout",
     "text": [
      "Wall time: 382 ms\n"
     ]
    }
   ],
   "source": [
    "%%time\n",
    "iqr = np.percentile(arr,75) - np.percentile(arr,25)\n",
    "#Iqr = q3 - q1 => 75th percentile - 50th percentile"
   ]
  },
  {
   "cell_type": "code",
   "execution_count": 60,
   "metadata": {},
   "outputs": [
    {
     "output_type": "execute_result",
     "data": {
      "text/plain": [
       "0.5042514474849051"
      ]
     },
     "metadata": {},
     "execution_count": 60
    }
   ],
   "source": [
    "iqr\n"
   ]
  },
  {
   "cell_type": "code",
   "execution_count": 61,
   "metadata": {},
   "outputs": [],
   "source": [
    "quartiles =np.percentile(arr,[25,75])"
   ]
  },
  {
   "cell_type": "code",
   "execution_count": 62,
   "metadata": {},
   "outputs": [
    {
     "output_type": "execute_result",
     "data": {
      "text/plain": [
       "array([0.24823576, 0.75248721])"
      ]
     },
     "metadata": {},
     "execution_count": 62
    }
   ],
   "source": [
    "quartiles"
   ]
  },
  {
   "cell_type": "code",
   "execution_count": 72,
   "metadata": {},
   "outputs": [
    {
     "output_type": "stream",
     "name": "stdout",
     "text": [
      "Wall time: 263 ms\n"
     ]
    }
   ],
   "source": [
    "%%time\n",
    "quartiles =np.percentile(arr,[25,75])\n",
    "iqr = quartiles[1]-quartiles[0]"
   ]
  },
  {
   "cell_type": "code",
   "execution_count": 66,
   "metadata": {},
   "outputs": [
    {
     "output_type": "execute_result",
     "data": {
      "text/plain": [
       "0.5042514474849051"
      ]
     },
     "metadata": {},
     "execution_count": 66
    }
   ],
   "source": [
    "iqr"
   ]
  },
  {
   "cell_type": "code",
   "execution_count": 73,
   "metadata": {},
   "outputs": [
    {
     "output_type": "execute_result",
     "data": {
      "text/plain": [
       "array([ 0.22853274, -0.75397593, -0.48605953, ...,  1.4319222 ,\n",
       "       -0.81750139, -0.2207184 ])"
      ]
     },
     "metadata": {},
     "execution_count": 73
    }
   ],
   "source": [
    "(arr-np.mean(arr))/np.std(arr) #z score"
   ]
  },
  {
   "cell_type": "code",
   "execution_count": 74,
   "metadata": {},
   "outputs": [
    {
     "output_type": "execute_result",
     "data": {
      "text/plain": [
       "(array([ 999460,  999355, 1000984,  999282, 1001202, 1001399,  999112,\n",
       "         999956,  999545,  999705], dtype=int64),\n",
       " array([1.77774721e-07, 1.00000158e-01, 2.00000137e-01, 3.00000117e-01,\n",
       "        4.00000097e-01, 5.00000077e-01, 6.00000056e-01, 7.00000036e-01,\n",
       "        8.00000016e-01, 8.99999996e-01, 9.99999975e-01]))"
      ]
     },
     "metadata": {},
     "execution_count": 74
    }
   ],
   "source": [
    "np.histogram(arr)"
   ]
  },
  {
   "cell_type": "code",
   "execution_count": 75,
   "metadata": {},
   "outputs": [
    {
     "output_type": "execute_result",
     "data": {
      "text/plain": [
       "(array([1998815, 2000266, 2002601, 1999068, 1999250], dtype=int64),\n",
       " array([1.77774721e-07, 2.00000137e-01, 4.00000097e-01, 6.00000056e-01,\n",
       "        8.00000016e-01, 9.99999975e-01]))"
      ]
     },
     "metadata": {},
     "execution_count": 75
    }
   ],
   "source": [
    "np.histogram(arr,bins= 5)"
   ]
  },
  {
   "cell_type": "code",
   "execution_count": 77,
   "metadata": {},
   "outputs": [
    {
     "output_type": "execute_result",
     "data": {
      "text/plain": [
       "(array([2499308, 2500975, 2500900, 2498817], dtype=int64),\n",
       " array([0.  , 0.25, 0.5 , 0.75, 1.  ]))"
      ]
     },
     "metadata": {},
     "execution_count": 77
    }
   ],
   "source": [
    "np.histogram(arr,bins=[0,0.25,0.5,0.75,1])"
   ]
  },
  {
   "cell_type": "code",
   "execution_count": 78,
   "metadata": {},
   "outputs": [],
   "source": [
    "bins=[0,0.25,0.5,0.75,1]"
   ]
  },
  {
   "cell_type": "code",
   "execution_count": 79,
   "metadata": {},
   "outputs": [
    {
     "output_type": "execute_result",
     "data": {
      "text/plain": [
       "array([3, 2, 2, ..., 4, 2, 2], dtype=int64)"
      ]
     },
     "metadata": {},
     "execution_count": 79
    }
   ],
   "source": [
    "np.digitize(arr,bins)"
   ]
  },
  {
   "cell_type": "code",
   "execution_count": 88,
   "metadata": {},
   "outputs": [],
   "source": [
    "arr1 =np.random.randint(1,10,(10,))"
   ]
  },
  {
   "cell_type": "code",
   "execution_count": 89,
   "metadata": {},
   "outputs": [
    {
     "output_type": "execute_result",
     "data": {
      "text/plain": [
       "array([3, 7, 1, 1, 1, 8, 6, 3, 2, 8])"
      ]
     },
     "metadata": {},
     "execution_count": 89
    }
   ],
   "source": [
    "arr1"
   ]
  },
  {
   "cell_type": "code",
   "execution_count": 90,
   "metadata": {},
   "outputs": [],
   "source": [
    "bins = [0,6,10]"
   ]
  },
  {
   "cell_type": "code",
   "execution_count": 91,
   "metadata": {},
   "outputs": [
    {
     "output_type": "execute_result",
     "data": {
      "text/plain": [
       "array([1, 2, 1, 1, 1, 2, 2, 1, 1, 2], dtype=int64)"
      ]
     },
     "metadata": {},
     "execution_count": 91
    }
   ],
   "source": [
    "np.digitize(arr1,bins)"
   ]
  },
  {
   "cell_type": "code",
   "execution_count": 92,
   "metadata": {},
   "outputs": [
    {
     "output_type": "execute_result",
     "data": {
      "text/plain": [
       "array([1, 2, 1, 1, 1, 2, 1, 1, 1, 2], dtype=int64)"
      ]
     },
     "metadata": {},
     "execution_count": 92
    }
   ],
   "source": [
    "np.digitize(arr1,bins, right=True)"
   ]
  },
  {
   "cell_type": "code",
   "execution_count": 93,
   "metadata": {},
   "outputs": [],
   "source": [
    "arr1= np.random.randint(50,80,100) #weight"
   ]
  },
  {
   "cell_type": "code",
   "execution_count": 95,
   "metadata": {},
   "outputs": [],
   "source": [
    "arr2 = np.random.randint(150,185,100) #height"
   ]
  },
  {
   "cell_type": "code",
   "execution_count": 97,
   "metadata": {},
   "outputs": [],
   "source": [
    "arr3 = np.random.randint(18,22,100)#age"
   ]
  },
  {
   "cell_type": "code",
   "execution_count": 100,
   "metadata": {},
   "outputs": [
    {
     "output_type": "execute_result",
     "data": {
      "text/plain": [
       "(300,)"
      ]
     },
     "metadata": {},
     "execution_count": 100
    }
   ],
   "source": [
    "np.concatenate((arr1,arr2,arr3)).shape"
   ]
  },
  {
   "cell_type": "code",
   "execution_count": 102,
   "metadata": {},
   "outputs": [],
   "source": [
    "arr2d = np.vstack((arr1,arr2,arr3))"
   ]
  },
  {
   "cell_type": "code",
   "execution_count": 103,
   "metadata": {},
   "outputs": [
    {
     "output_type": "execute_result",
     "data": {
      "text/plain": [
       "(3, 100)"
      ]
     },
     "metadata": {},
     "execution_count": 103
    }
   ],
   "source": [
    "arr2d.shape"
   ]
  },
  {
   "cell_type": "code",
   "execution_count": 104,
   "metadata": {},
   "outputs": [
    {
     "output_type": "execute_result",
     "data": {
      "text/plain": [
       "array([ 50, 150,  18])"
      ]
     },
     "metadata": {},
     "execution_count": 104
    }
   ],
   "source": [
    "np.min(arr2d,axis=1)"
   ]
  },
  {
   "source": [
    "### Rules of stats"
   ],
   "cell_type": "markdown",
   "metadata": {}
  },
  {
   "source": [
    "#### 1. Mean subtracted array has zero mean"
   ],
   "cell_type": "markdown",
   "metadata": {}
  },
  {
   "cell_type": "code",
   "execution_count": 10,
   "metadata": {},
   "outputs": [],
   "source": [
    "arr = np.random.rand(1000)"
   ]
  },
  {
   "cell_type": "code",
   "execution_count": 11,
   "metadata": {},
   "outputs": [],
   "source": [
    "mean = np.mean(arr)"
   ]
  },
  {
   "cell_type": "code",
   "execution_count": 12,
   "metadata": {},
   "outputs": [],
   "source": [
    "arr1 = arr-mean"
   ]
  },
  {
   "cell_type": "code",
   "execution_count": 13,
   "metadata": {},
   "outputs": [
    {
     "output_type": "execute_result",
     "data": {
      "text/plain": [
       "1.1546319456101627e-17"
      ]
     },
     "metadata": {},
     "execution_count": 13
    }
   ],
   "source": [
    "np.mean(arr1)"
   ]
  },
  {
   "source": [
    "#### 2. Computing mean with a smaller set of values\n"
   ],
   "cell_type": "markdown",
   "metadata": {}
  },
  {
   "cell_type": "code",
   "execution_count": 14,
   "metadata": {},
   "outputs": [],
   "source": [
    "arr = np.random.rand(1000)"
   ]
  },
  {
   "cell_type": "code",
   "execution_count": 18,
   "metadata": {
    "tags": []
   },
   "outputs": [
    {
     "output_type": "stream",
     "name": "stdout",
     "text": [
      "1 0.8357729788387508\n2 0.4896504267000113\n3 0.4184601319244126\n4 0.42555164437683446\n5 0.4358445660410143\n6 0.4459879101706341\n7 0.4332472027877555\n8 0.4705839087142031\n9 0.47959390526445855\n10 0.5025800744411775\n11 0.5099841679021494\n12 0.5438275601837504\n13 0.5523387626012612\n14 0.5659361276963338\n15 0.5307619615746677\n16 0.5373322722133996\n17 0.5204477925926053\n18 0.5077241326957663\n19 0.48142480166749885\n20 0.4893069406811746\n21 0.5051329813566768\n22 0.4887552743424004\n23 0.5097304460044088\n24 0.5013028630013371\n25 0.5196369863565726\n26 0.5165302608410544\n27 0.5065486922567946\n28 0.5094548231825021\n29 0.5075850455389087\n30 0.4979940893853475\n31 0.5133038265588464\n32 0.5085638150081297\n33 0.5057526482717951\n34 0.4961164065945598\n35 0.5056802405758762\n36 0.5080036797306221\n37 0.5009950715624694\n38 0.4929409212397764\n39 0.4859401487452307\n40 0.47489151433854887\n41 0.4815507477501923\n42 0.4799425427520362\n43 0.4757249259605945\n44 0.46752530903817574\n45 0.4584001818688611\n46 0.4676178058682292\n47 0.4608654664865126\n48 0.46603962439360896\n49 0.4648876913102488\n"
     ]
    }
   ],
   "source": [
    "for k in range(1,50):\n",
    "    arr1 = arr[0:k]\n",
    "    print(k, np.mean(arr1))"
   ]
  },
  {
   "cell_type": "code",
   "execution_count": 19,
   "metadata": {},
   "outputs": [
    {
     "output_type": "stream",
     "text": [
      "\u001b[1;31mSignature:\u001b[0m \u001b[0mnp\u001b[0m\u001b[1;33m.\u001b[0m\u001b[0mcumsum\u001b[0m\u001b[1;33m(\u001b[0m\u001b[0ma\u001b[0m\u001b[1;33m,\u001b[0m \u001b[0maxis\u001b[0m\u001b[1;33m=\u001b[0m\u001b[1;32mNone\u001b[0m\u001b[1;33m,\u001b[0m \u001b[0mdtype\u001b[0m\u001b[1;33m=\u001b[0m\u001b[1;32mNone\u001b[0m\u001b[1;33m,\u001b[0m \u001b[0mout\u001b[0m\u001b[1;33m=\u001b[0m\u001b[1;32mNone\u001b[0m\u001b[1;33m)\u001b[0m\u001b[1;33m\u001b[0m\u001b[1;33m\u001b[0m\u001b[0m\n",
      "\u001b[1;31mDocstring:\u001b[0m\n",
      "Return the cumulative sum of the elements along a given axis.\n",
      "\n",
      "Parameters\n",
      "----------\n",
      "a : array_like\n",
      "    Input array.\n",
      "axis : int, optional\n",
      "    Axis along which the cumulative sum is computed. The default\n",
      "    (None) is to compute the cumsum over the flattened array.\n",
      "dtype : dtype, optional\n",
      "    Type of the returned array and of the accumulator in which the\n",
      "    elements are summed.  If `dtype` is not specified, it defaults\n",
      "    to the dtype of `a`, unless `a` has an integer dtype with a\n",
      "    precision less than that of the default platform integer.  In\n",
      "    that case, the default platform integer is used.\n",
      "out : ndarray, optional\n",
      "    Alternative output array in which to place the result. It must\n",
      "    have the same shape and buffer length as the expected output\n",
      "    but the type will be cast if necessary. See `ufuncs-output-type` for\n",
      "    more details.\n",
      "\n",
      "Returns\n",
      "-------\n",
      "cumsum_along_axis : ndarray.\n",
      "    A new array holding the result is returned unless `out` is\n",
      "    specified, in which case a reference to `out` is returned. The\n",
      "    result has the same size as `a`, and the same shape as `a` if\n",
      "    `axis` is not None or `a` is a 1-d array.\n",
      "\n",
      "\n",
      "See Also\n",
      "--------\n",
      "sum : Sum array elements.\n",
      "\n",
      "trapz : Integration of array values using the composite trapezoidal rule.\n",
      "\n",
      "diff :  Calculate the n-th discrete difference along given axis.\n",
      "\n",
      "Notes\n",
      "-----\n",
      "Arithmetic is modular when using integer types, and no error is\n",
      "raised on overflow.\n",
      "\n",
      "Examples\n",
      "--------\n",
      ">>> a = np.array([[1,2,3], [4,5,6]])\n",
      ">>> a\n",
      "array([[1, 2, 3],\n",
      "       [4, 5, 6]])\n",
      ">>> np.cumsum(a)\n",
      "array([ 1,  3,  6, 10, 15, 21])\n",
      ">>> np.cumsum(a, dtype=float)     # specifies type of output value(s)\n",
      "array([  1.,   3.,   6.,  10.,  15.,  21.])\n",
      "\n",
      ">>> np.cumsum(a,axis=0)      # sum over rows for each of the 3 columns\n",
      "array([[1, 2, 3],\n",
      "       [5, 7, 9]])\n",
      ">>> np.cumsum(a,axis=1)      # sum over columns for each of the 2 rows\n",
      "array([[ 1,  3,  6],\n",
      "       [ 4,  9, 15]])\n",
      "\u001b[1;31mFile:\u001b[0m      c:\\users\\apoor\\appdata\\roaming\\python\\python38\\site-packages\\numpy\\core\\fromnumeric.py\n",
      "\u001b[1;31mType:\u001b[0m      function\n"
     ],
     "name": "stdout"
    }
   ],
   "source": [
    "np.cumsum?"
   ]
  },
  {
   "cell_type": "code",
   "execution_count": 22,
   "metadata": {},
   "outputs": [],
   "source": [
    "mean_cum = np.cumsum(arr)/np.arange(1,1001)"
   ]
  },
  {
   "source": [
    "mean_cum[0:50]"
   ],
   "cell_type": "code",
   "metadata": {},
   "execution_count": 23,
   "outputs": [
    {
     "output_type": "execute_result",
     "data": {
      "text/plain": [
       "array([0.83577298, 0.48965043, 0.41846013, 0.42555164, 0.43584457,\n",
       "       0.44598791, 0.4332472 , 0.47058391, 0.47959391, 0.50258007,\n",
       "       0.50998417, 0.54382756, 0.55233876, 0.56593613, 0.53076196,\n",
       "       0.53733227, 0.52044779, 0.50772413, 0.4814248 , 0.48930694,\n",
       "       0.50513298, 0.48875527, 0.50973045, 0.50130286, 0.51963699,\n",
       "       0.51653026, 0.50654869, 0.50945482, 0.50758505, 0.49799409,\n",
       "       0.51330383, 0.50856382, 0.50575265, 0.49611641, 0.50568024,\n",
       "       0.50800368, 0.50099507, 0.49294092, 0.48594015, 0.47489151,\n",
       "       0.48155075, 0.47994254, 0.47572493, 0.46752531, 0.45840018,\n",
       "       0.46761781, 0.46086547, 0.46603962, 0.46488769, 0.4615218 ])"
      ]
     },
     "metadata": {},
     "execution_count": 23
    }
   ]
  },
  {
   "source": [
    "### 3. Effect of outliers on mean and median"
   ],
   "cell_type": "markdown",
   "metadata": {}
  },
  {
   "cell_type": "code",
   "execution_count": 30,
   "metadata": {},
   "outputs": [],
   "source": [
    "arr = np.random.randint(1,100,100)"
   ]
  },
  {
   "cell_type": "code",
   "execution_count": 31,
   "metadata": {},
   "outputs": [
    {
     "output_type": "execute_result",
     "data": {
      "text/plain": [
       "51.94"
      ]
     },
     "metadata": {},
     "execution_count": 31
    }
   ],
   "source": [
    "np.mean(arr)"
   ]
  },
  {
   "cell_type": "code",
   "execution_count": 32,
   "metadata": {},
   "outputs": [
    {
     "output_type": "execute_result",
     "data": {
      "text/plain": [
       "52.0"
      ]
     },
     "metadata": {},
     "execution_count": 32
    }
   ],
   "source": [
    "np.median(arr)"
   ]
  },
  {
   "cell_type": "code",
   "execution_count": 33,
   "metadata": {},
   "outputs": [],
   "source": [
    "arr = np.append(arr, [1000,2000])"
   ]
  },
  {
   "cell_type": "code",
   "execution_count": 34,
   "metadata": {},
   "outputs": [
    {
     "output_type": "execute_result",
     "data": {
      "text/plain": [
       "(102,)"
      ]
     },
     "metadata": {},
     "execution_count": 34
    }
   ],
   "source": [
    "arr.shape"
   ]
  },
  {
   "cell_type": "code",
   "execution_count": 35,
   "metadata": {},
   "outputs": [
    {
     "output_type": "execute_result",
     "data": {
      "text/plain": [
       "80.33333333333333"
      ]
     },
     "metadata": {},
     "execution_count": 35
    }
   ],
   "source": [
    "np.mean(arr) #Sensitive to outliers"
   ]
  },
  {
   "cell_type": "code",
   "execution_count": 36,
   "metadata": {},
   "outputs": [
    {
     "output_type": "execute_result",
     "data": {
      "text/plain": [
       "52.5"
      ]
     },
     "metadata": {},
     "execution_count": 36
    }
   ],
   "source": [
    "np.median(arr) #Not very sensitive to outliers"
   ]
  },
  {
   "source": [
    "#### 3. Effect of scaling"
   ],
   "cell_type": "markdown",
   "metadata": {}
  },
  {
   "cell_type": "code",
   "execution_count": 37,
   "metadata": {},
   "outputs": [],
   "source": [
    "arr = np.random.rand(100)"
   ]
  },
  {
   "cell_type": "code",
   "execution_count": 38,
   "metadata": {},
   "outputs": [
    {
     "output_type": "execute_result",
     "data": {
      "text/plain": [
       "array([0.63971718, 0.50755881, 0.75736564, 0.55088303, 0.83036627,\n",
       "       0.6023159 , 0.28699838, 0.21989396, 0.52456152, 0.00362468,\n",
       "       0.77321122, 0.5995344 , 0.62095704, 0.09331992, 0.60836431,\n",
       "       0.54443705, 0.157797  , 0.18370924, 0.85692873, 0.41273396,\n",
       "       0.53503299, 0.26486337, 0.62881707, 0.30691189, 0.87108953,\n",
       "       0.24475685, 0.8364305 , 0.78429667, 0.23007036, 0.6734686 ,\n",
       "       0.65993273, 0.32398955, 0.23280413, 0.48359341, 0.35869615,\n",
       "       0.10508374, 0.10355177, 0.66830698, 0.97743508, 0.36562527,\n",
       "       0.62284434, 0.36692113, 0.47076746, 0.97397239, 0.97271379,\n",
       "       0.61940955, 0.20169573, 0.37185569, 0.74681543, 0.38900146,\n",
       "       0.11701973, 0.52597966, 0.70887389, 0.89729666, 0.33788534,\n",
       "       0.01165037, 0.60159207, 0.05714497, 0.9489826 , 0.48182479,\n",
       "       0.19192102, 0.85208663, 0.07054374, 0.36548703, 0.96126239,\n",
       "       0.7121547 , 0.69210951, 0.76773074, 0.98645032, 0.16275885,\n",
       "       0.54692692, 0.08448191, 0.15218856, 0.55534071, 0.25521555,\n",
       "       0.44277653, 0.56241892, 0.25925978, 0.58373571, 0.16155602,\n",
       "       0.7775214 , 0.07918858, 0.29977553, 0.55103919, 0.5847955 ,\n",
       "       0.186571  , 0.05083503, 0.65522025, 0.34656826, 0.46264653,\n",
       "       0.30955922, 0.14087894, 0.33154446, 0.32504694, 0.12248383,\n",
       "       0.59108881, 0.65057329, 0.88402966, 0.73355221, 0.74001966])"
      ]
     },
     "metadata": {},
     "execution_count": 38
    }
   ],
   "source": [
    "arr"
   ]
  },
  {
   "cell_type": "code",
   "execution_count": 40,
   "metadata": {},
   "outputs": [
    {
     "output_type": "execute_result",
     "data": {
      "text/plain": [
       "0.4804262573681401"
      ]
     },
     "metadata": {},
     "execution_count": 40
    }
   ],
   "source": [
    "np.mean(arr)"
   ]
  },
  {
   "cell_type": "code",
   "execution_count": 41,
   "metadata": {},
   "outputs": [
    {
     "output_type": "execute_result",
     "data": {
      "text/plain": [
       "0.5160601621183059"
      ]
     },
     "metadata": {},
     "execution_count": 41
    }
   ],
   "source": [
    "np.median(arr)"
   ]
  },
  {
   "cell_type": "code",
   "execution_count": 43,
   "metadata": {},
   "outputs": [],
   "source": [
    "arr1 = 2.5 * arr + 0.7"
   ]
  },
  {
   "cell_type": "code",
   "execution_count": 45,
   "metadata": {},
   "outputs": [
    {
     "output_type": "execute_result",
     "data": {
      "text/plain": [
       "(1.90106564342035, 1.9010656434203501)"
      ]
     },
     "metadata": {},
     "execution_count": 45
    }
   ],
   "source": [
    "np.mean(arr1), 2.5 * np.mean(arr) + 0.7"
   ]
  },
  {
   "cell_type": "code",
   "execution_count": 46,
   "metadata": {},
   "outputs": [
    {
     "output_type": "execute_result",
     "data": {
      "text/plain": [
       "(1.9901504052957644, 1.9901504052957646)"
      ]
     },
     "metadata": {},
     "execution_count": 46
    }
   ],
   "source": [
    "np.median(arr1), 2.5 * np.median(arr) + 0.7"
   ]
  },
  {
   "cell_type": "code",
   "execution_count": 48,
   "metadata": {},
   "outputs": [
    {
     "output_type": "execute_result",
     "data": {
      "text/plain": [
       "(0.4504629860206, 0.88018519440824, 0.45046298602059986)"
      ]
     },
     "metadata": {},
     "execution_count": 48
    }
   ],
   "source": [
    "np.var(arr1), 2.5 * np.var(arr) + 0.7, 2.5 * 2.5 * np.var(arr)"
   ]
  },
  {
   "cell_type": "code",
   "execution_count": 49,
   "metadata": {},
   "outputs": [
    {
     "output_type": "execute_result",
     "data": {
      "text/plain": [
       "(0.6711653939384836, 1.3711653939384836, 0.6711653939384836)"
      ]
     },
     "metadata": {},
     "execution_count": 49
    }
   ],
   "source": [
    "np.std(arr1), 2.5 * np.std(arr) + 0.7, 2.5 * np.std(arr)"
   ]
  },
  {
   "cell_type": "code",
   "execution_count": 50,
   "metadata": {},
   "outputs": [],
   "source": [
    "arr1 = np.random.rand(100)\n",
    "arr2 = np.random.rand(100)"
   ]
  },
  {
   "cell_type": "code",
   "execution_count": 54,
   "metadata": {},
   "outputs": [
    {
     "output_type": "execute_result",
     "data": {
      "text/plain": [
       "(-0.2808663317049484, -0.28086633170494835)"
      ]
     },
     "metadata": {},
     "execution_count": 54
    }
   ],
   "source": [
    "np.mean((0.21 * arr1 - 0.75 * arr2)), ((0.21 * np.mean(arr1)) - (0.75 * np.mean(arr2)))"
   ]
  },
  {
   "source": [
    "#### Problems\n"
   ],
   "cell_type": "markdown",
   "metadata": {}
  },
  {
   "source": [
    "1. Mean, median,iqr for ST, RD, I \n",
    "2. Histogram of ST with 10 bins\n",
    "3. Mean of ST grouped by 25. \n",
    "4. Mean of ST where he has scored a century\n",
    "5. Mean of ST where RD's score is less than 10\n",
    "6. Mean of ST based on quartile of I's scores\n",
    "7. Max score for each match\n",
    "8. How many more runs Sachin scores on average after having scored x runs   \n",
    "9.How many matches did ST take to score 1000 runs, next 1000, etc\n"
   ],
   "cell_type": "markdown",
   "metadata": {}
  },
  {
   "cell_type": "code",
   "execution_count": 58,
   "metadata": {},
   "outputs": [],
   "source": [
    "runs = np.genfromtxt(\"C:/Users/apoor/Desktop/Programs/Python Programs/cric-data.tsv\",skip_header=1, usecols=(1,2,3)).T\n"
   ]
  },
  {
   "cell_type": "code",
   "execution_count": 59,
   "metadata": {},
   "outputs": [
    {
     "output_type": "execute_result",
     "data": {
      "text/plain": [
       "array([[100.,  11.,   8.,  71., 104.,  18.,   8.,  86.,  12.,  85.,  18.,\n",
       "          4.,   7.,  37.,  14.,   0.,   4.,   0.,  21.,   1.,  62.,   0.,\n",
       "        138.,  38.,   2.,  46.,  65.,   0.,  39.,  48., 141.,  62.,  12.,\n",
       "          1.,  41.,  11.,   3., 186.,  11.,  27.,  27.,  51.,  18.,  32.,\n",
       "        146.,   5.,  45., 141.,  12.,  65.,  27.,   7.,  16.,   2.,  28.,\n",
       "          6., 123., 120.,   7.,   3.,   0.,  81.,   2.,  54., 122.,   4.,\n",
       "         14.,   0., 100.,  15.,   0.,  57.,  99.,  37.,  38.,  32.,  21.,\n",
       "         32.,  40.,   0.,   5.,   8.,   5.,   0.,  50.,  30.,  37.,  89.,\n",
       "          4.,  98.,  83.,  93.,   0.,  52., 152.,   1.,   8.,  93.,  45.,\n",
       "         26.,   0.,   1.,   0.,  16.,  47.,  89.,   3.,   1.,  53.,  16.,\n",
       "          0.,  81.,  14.,  78.,   6., 105., 122.,   9.,   8.,  28.,  35.,\n",
       "         69.,  13.,  97.,  93.,   2.,  36.,  39.,   2.,  29.,  12.,  19.,\n",
       "         34.,   2., 100.,  44.,  82.,   0.,  79.,   6.,   9.,   8.,  23.,\n",
       "         93.,  35.,  63.,  74.,   8., 117.,  39.,  49.,  64.,  43.,  72.,\n",
       "          5.,  17.,   0.,  65.,  20., 141.,  28.,  44.,  27.,  60.,  68.,\n",
       "          3., 139.,  31.,   2.,  44.,  47.,   6.,  17.,  35.,  88., 114.,\n",
       "          7., 127.,   0.,  45.,  33., 110., 146.,   7.,  25.,   9.,   2.,\n",
       "         11.,  17.,  14.,   1.,  45.,  94.,  28.,   4.,  62.,   1.,   9.,\n",
       "         67.,  10.,  99.,  55.,   0.,   1., 101.,   2.,   1.,  16., 140.,\n",
       "         23., 113.,  10.,   1.,  41.,   1.,  28.,   2.,  22.,  29.,   1.,\n",
       "         25., 102.,   0.,  27.,  40.],\n",
       "       [ 78.,  62.,  85.,  24.,  17., 104.,  76.,  74.,  60.,  12.,  63.,\n",
       "        107.,  76.,   4.,   5.,  33.,   7.,   0.,  36.,  66.,   0., 123.,\n",
       "         39.,   9.,  11.,  14.,   0.,   0.,  26.,   4.,  48.,   7.,  73.,\n",
       "         86.,  32.,  82.,  25., 153.,  26.,   1.,   6.,   3.,   1.,  39.,\n",
       "         30.,  32.,  84.,  36.,  31.,   0.,  47.,  13.,  49.,  28.,   0.,\n",
       "         28.,  19.,  13.,  14.,  11., 103.,  43.,   5.,   5.,  15.,   0.,\n",
       "          5.,  30.,   4.,  53.,  60.,   7.,  74.,  71.,  54.,  13.,  69.,\n",
       "         33.,  29.,   2.,   8.,  36.,  51.,   8.,  62.,   0.,  22.,  39.,\n",
       "        104.,  44.,   1.,   2.,   0.,  17.,   0.,  14.,  62.,  15.,  68.,\n",
       "         17.,   0.,  22.,  25.,  29.,  60.,  34.,  65.,   3.,   7.,  16.,\n",
       "          0.,   4.,  53.,   5.,  23.,  82.,   3.,   0.,  20.,  21.,  80.,\n",
       "         22.,   8.,  18.,  24.,  50.,   1.,  42.,  61.,   0.,   6.,  64.,\n",
       "          9.,  46.,   0.,   0.,   0.,   0.,  13.,   0.,  72.,  12.,  38.,\n",
       "         79.,  18.,  16.,  16.,  56.,  21.,  58.,   8.,   0.,   0.,   7.,\n",
       "         13.,  77.,  29.,  20.,  90.,  26.,  54.,  17.,  78.,  57.,  59.,\n",
       "         10.,  15.,  54.,  52.,   9.,   0.,  18.,   3.,   4.,   6.,  16.,\n",
       "         71.,  64.,   7.,  61.,   1.,   7.,   0.,   0.,  26.,  19.,  63.,\n",
       "          3.,  46.,  31.,  12.,  49.,   4.,  99.,  47.,  56.,  73.,  74.,\n",
       "         31.,  29.,  92.,   1.,   0.,  30.,  16., 145.,  22.,  31., 104.,\n",
       "         20.,  13.,  52.,  31.,  12.,  50.,   3.,   9.,  53.,  49.,  21.,\n",
       "         14.,  50.,  22.,   0.,   0.],\n",
       "       [342., 191., 252., 307., 229., 246., 226., 288., 216., 224., 161.,\n",
       "        276., 283., 297., 139., 224., 178.,   0., 193., 231., 134., 246.,\n",
       "        299., 242., 214., 152., 104.,   4., 155., 168., 282., 228., 231.,\n",
       "        238., 255., 273., 143., 345., 134., 292., 299., 233., 332., 276.,\n",
       "        264., 213., 224., 306., 259., 141., 155., 183., 309., 208., 124.,\n",
       "        208., 305., 273., 186., 163., 239., 274., 182., 256., 227., 157.,\n",
       "        353., 271., 211., 141., 243., 499., 229., 234., 259., 242., 223.,\n",
       "        184., 125., 195., 154., 142., 197., 213., 256., 197., 177., 167.,\n",
       "        366., 269., 292., 218.,   0., 199., 319., 245., 274., 208., 201.,\n",
       "        275., 134.,  68., 149., 216., 407., 302., 197., 222., 224., 321.,\n",
       "          0., 162., 221., 204., 213., 286., 272., 382., 229., 175., 360.,\n",
       "        256., 165., 335., 188., 146., 113., 241., 211., 225.,  35., 163.,\n",
       "        200., 176., 269., 284., 175.,  27., 282., 141., 229., 213., 205.,\n",
       "        279.,  88., 284., 207., 224., 204., 280., 197., 205., 230., 323.,\n",
       "        209., 210., 162., 272., 251., 286., 228., 148., 272., 309., 202.,\n",
       "        136., 281., 314., 419., 229., 133., 228., 143., 116., 194., 249.,\n",
       "        319., 205., 191., 213., 104., 210., 392.,  57., 213., 158., 163.,\n",
       "        166., 164., 238., 118., 189., 346., 390., 319., 276., 324., 213.,\n",
       "        207., 158., 304., 199.,   0., 195., 207., 352., 225., 236., 301.,\n",
       "        136., 327., 296., 176., 201., 171., 191.,  11., 211., 225., 290.,\n",
       "        101., 470., 165., 192., 213.]])"
      ]
     },
     "metadata": {},
     "execution_count": 59
    }
   ],
   "source": [
    "runs"
   ]
  },
  {
   "cell_type": "code",
   "execution_count": 60,
   "metadata": {},
   "outputs": [
    {
     "output_type": "execute_result",
     "data": {
      "text/plain": [
       "(3, 225)"
      ]
     },
     "metadata": {},
     "execution_count": 60
    }
   ],
   "source": [
    "runs.shape"
   ]
  },
  {
   "cell_type": "code",
   "execution_count": 92,
   "metadata": {},
   "outputs": [],
   "source": [
    "sachin = runs[0]\n",
    "rahul =runs[1]\n",
    "india = runs[2]"
   ]
  },
  {
   "source": [
    "1. "
   ],
   "cell_type": "markdown",
   "metadata": {}
  },
  {
   "cell_type": "code",
   "execution_count": 61,
   "metadata": {},
   "outputs": [],
   "source": [
    "sachin_mean  = np.mean(runs[0])"
   ]
  },
  {
   "cell_type": "code",
   "execution_count": 62,
   "metadata": {},
   "outputs": [
    {
     "output_type": "execute_result",
     "data": {
      "text/plain": [
       "39.87555555555556"
      ]
     },
     "metadata": {},
     "execution_count": 62
    }
   ],
   "source": [
    "sachin_mean"
   ]
  },
  {
   "cell_type": "code",
   "execution_count": 70,
   "metadata": {},
   "outputs": [],
   "source": [
    "sachin_median = np.median(runs[0])"
   ]
  },
  {
   "cell_type": "code",
   "execution_count": 71,
   "metadata": {},
   "outputs": [
    {
     "output_type": "execute_result",
     "data": {
      "text/plain": [
       "27.0"
      ]
     },
     "metadata": {},
     "execution_count": 71
    }
   ],
   "source": [
    "sachin_median"
   ]
  },
  {
   "cell_type": "code",
   "execution_count": 72,
   "metadata": {},
   "outputs": [],
   "source": [
    "sachin_iqr = np.percentile(runs[0], 75) - np.percentile(runs[0], 25) "
   ]
  },
  {
   "cell_type": "code",
   "execution_count": 73,
   "metadata": {},
   "outputs": [
    {
     "output_type": "execute_result",
     "data": {
      "text/plain": [
       "57.0"
      ]
     },
     "metadata": {},
     "execution_count": 73
    }
   ],
   "source": [
    "sachin_iqr"
   ]
  },
  {
   "cell_type": "code",
   "execution_count": 63,
   "metadata": {},
   "outputs": [],
   "source": [
    "rahul_mean = np.mean(runs[1])"
   ]
  },
  {
   "cell_type": "code",
   "execution_count": 65,
   "metadata": {},
   "outputs": [
    {
     "output_type": "execute_result",
     "data": {
      "text/plain": [
       "32.062222222222225"
      ]
     },
     "metadata": {},
     "execution_count": 65
    }
   ],
   "source": [
    "rahul_mean"
   ]
  },
  {
   "cell_type": "code",
   "execution_count": 76,
   "metadata": {},
   "outputs": [],
   "source": [
    "rahul_median = np.median(runs[1])"
   ]
  },
  {
   "cell_type": "code",
   "execution_count": 77,
   "metadata": {},
   "outputs": [
    {
     "output_type": "execute_result",
     "data": {
      "text/plain": [
       "22.0"
      ]
     },
     "metadata": {},
     "execution_count": 77
    }
   ],
   "source": [
    "rahul_median"
   ]
  },
  {
   "cell_type": "code",
   "execution_count": 78,
   "metadata": {},
   "outputs": [],
   "source": [
    "rahul_iqr = np.percentile(runs[1], 75) - np.percentile(runs[1], 25) "
   ]
  },
  {
   "cell_type": "code",
   "execution_count": 79,
   "metadata": {},
   "outputs": [
    {
     "output_type": "execute_result",
     "data": {
      "text/plain": [
       "46.0"
      ]
     },
     "metadata": {},
     "execution_count": 79
    }
   ],
   "source": [
    "rahul_iqr"
   ]
  },
  {
   "cell_type": "code",
   "execution_count": 66,
   "metadata": {},
   "outputs": [],
   "source": [
    "india_mean = np.mean(runs[2])"
   ]
  },
  {
   "cell_type": "code",
   "execution_count": 67,
   "metadata": {},
   "outputs": [
    {
     "output_type": "execute_result",
     "data": {
      "text/plain": [
       "220.79555555555555"
      ]
     },
     "metadata": {},
     "execution_count": 67
    }
   ],
   "source": [
    "india_mean"
   ]
  },
  {
   "cell_type": "code",
   "execution_count": 81,
   "metadata": {},
   "outputs": [
    {
     "output_type": "execute_result",
     "data": {
      "text/plain": [
       "216.0"
      ]
     },
     "metadata": {},
     "execution_count": 81
    }
   ],
   "source": [
    "india_median = np.median(runs[2])\n",
    "india_median"
   ]
  },
  {
   "cell_type": "code",
   "execution_count": 82,
   "metadata": {},
   "outputs": [
    {
     "output_type": "execute_result",
     "data": {
      "text/plain": [
       "98.0"
      ]
     },
     "metadata": {},
     "execution_count": 82
    }
   ],
   "source": [
    "india_iqr = np.percentile(runs[2], 75) - np.percentile(runs[2], 25) \n",
    "india_iqr"
   ]
  },
  {
   "cell_type": "code",
   "execution_count": 84,
   "metadata": {},
   "outputs": [],
   "source": [
    "#More efficient\n",
    "def stats(p):\n",
    "    print(\" Mean: \",np.mean(p),\"\\n Median: \", np.median(p))\n",
    "    print(\" IQR: \", np.percentile(p, 75) - np.percentile(p, 25))"
   ]
  },
  {
   "cell_type": "code",
   "execution_count": null,
   "metadata": {},
   "outputs": [],
   "source": []
  },
  {
   "cell_type": "code",
   "execution_count": 91,
   "metadata": {},
   "outputs": [
    {
     "output_type": "stream",
     "name": "stdout",
     "text": [
      " Mean:  39.87555555555556 \n Median:  27.0\n IQR:  57.0\n Mean:  32.062222222222225 \n Median:  22.0\n IQR:  46.0\n Mean:  220.79555555555555 \n Median:  216.0\n IQR:  98.0\n"
     ]
    }
   ],
   "source": [
    "sachins = stats(runs[0])\n",
    "rahuls = stats(runs[1])\n",
    "indias = stats(runs[2])"
   ]
  },
  {
   "cell_type": "code",
   "execution_count": 89,
   "metadata": {},
   "outputs": [
    {
     "output_type": "stream",
     "name": "stdout",
     "text": [
      "Mean:  [ 39.87555556  32.06222222 220.79555556]\nMedian:  [ 27.  22. 216.]\nIQR:  [57. 46. 98.]\n"
     ]
    }
   ],
   "source": [
    "#Most efficient\n",
    "print(\"Mean: \", np.mean(runs, axis = 1))\n",
    "print(\"Median: \",np.median(runs,axis=1))\n",
    "print(\"IQR: \", np.percentile(runs,75,axis=1)-np.percentile(runs,25,axis=1))"
   ]
  },
  {
   "source": [
    "2."
   ],
   "cell_type": "markdown",
   "metadata": {}
  },
  {
   "cell_type": "code",
   "execution_count": 68,
   "metadata": {},
   "outputs": [],
   "source": [
    "sachin_histogram = np.histogram(runs[0], bins=10) #By default also takes bin size as 10"
   ]
  },
  {
   "cell_type": "code",
   "execution_count": 69,
   "metadata": {},
   "outputs": [
    {
     "output_type": "execute_result",
     "data": {
      "text/plain": [
       "(array([99, 36, 28, 16, 11, 17,  8,  8,  1,  1], dtype=int64),\n",
       " array([  0. ,  18.6,  37.2,  55.8,  74.4,  93. , 111.6, 130.2, 148.8,\n",
       "        167.4, 186. ]))"
      ]
     },
     "metadata": {},
     "execution_count": 69
    }
   ],
   "source": [
    "sachin_histogram"
   ]
  },
  {
   "source": [
    "3."
   ],
   "cell_type": "markdown",
   "metadata": {}
  },
  {
   "cell_type": "code",
   "execution_count": 93,
   "metadata": {},
   "outputs": [
    {
     "output_type": "execute_result",
     "data": {
      "text/plain": [
       "(225,)"
      ]
     },
     "metadata": {},
     "execution_count": 93
    }
   ],
   "source": [
    "sachin.shape"
   ]
  },
  {
   "cell_type": "code",
   "execution_count": 98,
   "metadata": {},
   "outputs": [
    {
     "output_type": "execute_result",
     "data": {
      "text/plain": [
       "array([33.96, 49.4 , 38.48, 40.16, 39.36, 38.2 , 44.6 , 39.52, 35.2 ])"
      ]
     },
     "metadata": {},
     "execution_count": 98
    }
   ],
   "source": [
    "np.mean(sachin.reshape(9,25), axis=1)"
   ]
  },
  {
   "source": [
    "4. and 5."
   ],
   "cell_type": "markdown",
   "metadata": {}
  },
  {
   "cell_type": "code",
   "execution_count": 101,
   "metadata": {},
   "outputs": [
    {
     "output_type": "execute_result",
     "data": {
      "text/plain": [
       "125.0"
      ]
     },
     "metadata": {},
     "execution_count": 101
    }
   ],
   "source": [
    "np.mean(sachin[sachin>=100])"
   ]
  },
  {
   "cell_type": "code",
   "execution_count": 105,
   "metadata": {},
   "outputs": [
    {
     "output_type": "execute_result",
     "data": {
      "text/plain": [
       "40.2112676056338"
      ]
     },
     "metadata": {},
     "execution_count": 105
    }
   ],
   "source": [
    "np.mean(sachin[rahul<=10])"
   ]
  },
  {
   "source": [
    "6. "
   ],
   "cell_type": "markdown",
   "metadata": {}
  },
  {
   "cell_type": "code",
   "execution_count": 108,
   "metadata": {},
   "outputs": [],
   "source": [
    "india_quartiles = np.percentile(india, [25,50,75,100])\n",
    "\n",
    "#If India <= 175, calc ST average\n",
    "#If India <= 216, calc ST average\n",
    "#If India <= 273, calc ST average\n",
    "#If India <= 499, calc ST average"
   ]
  },
  {
   "cell_type": "code",
   "execution_count": 112,
   "metadata": {},
   "outputs": [],
   "source": [
    "india_quartiles = india_quartiles.reshape(4,1)"
   ]
  },
  {
   "cell_type": "code",
   "execution_count": 113,
   "metadata": {},
   "outputs": [],
   "source": [
    "indices = india < india_quartiles"
   ]
  },
  {
   "cell_type": "code",
   "execution_count": 114,
   "metadata": {},
   "outputs": [
    {
     "output_type": "execute_result",
     "data": {
      "text/plain": [
       "(4, 225)"
      ]
     },
     "metadata": {},
     "execution_count": 114
    }
   ],
   "source": [
    "indices.shape"
   ]
  },
  {
   "cell_type": "code",
   "execution_count": 119,
   "metadata": {},
   "outputs": [
    {
     "output_type": "execute_result",
     "data": {
      "text/plain": [
       "array([18., 14.,  0., 62., 46., 65.,  0., 39., 48.,  3., 11., 65., 27.,\n",
       "       28.,  3.,  4., 15., 40.,  5.,  8., 89.,  0.,  0.,  1.,  0.,  0.,\n",
       "       81., 13.,  2., 36., 12., 19.,  0.,  6., 35.,  0., 44.,  3., 47.,\n",
       "       17., 35., 33.,  7.,  9.,  2., 11., 17.,  1., 10.,  0., 23.,  1.,\n",
       "        2., 25.,  0.])"
      ]
     },
     "metadata": {},
     "execution_count": 119
    }
   ],
   "source": [
    "sachin[indices[0,:]]"
   ]
  },
  {
   "cell_type": "code",
   "execution_count": 121,
   "metadata": {},
   "outputs": [
    {
     "output_type": "stream",
     "name": "stdout",
     "text": [
      "1 19.672727272727272\n2 28.18018018018018\n3 31.688622754491018\n4 39.799107142857146\n"
     ]
    }
   ],
   "source": [
    "for i in range(4):\n",
    "    print (i+1, np.mean(sachin[indices[i,:]]))"
   ]
  },
  {
   "source": [
    "7."
   ],
   "cell_type": "markdown",
   "metadata": {}
  },
  {
   "cell_type": "code",
   "execution_count": 124,
   "metadata": {},
   "outputs": [],
   "source": [
    "match = runs[0:2,:].T"
   ]
  },
  {
   "cell_type": "code",
   "execution_count": 130,
   "metadata": {},
   "outputs": [],
   "source": [
    "who_higher = match.argmax(axis=1)"
   ]
  },
  {
   "cell_type": "code",
   "execution_count": 131,
   "metadata": {},
   "outputs": [
    {
     "output_type": "execute_result",
     "data": {
      "text/plain": [
       "array(['Sachin', 'Rahul', 'Rahul', 'Sachin', 'Sachin', 'Rahul', 'Rahul',\n",
       "       'Sachin', 'Rahul', 'Sachin', 'Rahul', 'Rahul', 'Rahul', 'Sachin',\n",
       "       'Sachin', 'Rahul', 'Rahul', 'Sachin', 'Rahul', 'Rahul', 'Sachin',\n",
       "       'Rahul', 'Sachin', 'Sachin', 'Rahul', 'Sachin', 'Sachin', 'Sachin',\n",
       "       'Sachin', 'Sachin', 'Sachin', 'Sachin', 'Rahul', 'Rahul', 'Sachin',\n",
       "       'Rahul', 'Rahul', 'Sachin', 'Rahul', 'Sachin', 'Sachin', 'Sachin',\n",
       "       'Sachin', 'Rahul', 'Sachin', 'Rahul', 'Rahul', 'Sachin', 'Rahul',\n",
       "       'Sachin', 'Rahul', 'Rahul', 'Rahul', 'Rahul', 'Sachin', 'Rahul',\n",
       "       'Sachin', 'Sachin', 'Rahul', 'Rahul', 'Rahul', 'Sachin', 'Rahul',\n",
       "       'Sachin', 'Sachin', 'Sachin', 'Sachin', 'Rahul', 'Sachin', 'Rahul',\n",
       "       'Rahul', 'Sachin', 'Sachin', 'Rahul', 'Rahul', 'Sachin', 'Rahul',\n",
       "       'Rahul', 'Sachin', 'Rahul', 'Rahul', 'Rahul', 'Rahul', 'Rahul',\n",
       "       'Rahul', 'Sachin', 'Sachin', 'Sachin', 'Rahul', 'Sachin', 'Sachin',\n",
       "       'Sachin', 'Sachin', 'Sachin', 'Sachin', 'Rahul', 'Rahul', 'Sachin',\n",
       "       'Rahul', 'Sachin', 'Sachin', 'Rahul', 'Rahul', 'Rahul', 'Rahul',\n",
       "       'Sachin', 'Rahul', 'Rahul', 'Sachin', 'Sachin', 'Sachin', 'Sachin',\n",
       "       'Rahul', 'Sachin', 'Rahul', 'Sachin', 'Sachin', 'Sachin', 'Rahul',\n",
       "       'Sachin', 'Rahul', 'Sachin', 'Sachin', 'Sachin', 'Sachin', 'Rahul',\n",
       "       'Sachin', 'Rahul', 'Rahul', 'Sachin', 'Sachin', 'Rahul', 'Sachin',\n",
       "       'Rahul', 'Sachin', 'Sachin', 'Sachin', 'Sachin', 'Sachin',\n",
       "       'Sachin', 'Rahul', 'Rahul', 'Rahul', 'Sachin', 'Sachin', 'Sachin',\n",
       "       'Sachin', 'Rahul', 'Sachin', 'Rahul', 'Sachin', 'Sachin', 'Sachin',\n",
       "       'Sachin', 'Rahul', 'Rahul', 'Rahul', 'Sachin', 'Rahul', 'Sachin',\n",
       "       'Rahul', 'Sachin', 'Rahul', 'Sachin', 'Sachin', 'Rahul', 'Sachin',\n",
       "       'Rahul', 'Rahul', 'Sachin', 'Sachin', 'Rahul', 'Sachin', 'Sachin',\n",
       "       'Sachin', 'Sachin', 'Rahul', 'Sachin', 'Rahul', 'Rahul', 'Sachin',\n",
       "       'Sachin', 'Sachin', 'Sachin', 'Rahul', 'Rahul', 'Rahul', 'Sachin',\n",
       "       'Rahul', 'Rahul', 'Rahul', 'Rahul', 'Sachin', 'Rahul', 'Rahul',\n",
       "       'Sachin', 'Rahul', 'Rahul', 'Sachin', 'Rahul', 'Sachin', 'Sachin',\n",
       "       'Sachin', 'Rahul', 'Sachin', 'Rahul', 'Rahul', 'Rahul', 'Sachin',\n",
       "       'Sachin', 'Sachin', 'Rahul', 'Rahul', 'Sachin', 'Rahul', 'Sachin',\n",
       "       'Rahul', 'Rahul', 'Rahul', 'Rahul', 'Sachin', 'Sachin', 'Rahul',\n",
       "       'Sachin', 'Sachin'], dtype='<U6')"
      ]
     },
     "metadata": {},
     "execution_count": 131
    }
   ],
   "source": [
    "np.where(who_higher==0, \"Sachin\", \"Rahul\")"
   ]
  },
  {
   "source": [
    "8. "
   ],
   "cell_type": "markdown",
   "metadata": {}
  },
  {
   "cell_type": "code",
   "execution_count": 133,
   "metadata": {},
   "outputs": [],
   "source": [
    "x_arr = np.arange(0,101,5)"
   ]
  },
  {
   "cell_type": "code",
   "execution_count": 139,
   "metadata": {},
   "outputs": [],
   "source": [
    "x_arr = x_arr.reshape(x_arr.shape[0],1)"
   ]
  },
  {
   "cell_type": "code",
   "execution_count": 140,
   "metadata": {},
   "outputs": [],
   "source": [
    "indices = sachin >= x_arr"
   ]
  },
  {
   "cell_type": "code",
   "execution_count": 141,
   "metadata": {},
   "outputs": [
    {
     "output_type": "execute_result",
     "data": {
      "text/plain": [
       "(21, 225)"
      ]
     },
     "metadata": {},
     "execution_count": 141
    }
   ],
   "source": [
    "indices.shape"
   ]
  },
  {
   "cell_type": "code",
   "execution_count": 144,
   "metadata": {},
   "outputs": [
    {
     "output_type": "stream",
     "name": "stdout",
     "text": [
      "0 39.87555555555556\n5 45.61363636363637\n10 47.48026315789474\n15 47.45255474452555\n20 46.824\n25 44.10084033613445\n30 45.13461538461539\n35 43.24742268041237\n40 44.05882352941177\n45 43.41558441558441\n50 43.98529411764706\n55 42.317460317460316\n60 38.67213114754098\n65 37.654545454545456\n70 37.08163265306123\n75 34.34782608695652\n80 30.75\n85 28.65\n90 27.4\n95 26.433333333333334\n100 25.0\n"
     ]
    }
   ],
   "source": [
    "for i in range(x_arr.shape[0]):\n",
    "    print(x_arr[i,0], np.mean(sachin[indices[i,:]] - x_arr[i,0]))"
   ]
  },
  {
   "source": [
    "9. "
   ],
   "cell_type": "markdown",
   "metadata": {}
  },
  {
   "cell_type": "code",
   "execution_count": 146,
   "metadata": {},
   "outputs": [
    {
     "output_type": "execute_result",
     "data": {
      "text/plain": [
       "(array([29, 18, 26, 25, 26, 26, 23, 22, 30], dtype=int64),\n",
       " array([   0, 1000, 2000, 3000, 4000, 5000, 6000, 7000, 8000, 9000]))"
      ]
     },
     "metadata": {},
     "execution_count": 146
    }
   ],
   "source": [
    "np.histogram(np.cumsum(sachin), bins = np.arange(0,10000,1000))"
   ]
  },
  {
   "source": [
    "## Test"
   ],
   "cell_type": "markdown",
   "metadata": {}
  },
  {
   "cell_type": "code",
   "execution_count": 147,
   "metadata": {},
   "outputs": [
    {
     "output_type": "stream",
     "name": "stdout",
     "text": [
      "inf\n"
     ]
    }
   ],
   "source": [
    "a = np.array([10,12,1,5])\n",
    "a = a/0.0\n",
    "print(a[0])"
   ]
  },
  {
   "cell_type": "code",
   "execution_count": 148,
   "metadata": {},
   "outputs": [
    {
     "output_type": "stream",
     "name": "stdout",
     "text": [
      "[3 4 5]\n"
     ]
    }
   ],
   "source": [
    "a = np.array([1,2,3,4,5])\n",
    "print(a[2:None])"
   ]
  },
  {
   "cell_type": "code",
   "execution_count": 149,
   "metadata": {},
   "outputs": [
    {
     "output_type": "error",
     "ename": "TypeError",
     "evalue": "'builtin_function_or_method' object is not subscriptable",
     "traceback": [
      "\u001b[1;31m---------------------------------------------------------------------------\u001b[0m",
      "\u001b[1;31mTypeError\u001b[0m                                 Traceback (most recent call last)",
      "\u001b[1;32m<ipython-input-149-09d9eced32a7>\u001b[0m in \u001b[0;36m<module>\u001b[1;34m\u001b[0m\n\u001b[1;32m----> 1\u001b[1;33m \u001b[0ma\u001b[0m \u001b[1;33m=\u001b[0m \u001b[0mnp\u001b[0m\u001b[1;33m.\u001b[0m\u001b[0marray\u001b[0m\u001b[1;33m[\u001b[0m\u001b[1;33m[\u001b[0m\u001b[1;36m1\u001b[0m\u001b[1;33m,\u001b[0m\u001b[1;36m2\u001b[0m\u001b[1;33m,\u001b[0m\u001b[1;36m3\u001b[0m\u001b[1;33m,\u001b[0m\u001b[1;33m]\u001b[0m\u001b[1;33m,\u001b[0m\u001b[1;33m[\u001b[0m\u001b[1;36m4\u001b[0m\u001b[1;33m,\u001b[0m\u001b[1;36m5\u001b[0m\u001b[1;33m,\u001b[0m\u001b[1;36m6\u001b[0m\u001b[1;33m]\u001b[0m\u001b[1;33m]\u001b[0m\u001b[1;33m\u001b[0m\u001b[1;33m\u001b[0m\u001b[0m\n\u001b[0m\u001b[0;32m      2\u001b[0m \u001b[0mprint\u001b[0m\u001b[1;33m(\u001b[0m\u001b[0ma\u001b[0m\u001b[1;33m[\u001b[0m\u001b[1;36m1\u001b[0m\u001b[1;33m]\u001b[0m\u001b[1;33m[\u001b[0m\u001b[1;36m2\u001b[0m\u001b[1;33m]\u001b[0m\u001b[1;33m)\u001b[0m\u001b[1;33m\u001b[0m\u001b[1;33m\u001b[0m\u001b[0m\n",
      "\u001b[1;31mTypeError\u001b[0m: 'builtin_function_or_method' object is not subscriptable"
     ]
    }
   ],
   "source": [
    "a = np.array[[1,2,3,],[4,5,6]]\n",
    "print(a[1][2])"
   ]
  },
  {
   "cell_type": "code",
   "execution_count": null,
   "metadata": {},
   "outputs": [],
   "source": []
  }
 ]
}